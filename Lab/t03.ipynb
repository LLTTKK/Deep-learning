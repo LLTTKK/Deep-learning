{
  "cells": [
    {
      "cell_type": "markdown",
      "id": "adac3692-135c-4a12-9394-391e108a0241",
      "metadata": {
        "id": "adac3692-135c-4a12-9394-391e108a0241"
      },
      "source": [
        "# COMP S493F Lab 3"
      ]
    },
    {
      "cell_type": "code",
      "execution_count": null,
      "id": "75c66123-4403-4374-aba0-827d023f4fe2",
      "metadata": {
        "colab": {
          "base_uri": "https://localhost:8080/"
        },
        "id": "75c66123-4403-4374-aba0-827d023f4fe2",
        "outputId": "59f1a820-3801-421f-ea07-99c6e0791a53",
        "tags": []
      },
      "outputs": [
        {
          "name": "stdout",
          "output_type": "stream",
          "text": [
            "env: TF_CPP_MIN_LOG_LEVEL=2\n"
          ]
        }
      ],
      "source": [
        "%env TF_CPP_MIN_LOG_LEVEL=2"
      ]
    },
    {
      "cell_type": "markdown",
      "id": "5c9d9e0b-efaf-4aa9-8ff1-2e1d50add05d",
      "metadata": {
        "id": "5c9d9e0b-efaf-4aa9-8ff1-2e1d50add05d"
      },
      "source": [
        "In this lesson, you'll work on:\n",
        "\n",
        "- basic linear algebra using NumPy, and\n",
        "- more NumPy array indexing."
      ]
    },
    {
      "cell_type": "markdown",
      "id": "0f5fc271-7a18-4bb6-ab9b-277082e08ee2",
      "metadata": {
        "id": "0f5fc271-7a18-4bb6-ab9b-277082e08ee2"
      },
      "source": [
        "### Student name: *Lo Tsz Kin*\n"
      ]
    },
    {
      "cell_type": "markdown",
      "id": "14d2490d-2243-4a58-a583-d93e892b25da",
      "metadata": {
        "id": "14d2490d-2243-4a58-a583-d93e892b25da"
      },
      "source": [
        "# Basic linear algebra using NumPy"
      ]
    },
    {
      "cell_type": "markdown",
      "id": "7a39d4f3-c11c-4630-8441-9a28b52d5728",
      "metadata": {
        "id": "7a39d4f3-c11c-4630-8441-9a28b52d5728"
      },
      "source": [
        "Linear algebra is an important topic in the implementation of neural networks. In this section, we examine dot product and matrix product using the NumPy library."
      ]
    },
    {
      "cell_type": "markdown",
      "id": "9cfcde5e-9302-4e8d-bfcd-131285328b83",
      "metadata": {
        "id": "9cfcde5e-9302-4e8d-bfcd-131285328b83"
      },
      "source": [
        "## Dot product of vectors\n",
        "\n",
        "Let's begin with basic vector operations. The code below creates two vectors as 1D NumPy arrays, `a` and `b`, both with shape `(3,)`."
      ]
    },
    {
      "cell_type": "code",
      "execution_count": null,
      "id": "b3afe021-4048-4dc4-a38b-10eab95f9586",
      "metadata": {
        "colab": {
          "base_uri": "https://localhost:8080/"
        },
        "id": "b3afe021-4048-4dc4-a38b-10eab95f9586",
        "outputId": "321269dc-1fd7-46ab-de39-70af47072c14"
      },
      "outputs": [
        {
          "name": "stdout",
          "output_type": "stream",
          "text": [
            "[1 2 3] (3,)\n",
            "[10 20 30] (3,)\n"
          ]
        }
      ],
      "source": [
        "import numpy as np\n",
        "a = np.array([1, 2, 3])\n",
        "b = np.array([10, 20, 30])\n",
        "print(a, a.shape)\n",
        "print(b, b.shape)\n",
        "\n",
        "#(3,) is a python tuple of 1 item"
      ]
    },
    {
      "cell_type": "markdown",
      "id": "e8ab0879-b0d2-4925-a37f-bc7c1480ec6f",
      "metadata": {
        "id": "e8ab0879-b0d2-4925-a37f-bc7c1480ec6f"
      },
      "source": [
        "NumPy supports element-wise operations, such as using the `+`, `-`, `*`, and `/` operators. In the following, `a + 100` adds 100 to each element of `a`; `a + b` adds the corresponding elements in `a` and `b`, and `a * b` multiplies the corresponding elements in `a` and `b`. In all 3 cases, the results are 1D arrays with shape `(3,)`."
      ]
    },
    {
      "cell_type": "code",
      "execution_count": null,
      "id": "1a2edc7e-c16c-4099-9e1a-fcd726cbf53d",
      "metadata": {
        "colab": {
          "base_uri": "https://localhost:8080/"
        },
        "id": "1a2edc7e-c16c-4099-9e1a-fcd726cbf53d",
        "outputId": "8ae714a3-3c44-4c10-9f5b-01253c6699cb"
      },
      "outputs": [
        {
          "name": "stdout",
          "output_type": "stream",
          "text": [
            "[101 102 103]\n",
            "[11 22 33]\n",
            "[10 40 90]\n"
          ]
        }
      ],
      "source": [
        "print(a + 100)\n",
        "print(a + b)\n",
        "print(a * b)"
      ]
    },
    {
      "cell_type": "code",
      "execution_count": null,
      "id": "D217tZfwZq4y",
      "metadata": {
        "colab": {
          "base_uri": "https://localhost:8080/"
        },
        "id": "D217tZfwZq4y",
        "outputId": "a3388d4d-0b90-4be7-b30d-7c6db51df8d6"
      },
      "outputs": [
        {
          "name": "stdout",
          "output_type": "stream",
          "text": [
            "[6 7 8]\n"
          ]
        }
      ],
      "source": [
        "print(a+ np.array([5]))"
      ]
    },
    {
      "cell_type": "markdown",
      "id": "ce2729c7-bfdd-41d3-8a6e-b2da6b1139bc",
      "metadata": {
        "id": "ce2729c7-bfdd-41d3-8a6e-b2da6b1139bc"
      },
      "source": [
        "Dot product of vectors can be obtained in several ways: the `@` operator, the `dot()` method, the `np.dot()` function, and the `np.matmul()` function. In all 4 cases below, the result is 140 (= 1&times;10 + 2&times;20 + 3&times;30)."
      ]
    },
    {
      "cell_type": "code",
      "execution_count": null,
      "id": "2f9e625f-5615-4ada-9aee-2927ed9e9e33",
      "metadata": {
        "colab": {
          "base_uri": "https://localhost:8080/"
        },
        "id": "2f9e625f-5615-4ada-9aee-2927ed9e9e33",
        "outputId": "d0985870-d5a2-44f2-b72b-6c237de8c14a"
      },
      "outputs": [
        {
          "name": "stdout",
          "output_type": "stream",
          "text": [
            "140\n",
            "140\n",
            "140\n",
            "140\n"
          ]
        }
      ],
      "source": [
        "print(a @ b)\n",
        "print(a.dot(b))\n",
        "print(np.dot(a, b))\n",
        "print(np.matmul(a, b))"
      ]
    },
    {
      "cell_type": "markdown",
      "id": "b974b8f6-2e7d-4a3b-8210-58426eb21bfd",
      "metadata": {
        "id": "b974b8f6-2e7d-4a3b-8210-58426eb21bfd"
      },
      "source": [
        "## Matrix product\n",
        "\n",
        "Let's turn to matrix product. The code below creates two matrices: a 2&times;3 matrix called `c` and a 3&times;2 matrix called `d`. Recall that the matrix product operation requires that the last dimension of the first matrix (here 3 in 2&times;3 of `c`) equals the first dimension of the second matrix (here 3 in 3&times;2 of `d`)."
      ]
    },
    {
      "cell_type": "code",
      "execution_count": null,
      "id": "33ff94d0-7bce-4d99-8cdc-5795f051763c",
      "metadata": {
        "colab": {
          "base_uri": "https://localhost:8080/"
        },
        "id": "33ff94d0-7bce-4d99-8cdc-5795f051763c",
        "outputId": "3e4706f7-1913-42c1-b652-908e1eef2a0b"
      },
      "outputs": [
        {
          "name": "stdout",
          "output_type": "stream",
          "text": [
            "[[1 2 3]\n",
            " [4 5 6]] (2, 3)\n",
            "[[10 20]\n",
            " [30 40]\n",
            " [50 60]] (3, 2)\n"
          ]
        }
      ],
      "source": [
        "c = np.array([[1, 2, 3], [4, 5, 6]])\n",
        "d = np.array([[10, 20], [30, 40], [50, 60]])\n",
        "print(c, c.shape)\n",
        "print(d, d.shape)\n",
        "\n",
        "#Want to * the matrix c( dim: 2,3) * d (dim: 3 :2) Must be equle in the C2 and D1"
      ]
    },
    {
      "cell_type": "markdown",
      "id": "41ca6e27-bfdf-4fc0-9615-0f9fbf461fa2",
      "metadata": {
        "id": "41ca6e27-bfdf-4fc0-9615-0f9fbf461fa2"
      },
      "source": [
        "Matrix product is obtained using the same NumPy APIs as vector product: the `@` operator, the `dot()` method, the `np.dot()` function, and the `np.matmul()` function. In all 4 cases below, the result is a 2&times;2 matrix. For example, the first number in the resulting matrix, 220, is calculated using the first row of `c` and the first column of `d` (i.e. 220 = 1&times;10 + 2&times;30 + 3&times;50)."
      ]
    },
    {
      "cell_type": "code",
      "execution_count": null,
      "id": "f480d334-b2c8-45a9-94a2-2ff12ad01cde",
      "metadata": {
        "colab": {
          "base_uri": "https://localhost:8080/"
        },
        "id": "f480d334-b2c8-45a9-94a2-2ff12ad01cde",
        "outputId": "31b12869-d457-4886-85b8-1ce4b6b049ea"
      },
      "outputs": [
        {
          "name": "stdout",
          "output_type": "stream",
          "text": [
            "[[220 280]\n",
            " [490 640]]\n",
            "[[220 280]\n",
            " [490 640]]\n",
            "[[220 280]\n",
            " [490 640]]\n",
            "[[220 280]\n",
            " [490 640]]\n"
          ]
        }
      ],
      "source": [
        "print(c @ d)\n",
        "print(c.dot(d))\n",
        "print(np.dot(c, d))\n",
        "print(np.matmul(c, d))"
      ]
    },
    {
      "cell_type": "markdown",
      "id": "07e28581-b9c0-4463-848a-e7f52d66a407",
      "metadata": {
        "id": "07e28581-b9c0-4463-848a-e7f52d66a407"
      },
      "source": [
        "The code below computes the matrix product of `c` and `d`, adds 9000 to it (i.e. adds 9000 to each element of the matrix product). The contents and shape of the result are displayed."
      ]
    },
    {
      "cell_type": "code",
      "execution_count": null,
      "id": "7d5b16e1-3b58-44b5-a0d2-1b4529a08611",
      "metadata": {
        "colab": {
          "base_uri": "https://localhost:8080/"
        },
        "id": "7d5b16e1-3b58-44b5-a0d2-1b4529a08611",
        "outputId": "e3709e24-3730-46a1-c294-8f4e32c10643"
      },
      "outputs": [
        {
          "name": "stdout",
          "output_type": "stream",
          "text": [
            "[[9220 9280]\n",
            " [9490 9640]] (2, 2)\n"
          ]
        }
      ],
      "source": [
        "result = c @ d + 9000\n",
        "print(result, result.shape)"
      ]
    },
    {
      "cell_type": "markdown",
      "id": "5d7e6ce3-f822-421b-ad81-5d9b41564f52",
      "metadata": {
        "id": "5d7e6ce3-f822-421b-ad81-5d9b41564f52"
      },
      "source": [
        "# Practice - Question 1 of 3"
      ]
    },
    {
      "cell_type": "markdown",
      "id": "4db62104-dff0-448b-9db0-62f3d96356ea",
      "metadata": {
        "id": "4db62104-dff0-448b-9db0-62f3d96356ea"
      },
      "source": [
        "The code below creates two arrays `a1` and `a2` of random values (0.0 to 1.0), with shapes `(2, 3)` and `(5, 3)`."
      ]
    },
    {
      "cell_type": "code",
      "execution_count": null,
      "id": "6e71900c-f8da-4e39-bf46-fc4bb974bae6",
      "metadata": {
        "colab": {
          "base_uri": "https://localhost:8080/"
        },
        "id": "6e71900c-f8da-4e39-bf46-fc4bb974bae6",
        "outputId": "56c8b0ea-6d39-4005-9b14-d95a103d0049"
      },
      "outputs": [
        {
          "name": "stdout",
          "output_type": "stream",
          "text": [
            "[[0.37454012 0.95071431 0.73199394]\n",
            " [0.59865848 0.15601864 0.15599452]] (2, 3)\n",
            "[[0.05808361 0.86617615 0.60111501]\n",
            " [0.70807258 0.02058449 0.96990985]\n",
            " [0.83244264 0.21233911 0.18182497]\n",
            " [0.18340451 0.30424224 0.52475643]\n",
            " [0.43194502 0.29122914 0.61185289]] (5, 3)\n"
          ]
        }
      ],
      "source": [
        "import numpy as np\n",
        "np.random.seed(42)\n",
        "a1 = np.random.random((2, 3))\n",
        "a2 = np.random.random((5, 3))\n",
        "print(a1, a1.shape)\n",
        "print(a2, a2.shape)"
      ]
    },
    {
      "cell_type": "markdown",
      "id": "09608b82-f7b4-483b-871e-77d39a18cab9",
      "metadata": {
        "id": "09608b82-f7b4-483b-871e-77d39a18cab9"
      },
      "source": [
        "## Q1a\n",
        "\n",
        "Write code to try to compute the matrix product of `a1` and `a2` inside a `try-except` statement as:\n",
        "\n",
        "```python\n",
        "try:\n",
        "    result = a1 @ a2\n",
        "except Exception as e:\n",
        "    print(\"Error:\", e)\n",
        "```"
      ]
    },
    {
      "cell_type": "code",
      "execution_count": null,
      "id": "afa96752-bbaa-4655-9593-d5a64dcabd36",
      "metadata": {
        "colab": {
          "base_uri": "https://localhost:8080/"
        },
        "id": "afa96752-bbaa-4655-9593-d5a64dcabd36",
        "outputId": "3160d58b-5574-4064-fdf2-0cea2b1d8a9b"
      },
      "outputs": [
        {
          "name": "stdout",
          "output_type": "stream",
          "text": [
            "Error: matmul: Input operand 1 has a mismatch in its core dimension 0, with gufunc signature (n?,k),(k,m?)->(n?,m?) (size 5 is different from 3)\n"
          ]
        }
      ],
      "source": [
        "try:\n",
        "    result = a1 @ a2\n",
        "except Exception as e:\n",
        "    print(\"Error:\", e)"
      ]
    },
    {
      "cell_type": "markdown",
      "id": "d5658741-d9c2-426a-8e47-a2176c23874a",
      "metadata": {
        "id": "d5658741-d9c2-426a-8e47-a2176c23874a"
      },
      "source": [
        "## Q1b\n",
        "\n",
        "Write code to print the contents and shape of `a2.T` (i.e. the transpose of `a2`)."
      ]
    },
    {
      "cell_type": "code",
      "execution_count": null,
      "id": "f0b4cb2c-4bba-4731-9f9e-d2816b760f8c",
      "metadata": {
        "colab": {
          "base_uri": "https://localhost:8080/"
        },
        "id": "f0b4cb2c-4bba-4731-9f9e-d2816b760f8c",
        "outputId": "5be79424-87cf-495a-c944-b3e3f7e029f5"
      },
      "outputs": [
        {
          "name": "stdout",
          "output_type": "stream",
          "text": [
            "Contents of a2.T:\n",
            "[[0.05808361 0.70807258 0.83244264 0.18340451 0.43194502]\n",
            " [0.86617615 0.02058449 0.21233911 0.30424224 0.29122914]\n",
            " [0.60111501 0.96990985 0.18182497 0.52475643 0.61185289]]\n",
            "Shape of a2.T:\n",
            "(3, 5)\n"
          ]
        }
      ],
      "source": [
        "\n",
        "print(\"Contents of a2.T:\")\n",
        "print(a2.T)\n",
        "\n",
        "print(\"Shape of a2.T:\")\n",
        "print(a2.T.shape)"
      ]
    },
    {
      "cell_type": "markdown",
      "id": "d69110c4-8f6f-4730-88cf-694febd7df03",
      "metadata": {
        "id": "d69110c4-8f6f-4730-88cf-694febd7df03"
      },
      "source": [
        "## Q1c\n",
        "\n",
        "Write code to compute the matrix product of `a1` and `a2.T`, and keep the result in a variable called `result`. Print the contents and shape of `result`."
      ]
    },
    {
      "cell_type": "code",
      "execution_count": null,
      "id": "2aa6da2f-20ba-4f56-aa08-c26e71ed173b",
      "metadata": {
        "colab": {
          "base_uri": "https://localhost:8080/"
        },
        "id": "2aa6da2f-20ba-4f56-aa08-c26e71ed173b",
        "outputId": "3196b9ee-ff7c-4346-e8e8-ff609831c599"
      },
      "outputs": [
        {
          "name": "stdout",
          "output_type": "stream",
          "text": [
            "Matrix Product:\n",
            "[[1.28525324 0.9947397  0.64675177 0.74205833 0.88652906]\n",
            " [0.26368252 0.57840584 0.55984141 0.23912325 0.39947042]]\n",
            "Shape of Result:\n",
            "(2, 5)\n"
          ]
        }
      ],
      "source": [
        "\n",
        "result = np.dot(a1, a2.T)\n",
        "\n",
        "print(\"Matrix Product:\")\n",
        "print(result)\n",
        "\n",
        "print(\"Shape of Result:\")\n",
        "print(result.shape)"
      ]
    },
    {
      "cell_type": "markdown",
      "id": "eb4b7c06-8e14-4779-bd0f-d15dac182417",
      "metadata": {
        "id": "eb4b7c06-8e14-4779-bd0f-d15dac182417"
      },
      "source": [
        "## &#x2766;"
      ]
    },
    {
      "cell_type": "markdown",
      "id": "e22a805b-b7ef-4831-8778-403510d88613",
      "metadata": {
        "id": "e22a805b-b7ef-4831-8778-403510d88613"
      },
      "source": [
        "# Practice - Question 2 of 3"
      ]
    },
    {
      "cell_type": "markdown",
      "id": "3ae9bbd3-aea6-4a3d-8127-6bdf337d7624",
      "metadata": {
        "id": "3ae9bbd3-aea6-4a3d-8127-6bdf337d7624"
      },
      "source": [
        "The Keras program below is written for studying the operations of a sigmoid neuron. Note that you're not required to fully understand its code (in this lesson). In brief, the neuron has weights in the `weights` variable, and bias in the `bias` variable. It performs prediction from the values in the `inputs` variable and displays the predicted value."
      ]
    },
    {
      "cell_type": "code",
      "execution_count": null,
      "id": "a13e4384-55b6-40ce-866e-888fa799e857",
      "metadata": {
        "colab": {
          "base_uri": "https://localhost:8080/"
        },
        "id": "a13e4384-55b6-40ce-866e-888fa799e857",
        "outputId": "6eaf5026-2313-4594-c22c-44833a6922fa"
      },
      "outputs": [
        {
          "name": "stdout",
          "output_type": "stream",
          "text": [
            "[[0.85814893]]\n"
          ]
        }
      ],
      "source": [
        "# A sigmoid neuron for studying its operations\n",
        "import numpy as np\n",
        "from tensorflow import keras\n",
        "\n",
        "weights = np.array([0.1, -0.2, 0.3])\n",
        "bias = np.array([0.4])\n",
        "inputs = np.array([5, 6, 7])\n",
        "\n",
        "model = keras.models.Sequential([\n",
        "    keras.layers.Dense(1, activation=\"sigmoid\", input_shape=inputs.shape)\n",
        "])\n",
        "model.set_weights([weights.reshape((3, 1)), bias])\n",
        "y_pred = model.predict(inputs.reshape((1, -1)), verbose=0)\n",
        "print(y_pred)"
      ]
    },
    {
      "cell_type": "markdown",
      "id": "ddf8c317-0835-4190-976a-5a2eea6286d9",
      "metadata": {
        "id": "ddf8c317-0835-4190-976a-5a2eea6286d9"
      },
      "source": [
        "## Q2a\n",
        "\n",
        "Write a `sigmoid(x)` Python function that takes a parameter `x` to implement the sigmoid/logistic function: $$\\text{sigmoid}(x) = 1 / (1 + e^{-x})$$\n",
        "\n",
        "Use `np.exp(-x)` for $e^{-x}$."
      ]
    },
    {
      "cell_type": "code",
      "execution_count": null,
      "id": "7b744f58-1558-4496-82cb-187c1b18d616",
      "metadata": {
        "id": "7b744f58-1558-4496-82cb-187c1b18d616"
      },
      "outputs": [],
      "source": [
        "def sigmoid(x):\n",
        "    return 1 / (1 + np.exp(-x))\n",
        "\n"
      ]
    },
    {
      "cell_type": "markdown",
      "id": "caa4b9ea-ede2-42ee-a13c-41c6c8eee320",
      "metadata": {
        "id": "caa4b9ea-ede2-42ee-a13c-41c6c8eee320"
      },
      "source": [
        "## Q2b\n",
        "\n",
        "Write 3 lines of code to do the following:\n",
        "\n",
        "- Compute the dot product of `weights` and `inputs`, and add `bias` to the product. Keep the result in a variable called `z`.\n",
        "- Apply the `sigmoid()` function to `z`. Keep the result in a variable called `y`.\n",
        "- Print the value of `y`."
      ]
    },
    {
      "cell_type": "code",
      "execution_count": null,
      "id": "9539a1cc-d745-434c-9d16-48b929745f1b",
      "metadata": {
        "colab": {
          "base_uri": "https://localhost:8080/"
        },
        "id": "9539a1cc-d745-434c-9d16-48b929745f1b",
        "outputId": "b364ca58-004c-4a2c-e382-387abd9bb274"
      },
      "outputs": [
        {
          "name": "stdout",
          "output_type": "stream",
          "text": [
            "[0.85814894]\n"
          ]
        }
      ],
      "source": [
        "\n",
        "z = np.dot(weights, inputs) + bias\n",
        "y = sigmoid(z)\n",
        "print(y)"
      ]
    },
    {
      "cell_type": "markdown",
      "id": "bb5778e0-c74f-4eeb-9a1a-c4ce36caa83b",
      "metadata": {
        "id": "bb5778e0-c74f-4eeb-9a1a-c4ce36caa83b"
      },
      "source": [
        "## &#x2766;"
      ]
    },
    {
      "cell_type": "markdown",
      "id": "3b7416e9-9a21-4e9a-ab8b-ae7530044ecd",
      "metadata": {
        "id": "3b7416e9-9a21-4e9a-ab8b-ae7530044ecd"
      },
      "source": [
        "# Integer array indexing\n",
        "\n",
        "We've learned basic ways of indexing NumPy arrays using integers and slices. For instance, the example below shows an array `a` of 5 strings. `a[0]` uses an integer `0` in indexing the array and results in the first item `\"a\"`. `a[0:2]` uses a slice `0:2` in indexing the array and results in the first two items in a new array `[\"a\", \"b\"]`."
      ]
    },
    {
      "cell_type": "code",
      "execution_count": null,
      "id": "74b3d51a-2e9a-4477-ac21-0d90cdc39357",
      "metadata": {
        "colab": {
          "base_uri": "https://localhost:8080/"
        },
        "id": "74b3d51a-2e9a-4477-ac21-0d90cdc39357",
        "outputId": "3fe4bf58-4552-431c-eb73-af5a82215624"
      },
      "outputs": [
        {
          "name": "stdout",
          "output_type": "stream",
          "text": [
            "['a' 'b' 'c' 'd' 'e']\n",
            "a\n",
            "['a' 'b']\n"
          ]
        }
      ],
      "source": [
        "import numpy as np\n",
        "a = np.array(list(\"abcde\"))  # array of 5 strings\n",
        "print(a)\n",
        "print(a[0])  # use an integer in indexing\n",
        "print(a[0:2])  # use a slice in indexing"
      ]
    },
    {
      "cell_type": "markdown",
      "id": "4a1258bf-72c0-4fae-b30e-662d923462cc",
      "metadata": {
        "id": "4a1258bf-72c0-4fae-b30e-662d923462cc"
      },
      "source": [
        "## 1D data arrays\n",
        "\n",
        "In NumPy, *integer array indexing* uses an integer array to select arbitrary items in another array (the data array). The integer array contains indices that refer to items in the data array.\n",
        "\n",
        "The following shows two examples of integer array indexing. Note that in `a[ix]`, `ix` is an integer array; in `a[[0, 1, 2]]`, `[0, 1, 2]` is an integer array. (Technically `ix` and `[0, 1, 2]` are lists, not arrays; but lists can be used in integer array indexing so we call them integer arrays here.) In both examples, `[0, 1, 2]` selects the items in `a` at indices 0, 1, and 2, i.e. `\"a\"`, `\"b\"`, and `\"c\"`."
      ]
    },
    {
      "cell_type": "code",
      "execution_count": null,
      "id": "9ce79129-70f5-45ee-9071-1507d0bfea2a",
      "metadata": {
        "colab": {
          "base_uri": "https://localhost:8080/"
        },
        "id": "9ce79129-70f5-45ee-9071-1507d0bfea2a",
        "outputId": "635bfac6-b2b8-4a58-8470-1b655e3a4531"
      },
      "outputs": [
        {
          "name": "stdout",
          "output_type": "stream",
          "text": [
            "['a' 'b' 'c']\n",
            "['a' 'b' 'c']\n"
          ]
        }
      ],
      "source": [
        "ix = [0, 1, 2]\n",
        "print(a[ix])  # use an integer array in indexing\n",
        "print(a[[0, 1, 2]])  # use an integer array in indexing"
      ]
    },
    {
      "cell_type": "markdown",
      "id": "8a9e7dee-9974-452a-96c9-e0774a794aa2",
      "metadata": {
        "id": "8a9e7dee-9974-452a-96c9-e0774a794aa2"
      },
      "source": [
        "The indices in the integer array may have repeated values, which select an item in the data array multiple times. In the integer array below, the three `0`'s select the item `\"a\"` at index 0 of `a` three times; the two `-1`'s select the item `\"e\"` in index -1 of `a` two times."
      ]
    },
    {
      "cell_type": "code",
      "execution_count": null,
      "id": "de7dc94e-12b5-436f-b530-e8c42c4d75b3",
      "metadata": {
        "colab": {
          "base_uri": "https://localhost:8080/"
        },
        "id": "de7dc94e-12b5-436f-b530-e8c42c4d75b3",
        "outputId": "c186b1ce-b799-4774-d738-6664ea9319ad"
      },
      "outputs": [
        {
          "name": "stdout",
          "output_type": "stream",
          "text": [
            "['a' 'c' 'a' 'a' 'e' 'e']\n"
          ]
        }
      ],
      "source": [
        "print(a[[0, 2, 0, 0, -1, -1]])"
      ]
    },
    {
      "cell_type": "markdown",
      "id": "fc8d7f54-4829-474e-ad8d-65748cf1393a",
      "metadata": {
        "id": "fc8d7f54-4829-474e-ad8d-65748cf1393a"
      },
      "source": [
        "## 2D data arrays\n",
        "\n",
        "When integer array indexing is applied to a multiple-dimensional data array (2D or above), the indices in the integer array refer to axis-0 of the data array. For a 2D data array, it means selecting the rows. Let's see some examples using a 2D data array with shape `(5, 10)`."
      ]
    },
    {
      "cell_type": "code",
      "execution_count": null,
      "id": "6f5bc7c6-2255-445e-9710-f684243bafbf",
      "metadata": {
        "colab": {
          "base_uri": "https://localhost:8080/"
        },
        "id": "6f5bc7c6-2255-445e-9710-f684243bafbf",
        "outputId": "f322223b-67a7-4571-ae39-d6c14cc8346a"
      },
      "outputs": [
        {
          "name": "stdout",
          "output_type": "stream",
          "text": [
            "[[ 0  1  2  3  4  5  6  7  8  9]\n",
            " [10 11 12 13 14 15 16 17 18 19]\n",
            " [20 21 22 23 24 25 26 27 28 29]\n",
            " [30 31 32 33 34 35 36 37 38 39]\n",
            " [40 41 42 43 44 45 46 47 48 49]] (5, 10)\n"
          ]
        }
      ],
      "source": [
        "b = np.arange(50).reshape((5, 10))\n",
        "print(b, b.shape)"
      ]
    },
    {
      "cell_type": "markdown",
      "id": "016f26ed-f1c1-45e1-8c49-c774e651e6b2",
      "metadata": {
        "id": "016f26ed-f1c1-45e1-8c49-c774e651e6b2"
      },
      "source": [
        "In the code below, `b[[1, 3]]` selects the second (index `1`) row and the fourth row (index `3`) row of `b`."
      ]
    },
    {
      "cell_type": "code",
      "execution_count": null,
      "id": "17c9c324-232d-46fa-9246-9dd9da159724",
      "metadata": {
        "colab": {
          "base_uri": "https://localhost:8080/"
        },
        "id": "17c9c324-232d-46fa-9246-9dd9da159724",
        "outputId": "1dc8fd1f-08ce-4735-d454-a9c2ac5cdd03"
      },
      "outputs": [
        {
          "name": "stdout",
          "output_type": "stream",
          "text": [
            "[[10 11 12 13 14 15 16 17 18 19]\n",
            " [30 31 32 33 34 35 36 37 38 39]]\n"
          ]
        }
      ],
      "source": [
        "print(b[[1, 3]])  # use an integer array in indexing"
      ]
    },
    {
      "cell_type": "markdown",
      "id": "ef9b7306-a070-4474-a936-3e75faf81bb4",
      "metadata": {
        "id": "ef9b7306-a070-4474-a936-3e75faf81bb4"
      },
      "source": [
        "Take extra care in the use of brackets, i.e. `[` and `]`, in integer array indexing. Omitting brackets would give you a totally different result, such as `b[[1, 3]]` in the above example versus `b[1, 3]` in the next example (which is the item `13` at the second row and the fourth columns)."
      ]
    },
    {
      "cell_type": "code",
      "execution_count": null,
      "id": "c6cc84ab-8a3a-44cd-a1cf-d07df5f054c0",
      "metadata": {
        "colab": {
          "base_uri": "https://localhost:8080/"
        },
        "id": "c6cc84ab-8a3a-44cd-a1cf-d07df5f054c0",
        "outputId": "91266ca8-cec3-49ea-a0c5-05e573d5b2f6"
      },
      "outputs": [
        {
          "name": "stdout",
          "output_type": "stream",
          "text": [
            "13\n"
          ]
        }
      ],
      "source": [
        "print(b[1, 3])  # use two integers in indexing"
      ]
    },
    {
      "cell_type": "markdown",
      "id": "a79e17d7-3722-4478-9926-cd54443bf9de",
      "metadata": {
        "id": "a79e17d7-3722-4478-9926-cd54443bf9de"
      },
      "source": [
        "When the integer array contains all indices of the data array exactly once (along axis-0), all items in the data array are selected once. This has the effect of reordering the items in the data array according to the index order in the integer array. For example, the following `index_order` integer array selects, in that order, the rows at indices `3`, `0`, `1`, `4`, `2` of the data array `b`."
      ]
    },
    {
      "cell_type": "code",
      "execution_count": null,
      "id": "3ea8e915-c297-4232-a5df-ab9c39891ca9",
      "metadata": {
        "colab": {
          "base_uri": "https://localhost:8080/"
        },
        "id": "3ea8e915-c297-4232-a5df-ab9c39891ca9",
        "outputId": "39373c4d-3410-4d3a-802a-7a43d637a1dc"
      },
      "outputs": [
        {
          "name": "stdout",
          "output_type": "stream",
          "text": [
            "[[30 31 32 33 34 35 36 37 38 39]\n",
            " [ 0  1  2  3  4  5  6  7  8  9]\n",
            " [10 11 12 13 14 15 16 17 18 19]\n",
            " [40 41 42 43 44 45 46 47 48 49]\n",
            " [20 21 22 23 24 25 26 27 28 29]]\n"
          ]
        }
      ],
      "source": [
        "index_order = [3, 0, 1, 4, 2]\n",
        "print(b[index_order])"
      ]
    },
    {
      "cell_type": "markdown",
      "id": "e0effbd5-b319-4dd3-af4f-4644d40e312e",
      "metadata": {
        "id": "e0effbd5-b319-4dd3-af4f-4644d40e312e"
      },
      "source": [
        "## Sorting parallel arrays\n",
        "\n",
        "*Parallel arrays* refer to the use two or more arrays to store a dataset such that the items at the same index of the arrays are associated to a record. They are frequently used in machine learning to store the features (prediction inputs) and labels (prediction outputs) of training/test examples.\n",
        "\n",
        "In the example below, the `names` array contains 5 names and the `marks` array contains 5 marks. Note that names and marks are associated by the indices in the arrays: Peter gets 88 (both at index 0), Paul gets 56 (both at index 1), Mary gets 90 (both at index 2), David gets 73 (both at index 3), and Ann gets 60 (both at index 4)."
      ]
    },
    {
      "cell_type": "code",
      "execution_count": null,
      "id": "0bb10a76-fb31-4c57-959c-3b1bce3b472a",
      "metadata": {
        "colab": {
          "base_uri": "https://localhost:8080/"
        },
        "id": "0bb10a76-fb31-4c57-959c-3b1bce3b472a",
        "outputId": "6b063292-90fb-4065-d512-6136193306c0"
      },
      "outputs": [
        {
          "name": "stdout",
          "output_type": "stream",
          "text": [
            "['Peter' 'Paul' 'Mary' 'David' 'Ann']\n",
            "[88 56 90 73 60]\n"
          ]
        }
      ],
      "source": [
        "import numpy as np\n",
        "names = np.array([\"Peter\", \"Paul\", \"Mary\", \"David\", \"Ann\"])\n",
        "marks = np.array([88, 56, 90, 73, 60])\n",
        "print(names)\n",
        "print(marks)"
      ]
    },
    {
      "cell_type": "markdown",
      "id": "c2e0c016-9f75-4e37-a00b-672f6b17a1aa",
      "metadata": {
        "id": "c2e0c016-9f75-4e37-a00b-672f6b17a1aa"
      },
      "source": [
        "Now, let's say we want to sort the marks in the increasing order. NumPy has a `np.sort()` function for sorting an array. The code below attempts to sort both `names` and `marks` arrays using `np.sort()`. While both arrays are sorted, the association between the arrays is lost! E.g. the result indicates that Ann gets 56, but this is not correct as in the original data Ann gets 60."
      ]
    },
    {
      "cell_type": "code",
      "execution_count": null,
      "id": "944bc7f2-1a8e-44a3-b991-e103662beb7b",
      "metadata": {
        "colab": {
          "base_uri": "https://localhost:8080/"
        },
        "id": "944bc7f2-1a8e-44a3-b991-e103662beb7b",
        "outputId": "de4685fd-9f08-47d8-aa2d-166c78cad7a7"
      },
      "outputs": [
        {
          "name": "stdout",
          "output_type": "stream",
          "text": [
            "['Ann' 'David' 'Mary' 'Paul' 'Peter']\n",
            "[56 60 73 88 90]\n"
          ]
        }
      ],
      "source": [
        "sorted_names = np.sort(names)\n",
        "sorted_marks = np.sort(marks)\n",
        "print(sorted_names)\n",
        "print(sorted_marks)"
      ]
    },
    {
      "cell_type": "markdown",
      "id": "517c7317-7fa2-465b-ba3f-15dc1c052388",
      "metadata": {
        "id": "517c7317-7fa2-465b-ba3f-15dc1c052388"
      },
      "source": [
        "Sorting the arrays individually breaks the association. To maintain the association, a single integer array is used to index both arrays, as you'll do in the question below."
      ]
    },
    {
      "cell_type": "markdown",
      "id": "bdfacd6b-6fad-4a9f-8952-d5bb2301d7e3",
      "metadata": {
        "id": "bdfacd6b-6fad-4a9f-8952-d5bb2301d7e3"
      },
      "source": [
        "# Practice - Question 3 of 3\n",
        "\n",
        "Here are the original parallel arrays again:"
      ]
    },
    {
      "cell_type": "code",
      "execution_count": null,
      "id": "a2dcd016-0c18-4567-8c91-6a1c64d85eb9",
      "metadata": {
        "colab": {
          "base_uri": "https://localhost:8080/"
        },
        "id": "a2dcd016-0c18-4567-8c91-6a1c64d85eb9",
        "outputId": "a0296f4b-2659-45c6-d036-2ce46211d450"
      },
      "outputs": [
        {
          "name": "stdout",
          "output_type": "stream",
          "text": [
            "['Peter' 'Paul' 'Mary' 'David' 'Ann']\n",
            "[88 56 90 73 60]\n"
          ]
        }
      ],
      "source": [
        "import numpy as np\n",
        "names = np.array([\"Peter\", \"Paul\", \"Mary\", \"David\", \"Ann\"])\n",
        "marks = np.array([88, 56, 90, 73, 60])\n",
        "\n",
        "#56 goes first , index 1\n",
        "#60 goes sec , index 4\n",
        "#73 , index 3\n",
        "#88 , index 0\n",
        "#90 , index 2\n",
        "print(names)\n",
        "print(marks)"
      ]
    },
    {
      "cell_type": "markdown",
      "id": "69ee76f1-fd5c-4d92-afae-e4ad36d0ea50",
      "metadata": {
        "id": "69ee76f1-fd5c-4d92-afae-e4ad36d0ea50"
      },
      "source": [
        "To maintain the association between the two arrays: (1) we need an integer array for ordering the data in both arrays; (2) the integer array should contain the indices of the `marks` array, each index once; (3) the indices in the integer array should be in the order of the increasing values in `marks`. The integer array fulfilling these is `[1, 4, 3, 0, 2]`, where `1` is the index of the smallest item 56 (i.e. `marks[1]`) in `marks`, `4` is the index of the next smallest item 60 (i.e. `marks[4]`), `3` is the index of the next smallest item 73 (i.e. `marks[3]`), followed by the index `0` of 88 (i.e. `marks[0]`) and index 2 of 90 (i.e. `marks[2]`).\n",
        "\n",
        "This integer array can be obtained using the NumPy function `np.argsort()`. That is, calling `np.argsort(marks)` returns `[1, 4, 3, 0, 2]`."
      ]
    },
    {
      "cell_type": "markdown",
      "id": "6fc4ae43-4851-446e-a909-ed61827bfa1d",
      "metadata": {
        "id": "6fc4ae43-4851-446e-a909-ed61827bfa1d"
      },
      "source": [
        "## Q3a\n",
        "\n",
        "Write code to do the following:\n",
        "\n",
        "- Invoke `np.argsort(marks)` and keep the result in a variable called `order`.\n",
        "- Print the contents of `order`."
      ]
    },
    {
      "cell_type": "code",
      "execution_count": null,
      "id": "c2f8396e-62e6-44ed-8101-04f5b6853d33",
      "metadata": {
        "colab": {
          "base_uri": "https://localhost:8080/"
        },
        "id": "c2f8396e-62e6-44ed-8101-04f5b6853d33",
        "outputId": "ef610498-2f52-4fc0-92a2-e7e8eed97f99"
      },
      "outputs": [
        {
          "name": "stdout",
          "output_type": "stream",
          "text": [
            "[1 4 3 0 2]\n"
          ]
        }
      ],
      "source": [
        "order = np.argsort(marks)\n",
        "print(order)"
      ]
    },
    {
      "cell_type": "markdown",
      "id": "75e91344-ed7f-45d5-8226-f037f89b6793",
      "metadata": {
        "id": "75e91344-ed7f-45d5-8226-f037f89b6793"
      },
      "source": [
        "## Q3b\n",
        "\n",
        "Write code to do the following:\n",
        "\n",
        "- Use the `order` integer array to index the `names` array. Keep the result in a variable called `sorted_names`.\n",
        "- Use the `order` integer array to index the `marks` array. Keep the result in a variable called `sorted_marks`.\n",
        "- Print the contents of `sorted_names`.\n",
        "- Print the contents of `sorted_marks`.\n",
        "\n",
        "Note that you should see the `sorted_marks` contains the sorted marks, and the association between the names and marks are maintained, i.e. in the same way as the original data."
      ]
    },
    {
      "cell_type": "code",
      "execution_count": null,
      "id": "2dabb419-f901-4026-a658-904da4f40429",
      "metadata": {
        "colab": {
          "base_uri": "https://localhost:8080/"
        },
        "id": "2dabb419-f901-4026-a658-904da4f40429",
        "outputId": "17071bb2-2d68-47eb-da2a-c8f141a8c582"
      },
      "outputs": [
        {
          "name": "stdout",
          "output_type": "stream",
          "text": [
            "['Ann' 'David' 'Mary' 'Paul' 'Peter']\n",
            "[56 60 73 88 90]\n"
          ]
        }
      ],
      "source": [
        "\n",
        "sorted_name = names[order]\n",
        "sorted_marks = marks[order]\n",
        "\n",
        "print(sorted_names)\n",
        "print(sorted_marks)\n"
      ]
    },
    {
      "cell_type": "markdown",
      "id": "27e5c629-7369-416f-a76a-fa86b3609715",
      "metadata": {
        "id": "27e5c629-7369-416f-a76a-fa86b3609715"
      },
      "source": [
        "## &#x2766;"
      ]
    },
    {
      "cell_type": "markdown",
      "id": "99f257fb-fad7-42c6-93d7-4d4c633fc918",
      "metadata": {
        "id": "99f257fb-fad7-42c6-93d7-4d4c633fc918"
      },
      "source": [
        "# Extras"
      ]
    },
    {
      "cell_type": "markdown",
      "id": "27fc6418-deab-4b25-8950-740a24091c88",
      "metadata": {
        "id": "27fc6418-deab-4b25-8950-740a24091c88"
      },
      "source": [
        "## Boolean array indexing\n",
        "\n",
        "In NumPy, *Boolean array indexing* uses a Boolean array to decide whether or not to include each item in a data array. A data item is included once if the corresponding Boolean value in the Boolean array is `True`, or not included if it is `False`. Note that the Boolean array must have the same size as the data array (or the first dimension of the data array).\n",
        "\n",
        "The `a` array below contains 10 integers. The `mask` array is a Boolean array obtained by `a % 2 == 0`, which gives `True` for even numbers in `a` and `False` for odd numbers in `a`. E.g. the first item `a[0]` (i.e. 10) is even so the first Boolean value `mask[0]` is `True`; `a[1]` (i.e. 11) is odd so `mask[1]` is `False`."
      ]
    },
    {
      "cell_type": "code",
      "execution_count": null,
      "id": "abd1aad8-8753-4eaa-b1a4-2af49bb7740c",
      "metadata": {
        "id": "abd1aad8-8753-4eaa-b1a4-2af49bb7740c",
        "outputId": "69c350b3-5061-46fc-efdc-7dd97ab7ca0a"
      },
      "outputs": [
        {
          "name": "stdout",
          "output_type": "stream",
          "text": [
            "[10 11 12 13 14 15 16 17 18 19]\n"
          ]
        }
      ],
      "source": [
        "import numpy as np\n",
        "a = np.arange(10, 20)\n",
        "print(a)"
      ]
    },
    {
      "cell_type": "code",
      "execution_count": null,
      "id": "10f941fd-e519-40c8-9b0b-31ddfb5e12b4",
      "metadata": {
        "id": "10f941fd-e519-40c8-9b0b-31ddfb5e12b4",
        "outputId": "f43afb04-7fa0-48fa-ebc1-c252701f4edb"
      },
      "outputs": [
        {
          "name": "stdout",
          "output_type": "stream",
          "text": [
            "[ True False  True False  True False  True False  True False]\n"
          ]
        }
      ],
      "source": [
        "mask = a % 2 == 0\n",
        "print(mask)"
      ]
    },
    {
      "cell_type": "markdown",
      "id": "553354b9-7546-48d2-a9b1-0bb89daad002",
      "metadata": {
        "id": "553354b9-7546-48d2-a9b1-0bb89daad002"
      },
      "source": [
        "To perform Boolean array indexing, we use the `mask` Boolean array when indexing the `a` array, i.e. `a[mask]` in the example below. The Boolean array can also be directly created and used in indexing an array, as in `a[a % 2 == 0]`. In both cases, the even numbers in `a` are obtained according to the `True` values in the Boolean arrays. The Boolean array is sometimes called a *mask*."
      ]
    },
    {
      "cell_type": "code",
      "execution_count": null,
      "id": "84c28b7c-29de-4233-b48f-5edc4c7b28a3",
      "metadata": {
        "id": "84c28b7c-29de-4233-b48f-5edc4c7b28a3",
        "outputId": "43715047-9af9-4326-b20c-cb078f80df52"
      },
      "outputs": [
        {
          "name": "stdout",
          "output_type": "stream",
          "text": [
            "[10 12 14 16 18]\n",
            "[10 12 14 16 18]\n"
          ]
        }
      ],
      "source": [
        "print(a[mask])\n",
        "print(a[a % 2 == 0])"
      ]
    },
    {
      "cell_type": "markdown",
      "id": "5a3ab0ac-df44-489c-b90e-1eb9a93d376f",
      "metadata": {
        "id": "5a3ab0ac-df44-489c-b90e-1eb9a93d376f"
      },
      "source": [
        "### E1a\n",
        "\n",
        "You are given an array of 5 integers called `a` as follows."
      ]
    },
    {
      "cell_type": "code",
      "execution_count": null,
      "id": "899aff8c-6fe6-4fce-a83a-ddaa3694075c",
      "metadata": {
        "id": "899aff8c-6fe6-4fce-a83a-ddaa3694075c",
        "outputId": "468d63d2-91c7-446d-cf49-e46be4cd4378"
      },
      "outputs": [
        {
          "name": "stdout",
          "output_type": "stream",
          "text": [
            "[1 2 3 4 5]\n"
          ]
        }
      ],
      "source": [
        "import numpy as np\n",
        "a = np.array([1, 2, 3, 4, 5])\n",
        "print(a)"
      ]
    },
    {
      "cell_type": "markdown",
      "id": "303f53e0-5bba-4198-aeef-1fc6f283a838",
      "metadata": {
        "id": "303f53e0-5bba-4198-aeef-1fc6f283a838"
      },
      "source": [
        "Write code to do the following:\n",
        "\n",
        "- Index the `a` array using the Boolean array `[False, False, False, False, False]`, and print the result.\n",
        "- Index the `a` array using the Boolean array `[True] * 5`, and print the result.\n",
        "- Use a `try-except` statement and try to index the `a` array using the Boolean array `[True, True]`. Display the error for any exception that occurs."
      ]
    },
    {
      "cell_type": "markdown",
      "id": "d5805376-8ce9-4d83-bec8-787db71b31a0",
      "metadata": {
        "id": "d5805376-8ce9-4d83-bec8-787db71b31a0"
      },
      "source": [
        "### E1b\n",
        "\n",
        "Boolean array indexing is also useful in manipulating parallel arrays. You're given the `names` and `marks` arrays again below."
      ]
    },
    {
      "cell_type": "code",
      "execution_count": null,
      "id": "1cf2c241-d3d4-4ab9-ad50-bb9f3e5cc425",
      "metadata": {
        "id": "1cf2c241-d3d4-4ab9-ad50-bb9f3e5cc425",
        "outputId": "00a0efec-a440-43aa-ffb0-015b12b75d6b"
      },
      "outputs": [
        {
          "name": "stdout",
          "output_type": "stream",
          "text": [
            "['Peter' 'Paul' 'Mary' 'David' 'Ann']\n",
            "[88 56 90 73 60]\n"
          ]
        }
      ],
      "source": [
        "import numpy as np\n",
        "names = np.array([\"Peter\", \"Paul\", \"Mary\", \"David\", \"Ann\"])\n",
        "marks = np.array([88, 56, 90, 73, 60])\n",
        "print(names)\n",
        "print(marks)"
      ]
    },
    {
      "cell_type": "markdown",
      "id": "efd7a063-e6bc-4119-969f-4e1d50a0f988",
      "metadata": {
        "id": "efd7a063-e6bc-4119-969f-4e1d50a0f988"
      },
      "source": [
        "Write code to do the following:\n",
        "\n",
        "- Create a Boolean array as `marks >= 70` and keep the result in a variable called `mask`. This Boolean array contains `True` for marks above or equal to 70, and `False` otherwise.\n",
        "- Index the `names` array using `mask`, and keep the result in a variable called `high_names`.\n",
        "- Index the `marks` array using `mask`, and keep the result in a variable called `high_marks`.\n",
        "- Print the contents of `high_names`.\n",
        "- Print the contents of `high_marks`.\n",
        "\n",
        "Note that the resulting `high_names` and `high_marks` are parallel arrays containing high marks (&ge;70) and the associated names."
      ]
    },
    {
      "cell_type": "markdown",
      "id": "8ac1018b-8f38-40bf-8b0b-b4ddeae4a680",
      "metadata": {
        "id": "8ac1018b-8f38-40bf-8b0b-b4ddeae4a680"
      },
      "source": [
        "## Solutions to extra exercises"
      ]
    },
    {
      "cell_type": "markdown",
      "id": "5249c8cc-f655-4f7f-bfe9-b73b9724c4d5",
      "metadata": {
        "id": "5249c8cc-f655-4f7f-bfe9-b73b9724c4d5"
      },
      "source": [
        "### E1a"
      ]
    },
    {
      "cell_type": "code",
      "execution_count": null,
      "id": "936c53ed-67ea-40d0-8916-aaface173a1c",
      "metadata": {
        "id": "936c53ed-67ea-40d0-8916-aaface173a1c",
        "outputId": "a95fd6f7-3e09-4020-ea98-0ea324a1beda"
      },
      "outputs": [
        {
          "name": "stdout",
          "output_type": "stream",
          "text": [
            "[1 2 3 4 5]\n"
          ]
        }
      ],
      "source": [
        "import numpy as np\n",
        "a = np.array([1, 2, 3, 4, 5])\n",
        "print(a)"
      ]
    },
    {
      "cell_type": "code",
      "execution_count": null,
      "id": "cbf07c77-efbe-4b4e-9a5c-d2d5a3ba2304",
      "metadata": {
        "id": "cbf07c77-efbe-4b4e-9a5c-d2d5a3ba2304",
        "outputId": "e3f1aa67-f949-4a84-cb91-836654abe0d0"
      },
      "outputs": [
        {
          "name": "stdout",
          "output_type": "stream",
          "text": [
            "[]\n",
            "[1 2 3 4 5]\n",
            "Error: boolean index did not match indexed array along dimension 0; dimension is 5 but corresponding boolean dimension is 2\n"
          ]
        }
      ],
      "source": [
        "# Solution\n",
        "print(a[[False, False, False, False, False]])\n",
        "print(a[[True] * 5])\n",
        "try:\n",
        "    print(a[[True, True]])\n",
        "except Exception as e:\n",
        "    print(\"Error:\", e)"
      ]
    },
    {
      "cell_type": "markdown",
      "id": "a6f730d1-0490-40da-ac70-8ffe7a91201c",
      "metadata": {
        "id": "a6f730d1-0490-40da-ac70-8ffe7a91201c"
      },
      "source": [
        "### E1b"
      ]
    },
    {
      "cell_type": "code",
      "execution_count": null,
      "id": "77a1102f-4ff0-4434-90b4-2707b7ef7e19",
      "metadata": {
        "id": "77a1102f-4ff0-4434-90b4-2707b7ef7e19",
        "outputId": "86b0a0d1-4770-4e8c-a4a7-df1a92cd7395"
      },
      "outputs": [
        {
          "name": "stdout",
          "output_type": "stream",
          "text": [
            "['Peter' 'Paul' 'Mary' 'David' 'Ann']\n",
            "[88 56 90 73 60]\n"
          ]
        }
      ],
      "source": [
        "import numpy as np\n",
        "names = np.array([\"Peter\", \"Paul\", \"Mary\", \"David\", \"Ann\"])\n",
        "marks = np.array([88, 56, 90, 73, 60])\n",
        "print(names)\n",
        "print(marks)"
      ]
    },
    {
      "cell_type": "code",
      "execution_count": null,
      "id": "0e821ceb-1728-4f77-b494-dfafdef6d3f6",
      "metadata": {
        "id": "0e821ceb-1728-4f77-b494-dfafdef6d3f6",
        "outputId": "d2b02604-97bb-43d5-8dec-365caa9a3322"
      },
      "outputs": [
        {
          "name": "stdout",
          "output_type": "stream",
          "text": [
            "['Peter' 'Mary' 'David']\n",
            "[88 90 73]\n"
          ]
        }
      ],
      "source": [
        "# Solution\n",
        "mask = marks >= 70\n",
        "high_names = names[mask]\n",
        "high_marks = marks[mask]\n",
        "print(high_names)\n",
        "print(high_marks)"
      ]
    },
    {
      "cell_type": "markdown",
      "id": "67edfa8d-4d38-4c53-98ee-eabfe5d137da",
      "metadata": {
        "id": "67edfa8d-4d38-4c53-98ee-eabfe5d137da"
      },
      "source": [
        "## &#x2766;"
      ]
    }
  ],
  "metadata": {
    "accelerator": "TPU",
    "colab": {
      "provenance": []
    },
    "kernelspec": {
      "display_name": "Python 3",
      "name": "python3"
    },
    "language_info": {
      "codemirror_mode": {
        "name": "ipython",
        "version": 3
      },
      "file_extension": ".py",
      "mimetype": "text/x-python",
      "name": "python",
      "nbconvert_exporter": "python",
      "pygments_lexer": "ipython3",
      "version": "3.11.5"
    }
  },
  "nbformat": 4,
  "nbformat_minor": 5
}
