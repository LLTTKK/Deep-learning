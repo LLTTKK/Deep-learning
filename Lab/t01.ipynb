{
  "cells": [
    {
      "cell_type": "markdown",
      "id": "adac3692-135c-4a12-9394-391e108a0241",
      "metadata": {
        "id": "adac3692-135c-4a12-9394-391e108a0241"
      },
      "source": [
        "# COMP S493F Lab 1"
      ]
    },
    {
      "cell_type": "markdown",
      "id": "5c9d9e0b-efaf-4aa9-8ff1-2e1d50add05d",
      "metadata": {
        "id": "5c9d9e0b-efaf-4aa9-8ff1-2e1d50add05d"
      },
      "source": [
        "In this lesson, you'll work on:\n",
        "\n",
        "- essential operations of using Google Colab,\n",
        "- Python collections and comprehension, and\n",
        "- NumPy basics."
      ]
    },
    {
      "cell_type": "markdown",
      "id": "0f5fc271-7a18-4bb6-ab9b-277082e08ee2",
      "metadata": {
        "id": "0f5fc271-7a18-4bb6-ab9b-277082e08ee2"
      },
      "source": [
        "### Student name: *LO TSZ KIN*\n"
      ]
    },
    {
      "cell_type": "markdown",
      "id": "14d2490d-2243-4a58-a583-d93e892b25da",
      "metadata": {
        "id": "14d2490d-2243-4a58-a583-d93e892b25da"
      },
      "source": [
        "# Using Google Colab"
      ]
    },
    {
      "cell_type": "markdown",
      "id": "fef51d16-57d1-41c3-b052-b94663502b56",
      "metadata": {
        "id": "fef51d16-57d1-41c3-b052-b94663502b56"
      },
      "source": [
        "If necessary, refer to Lab 0 for the basics of using Google Colab and a reference of selected Markdown syntax."
      ]
    },
    {
      "cell_type": "markdown",
      "id": "a663cab5-81dd-42c0-adcd-50a147e0b0f3",
      "metadata": {
        "id": "a663cab5-81dd-42c0-adcd-50a147e0b0f3"
      },
      "source": [
        "# Practice - Question 1 of 3"
      ]
    },
    {
      "cell_type": "markdown",
      "id": "9cc92345-b34d-4f61-abef-43d70898db40",
      "metadata": {
        "id": "9cc92345-b34d-4f61-abef-43d70898db40"
      },
      "source": [
        "For all code cells in this and other questions, run the cells after modification and include the outputs in the notebook unless instructed otherwise. Create code cells and text cells as necessary."
      ]
    },
    {
      "cell_type": "markdown",
      "id": "b0fd460b-fd13-4e9a-aafb-74caa97839f1",
      "metadata": {
        "id": "b0fd460b-fd13-4e9a-aafb-74caa97839f1"
      },
      "source": [
        "## Q1a\n",
        "\n",
        "Write Python code in the following cell to print your name."
      ]
    },
    {
      "cell_type": "code",
      "execution_count": null,
      "id": "a25b616f-e34c-4657-8e4a-3680d42c75d1",
      "metadata": {
        "colab": {
          "base_uri": "https://localhost:8080/"
        },
        "id": "a25b616f-e34c-4657-8e4a-3680d42c75d1",
        "outputId": "bbbe1377-6fe8-458d-93f3-c2a619494777"
      },
      "outputs": [
        {
          "name": "stdout",
          "output_type": "stream",
          "text": [
            "LO TSZ KIN\n"
          ]
        }
      ],
      "source": [
        "\n",
        "print(\"LO TSZ KIN\")\n"
      ]
    },
    {
      "cell_type": "markdown",
      "id": "38b7e224-9865-4ddf-8620-9c760ef689af",
      "metadata": {
        "id": "38b7e224-9865-4ddf-8620-9c760ef689af"
      },
      "source": [
        "## Q1b\n",
        "\n",
        "Create a code cell below to run the three shell commands: `pwd`, `free -h`, and `df -h`. Remember to write the exclamation mark `!` at the beginning of each command.  (Note that the outputs contain memory and storage information of the Colab virtual machine you're using.)"
      ]
    },
    {
      "cell_type": "code",
      "execution_count": null,
      "id": "d35af221-c70d-4662-bf51-351fe1f1f5e8",
      "metadata": {
        "colab": {
          "base_uri": "https://localhost:8080/"
        },
        "id": "d35af221-c70d-4662-bf51-351fe1f1f5e8",
        "outputId": "d82e81ea-3abe-4699-83c4-c145f1112f5f"
      },
      "outputs": [
        {
          "name": "stdout",
          "output_type": "stream",
          "text": [
            "/content\n",
            "               total        used        free      shared  buff/cache   available\n",
            "Mem:            12Gi       747Mi       8.9Gi       1.0Mi       3.0Gi        11Gi\n",
            "Swap:             0B          0B          0B\n",
            "Filesystem      Size  Used Avail Use% Mounted on\n",
            "overlay         108G   27G   82G  25% /\n",
            "tmpfs            64M     0   64M   0% /dev\n",
            "shm             5.8G     0  5.8G   0% /dev/shm\n",
            "/dev/root       2.0G  1.1G  849M  57% /usr/sbin/docker-init\n",
            "tmpfs           6.4G  304K  6.4G   1% /var/colab\n",
            "/dev/sda1        71G   54G   17G  77% /etc/hosts\n",
            "tmpfs           6.4G     0  6.4G   0% /proc/acpi\n",
            "tmpfs           6.4G     0  6.4G   0% /proc/scsi\n",
            "tmpfs           6.4G     0  6.4G   0% /sys/firmware\n",
            "sample_data\n"
          ]
        }
      ],
      "source": [
        "!pwd\n",
        "!free -h\n",
        "!df -h\n",
        "!ls"
      ]
    },
    {
      "cell_type": "markdown",
      "id": "565855b2-6c0e-4666-8743-dc94cc000f33",
      "metadata": {
        "id": "565855b2-6c0e-4666-8743-dc94cc000f33"
      },
      "source": [
        "## Q1c\n",
        "\n",
        "Create a text cell below to write a Markdown list of 3 (or more) items. The items are courses you have taken and related to programming or machine learning or data science."
      ]
    },
    {
      "cell_type": "markdown",
      "id": "66897bfa-ee18-428c-8e61-3920242f4d21",
      "metadata": {
        "id": "66897bfa-ee18-428c-8e61-3920242f4d21"
      },
      "source": [
        "Solution:\n",
        "\n",
        "\n",
        "<div class='alert alert-warning' role='alert'><b>COMP S493F , COMP S416F , COMP S381F</b></div>\n",
        "\n",
        "\n"
      ]
    },
    {
      "cell_type": "markdown",
      "id": "43f421f3-9d61-476e-9447-386d2a6a7fac",
      "metadata": {
        "id": "43f421f3-9d61-476e-9447-386d2a6a7fac"
      },
      "source": [
        "## Q1d\n",
        "\n",
        "Create a text cell below to write a Markdown table of 2 columns and 3 (or more) rows. Specify the column headers as `Programming language` and `Familiarity (1-5)`. Fill in the rows with 3 (or more) programming languages you know and your familiarity with them (1 for lowest familiarity and 5 for highest familiarity)."
      ]
    },
    {
      "cell_type": "markdown",
      "id": "nnUNY44VUrIU",
      "metadata": {
        "id": "nnUNY44VUrIU"
      },
      "source": [
        "Solution:\n",
        "\n",
        "Programning language | Familiarity (1-5)\n",
        "-:|-\n",
        "C++ | 2\n",
        "Python | 2\n",
        "Jave |2\n",
        "SQL | 3\n",
        "\n",
        "\n"
      ]
    },
    {
      "cell_type": "markdown",
      "id": "a4e3bc06-21db-4859-9326-a2d58e07fd32",
      "metadata": {
        "id": "a4e3bc06-21db-4859-9326-a2d58e07fd32"
      },
      "source": [
        "## &#x2766;"
      ]
    },
    {
      "cell_type": "markdown",
      "id": "ac41f03c-c73c-4c94-8732-9223cd5b3055",
      "metadata": {
        "id": "ac41f03c-c73c-4c94-8732-9223cd5b3055"
      },
      "source": [
        "# Python collections\n",
        "\n",
        "In Python, some commonly-used collections types are lists, tuples, sets, and dictionaries."
      ]
    },
    {
      "cell_type": "markdown",
      "id": "eff3a8eb-09bb-4a38-ba53-46e7b53f1d21",
      "metadata": {
        "id": "eff3a8eb-09bb-4a38-ba53-46e7b53f1d21"
      },
      "source": [
        "## Lists and tuples\n",
        "\n",
        "A *list* is a sequence, or an ordered collection, of items. The `len()` function returns the number of items in a list."
      ]
    },
    {
      "cell_type": "code",
      "execution_count": null,
      "id": "ab419b36-e564-4966-b7c5-205b66d1358b",
      "metadata": {
        "colab": {
          "base_uri": "https://localhost:8080/"
        },
        "id": "ab419b36-e564-4966-b7c5-205b66d1358b",
        "outputId": "cc257581-bc6c-48fd-840b-8d9b1d806099"
      },
      "outputs": [
        {
          "name": "stdout",
          "output_type": "stream",
          "text": [
            "[1, 2.0, 'three']\n",
            "<class 'list'>\n",
            "3\n"
          ]
        }
      ],
      "source": [
        "ls = [1, 2.0, \"three\"]\n",
        "print(ls)\n",
        "print(type(ls))\n",
        "print(len(ls))"
      ]
    },
    {
      "cell_type": "markdown",
      "id": "84ef405d-cba0-458e-925f-93671bbd59dd",
      "metadata": {
        "id": "84ef405d-cba0-458e-925f-93671bbd59dd"
      },
      "source": [
        "An individual item in a list can be accessed by integer indexing, with syntax `a_list[index]`. Note the f-string syntax: `f\"{exp}\"` displays the value of `exp`; `f\"{exp=}\"` displays the expression `exp`, an equal symbol, and the value of `exp` -- very useful for debugging and exploring code!"
      ]
    },
    {
      "cell_type": "code",
      "execution_count": null,
      "id": "4591ea37-ecf1-4220-956f-d7b88cb31f5a",
      "metadata": {
        "colab": {
          "base_uri": "https://localhost:8080/"
        },
        "id": "4591ea37-ecf1-4220-956f-d7b88cb31f5a",
        "outputId": "c59032ea-7711-41ec-f068-98e3f4a4c468"
      },
      "outputs": [
        {
          "name": "stdout",
          "output_type": "stream",
          "text": [
            "[1, 2.0, 'three']\n",
            "ls[0]=1, ls[1]=2.0\n",
            "ls[2]='three', ls[-1]='three'\n"
          ]
        }
      ],
      "source": [
        "print(ls)\n",
        "print(f\"{ls[0]=}, {ls[1]=}\")  # index is 0-based; index 0 -> first item\n",
        "print(f\"{ls[2]=}, {ls[-1]=}\")  # index -1 -> last item"
      ]
    },
    {
      "cell_type": "markdown",
      "id": "ce9677d0-284e-4664-993f-83d79b01c14a",
      "metadata": {
        "id": "ce9677d0-284e-4664-993f-83d79b01c14a"
      },
      "source": [
        "Multiple items in a list can be accessed by slicing, with syntax `a_list[start:stop:step]`. Note that the item at the `stop` index is excluded."
      ]
    },
    {
      "cell_type": "code",
      "execution_count": null,
      "id": "4b1700d9-b0b8-44e6-8c57-41115062ca94",
      "metadata": {
        "colab": {
          "base_uri": "https://localhost:8080/"
        },
        "id": "4b1700d9-b0b8-44e6-8c57-41115062ca94",
        "outputId": "4a623e8b-4910-4692-b032-f9dc4251bc03"
      },
      "outputs": [
        {
          "name": "stdout",
          "output_type": "stream",
          "text": [
            "[0, 1, 2, 3, 4, 5, 6]\n",
            "ls[2:6] = [2, 3, 4, 5]\n",
            "ls[:6] = [0, 1, 2, 3, 4, 5]\n",
            "ls[2:] = [2, 3, 4, 5, 6]\n",
            "ls[:] = [0, 1, 2, 3, 4, 5, 6]\n",
            "ls[::2] = [0, 2, 4, 6]\n",
            "ls[::-1] = [6, 5, 4, 3, 2, 1, 0]\n"
          ]
        }
      ],
      "source": [
        "ls = [0, 1, 2, 3, 4, 5, 6]\n",
        "print(ls)\n",
        "print(f\"{ls[2:6] = }\")  # from index 2 (included) to index 6 (excluded)\n",
        "print(f\"{ls[:6] = }\")  # start index 0 by default here\n",
        "print(f\"{ls[2:] = }\")  # stop index len+1 (=7) by default here\n",
        "print(f\"{ls[:] = }\")  # all items, i.e. making a copy\n",
        "print(f\"{ls[::2] = }\")  # steps of 2, i.e. every other items\n",
        "print(f\"{ls[::-1] = }\") # all items in reversed order"
      ]
    },
    {
      "cell_type": "markdown",
      "id": "79c3bf12-ab34-4b57-adca-4766955604dc",
      "metadata": {
        "id": "79c3bf12-ab34-4b57-adca-4766955604dc"
      },
      "source": [
        "Lists are *mutable*, meaning that their contents may be changed during code execution."
      ]
    },
    {
      "cell_type": "code",
      "execution_count": null,
      "id": "0e8daf8c-4e7c-4f9f-8ea0-7e12a3762831",
      "metadata": {
        "colab": {
          "base_uri": "https://localhost:8080/"
        },
        "id": "0e8daf8c-4e7c-4f9f-8ea0-7e12a3762831",
        "outputId": "6fe46c4d-3e5f-484d-ff52-85bea3676884"
      },
      "outputs": [
        {
          "name": "stdout",
          "output_type": "stream",
          "text": [
            "[1, 2, 3]\n",
            "[10, 2, 3]\n",
            "[10, 2, 3, 40]\n"
          ]
        }
      ],
      "source": [
        "ls = [1, 2, 3]\n",
        "print(ls)\n",
        "ls[0] = 10  # modify the 1st item, i.e. with index 0\n",
        "print(ls)\n",
        "ls.append(40)  # append item at the end\n",
        "print(ls)"
      ]
    },
    {
      "cell_type": "markdown",
      "id": "6ad14dda-2ad7-4ffb-8bf4-4581b1ea091c",
      "metadata": {
        "id": "6ad14dda-2ad7-4ffb-8bf4-4581b1ea091c"
      },
      "source": [
        "A *tuple* is similar to a list, but *immutable*. That is, once created you cannot modify the contents of a tuple. A tuple has no `append()` method and so on."
      ]
    },
    {
      "cell_type": "code",
      "execution_count": null,
      "id": "58f3f8f8-1160-487c-9724-cb43e88c2ceb",
      "metadata": {
        "colab": {
          "base_uri": "https://localhost:8080/"
        },
        "id": "58f3f8f8-1160-487c-9724-cb43e88c2ceb",
        "outputId": "a0355be8-bf79-40c6-a73f-2e76397a5f63"
      },
      "outputs": [
        {
          "name": "stdout",
          "output_type": "stream",
          "text": [
            "(1, 2.0, 'three')\n",
            "<class 'tuple'>\n"
          ]
        }
      ],
      "source": [
        "t = (1, 2.0, \"three\")\n",
        "print(t)\n",
        "print(type(t))\n",
        "# t.append(40)  # no such method!"
      ]
    },
    {
      "cell_type": "markdown",
      "id": "3042a1a1-1e5e-4582-943f-db13dc2203d4",
      "metadata": {
        "id": "3042a1a1-1e5e-4582-943f-db13dc2203d4"
      },
      "source": [
        "Tuples can be used to create, or assign values to, multiple variables."
      ]
    },
    {
      "cell_type": "code",
      "execution_count": null,
      "id": "b61a360b-4407-4d0d-8770-8d425c0f905e",
      "metadata": {
        "colab": {
          "base_uri": "https://localhost:8080/"
        },
        "id": "b61a360b-4407-4d0d-8770-8d425c0f905e",
        "outputId": "f7e55bd7-8d29-4e2b-9ba9-2a282fde45d9"
      },
      "outputs": [
        {
          "name": "stdout",
          "output_type": "stream",
          "text": [
            "a=3.1416, b=2.7183\n",
            "a=2.7183, b=3.1416\n"
          ]
        }
      ],
      "source": [
        "import math  # import the math module\n",
        "a, b = math.pi, math.e  # two math constants\n",
        "print(f\"{a=:.4f}, {b=:.4f}\")  # :.4f for 4 decimal places\n",
        "a, b = b, a  # swap their values\n",
        "print(f\"{a=:.4f}, {b=:.4f}\")  # :.4f for 4 decimal places"
      ]
    },
    {
      "cell_type": "markdown",
      "id": "6d86cb8b-f872-4376-ad9f-269c5c42be7f",
      "metadata": {
        "id": "6d86cb8b-f872-4376-ad9f-269c5c42be7f"
      },
      "source": [
        "A function can return multiple values in a tuple, e.g. the builtin `divmod()` returns the quotient and remainder of division."
      ]
    },
    {
      "cell_type": "code",
      "execution_count": null,
      "id": "0db01590-93d8-4a93-92c0-a94950ecd143",
      "metadata": {
        "colab": {
          "base_uri": "https://localhost:8080/"
        },
        "id": "0db01590-93d8-4a93-92c0-a94950ecd143",
        "outputId": "c7e90a96-ad6b-41b1-d74d-f85e4ee17cd9"
      },
      "outputs": [
        {
          "name": "stdout",
          "output_type": "stream",
          "text": [
            "3 1\n"
          ]
        }
      ],
      "source": [
        "q, r = divmod(10, 3)\n",
        "print(q, r)"
      ]
    },
    {
      "cell_type": "markdown",
      "id": "73b3d8e7-b0f0-4ea7-9864-9bf23f8be0ce",
      "metadata": {
        "id": "73b3d8e7-b0f0-4ea7-9864-9bf23f8be0ce"
      },
      "source": [
        "## Ranges\n",
        "\n",
        "A *range* generates a sequence of consecutive, or equally-spaced, integers. It is often used with the `for` loop. The syntax is `range(start, stop, step)`, where `start` and `step` are optional. The meanings of the three parts are similar to those of list slicing syntax `a_list[start:stop:step]`. Again, note that the item of `stop` is excluded."
      ]
    },
    {
      "cell_type": "code",
      "execution_count": null,
      "id": "89de73e5-d85b-4ff3-9b8d-76004314fa9b",
      "metadata": {
        "colab": {
          "base_uri": "https://localhost:8080/"
        },
        "id": "89de73e5-d85b-4ff3-9b8d-76004314fa9b",
        "outputId": "506c0bb1-ad7a-4658-dba0-45adeed70043"
      },
      "outputs": [
        {
          "name": "stdout",
          "output_type": "stream",
          "text": [
            "0 1 2 3 4 5 6 7 8 9 "
          ]
        }
      ],
      "source": [
        "for i in range(10):  # from 0 (included) to 10 (excluded)\n",
        "    print(i, end=\" \")  # print \" \" instead of \"\\n\" at the end"
      ]
    },
    {
      "cell_type": "code",
      "execution_count": null,
      "id": "753dbb80-1f8c-45de-b644-dc2ac0761f01",
      "metadata": {
        "colab": {
          "base_uri": "https://localhost:8080/"
        },
        "id": "753dbb80-1f8c-45de-b644-dc2ac0761f01",
        "outputId": "d58c5526-92cf-46da-c267-4fd46f4475da"
      },
      "outputs": [
        {
          "name": "stdout",
          "output_type": "stream",
          "text": [
            "5 6 7 8 9 "
          ]
        }
      ],
      "source": [
        "for i in range(5, 10):  # from 5 (included) to 10 (excluded)\n",
        "    print(i, end=\" \")"
      ]
    },
    {
      "cell_type": "code",
      "execution_count": null,
      "id": "097508eb-f1e2-46ec-b55e-a8d1eafa4ebb",
      "metadata": {
        "colab": {
          "base_uri": "https://localhost:8080/"
        },
        "id": "097508eb-f1e2-46ec-b55e-a8d1eafa4ebb",
        "outputId": "6e39e320-38be-445c-d16a-7fb4794c4e4e"
      },
      "outputs": [
        {
          "name": "stdout",
          "output_type": "stream",
          "text": [
            "5 7 9 "
          ]
        }
      ],
      "source": [
        "for i in range(5, 10, 2):  # in steps of 2\n",
        "    print(i, end=\" \")"
      ]
    },
    {
      "cell_type": "markdown",
      "id": "cfcb5e52-5455-4f92-851d-7effca1e9412",
      "metadata": {
        "id": "cfcb5e52-5455-4f92-851d-7effca1e9412"
      },
      "source": [
        "## Comprehension\n",
        "\n",
        "*List comprehension* is a \"Pythonic\" way of generating a new list from an existing sequence of items. The basic syntax is shown below, where `if condition` is optional:\n",
        "\n",
        "```python\n",
        "[expr_using_item for item in sequence_of_items if condition]\n",
        "```\n",
        "\n",
        "Consider generating the squares of the numbers in an existing list. This can be done using a new list for storing the result and a `for` loop."
      ]
    },
    {
      "cell_type": "code",
      "execution_count": null,
      "id": "90680d9d-6c34-4a6b-8f7e-9f1f58f6fe0f",
      "metadata": {
        "colab": {
          "base_uri": "https://localhost:8080/"
        },
        "id": "90680d9d-6c34-4a6b-8f7e-9f1f58f6fe0f",
        "outputId": "c09d9382-1c8f-4a6e-e0ff-74a0062d8f19"
      },
      "outputs": [
        {
          "name": "stdout",
          "output_type": "stream",
          "text": [
            "[0, 1, 4, 9, 16, 25, 36, 49, 64, 81]\n"
          ]
        }
      ],
      "source": [
        "ls = [0, 1, 2, 3, 4, 5, 6, 7, 8, 9]  # an existing sequence\n",
        "squares = []  # for keeping result\n",
        "for item in ls:\n",
        "    squares.append(item * item)  # put to result\n",
        "print(squares)"
      ]
    },
    {
      "cell_type": "markdown",
      "id": "ddb59a06-097d-4e2d-9845-4784cae8df47",
      "metadata": {
        "id": "ddb59a06-097d-4e2d-9845-4784cae8df47"
      },
      "source": [
        "Using a list comprehension, the code is more concise and probably easier to read."
      ]
    },
    {
      "cell_type": "code",
      "execution_count": null,
      "id": "521f615d-764c-4df5-bad7-456116d25d9f",
      "metadata": {
        "colab": {
          "base_uri": "https://localhost:8080/"
        },
        "id": "521f615d-764c-4df5-bad7-456116d25d9f",
        "outputId": "d3a6b2d4-7cfa-4d35-e07e-36fe5224a1d8"
      },
      "outputs": [
        {
          "name": "stdout",
          "output_type": "stream",
          "text": [
            "[0, 1, 4, 9, 16, 25, 36, 49, 64, 81]\n"
          ]
        }
      ],
      "source": [
        "ls = [0, 1, 2, 3, 4, 5, 6, 7, 8, 9]  # an existing sequence\n",
        "squares = [item * item for item in ls]\n",
        "print(squares)"
      ]
    },
    {
      "cell_type": "markdown",
      "id": "be9a865f-6a45-4649-963d-9c1b8c7a9789",
      "metadata": {
        "id": "be9a865f-6a45-4649-963d-9c1b8c7a9789"
      },
      "source": [
        "A range can be used as the existing sequence of items."
      ]
    },
    {
      "cell_type": "code",
      "execution_count": null,
      "id": "54b4ea80-3e58-4eda-9a59-341d1bc0260b",
      "metadata": {
        "colab": {
          "base_uri": "https://localhost:8080/"
        },
        "id": "54b4ea80-3e58-4eda-9a59-341d1bc0260b",
        "outputId": "72b705a9-8cad-4b2d-9b9f-508d23448906"
      },
      "outputs": [
        {
          "name": "stdout",
          "output_type": "stream",
          "text": [
            "[0, 1, 4, 9, 16, 25, 36, 49, 64, 81]\n"
          ]
        }
      ],
      "source": [
        "print([n * n for n in range(10)])"
      ]
    },
    {
      "cell_type": "markdown",
      "id": "944e6183-8482-49ce-9b2c-3ee54daf9e6d",
      "metadata": {
        "id": "944e6183-8482-49ce-9b2c-3ee54daf9e6d"
      },
      "source": [
        "An optional `if` clause can be added to select items in the existing sequence based on a condition. For example, the squares of only odd numbers (i.e. `n % 2 == 1` is true when `n` is odd) are obtained as follows."
      ]
    },
    {
      "cell_type": "code",
      "execution_count": null,
      "id": "2597f943-965c-43db-946c-78d50a09d967",
      "metadata": {
        "colab": {
          "base_uri": "https://localhost:8080/"
        },
        "id": "2597f943-965c-43db-946c-78d50a09d967",
        "outputId": "02803435-40c5-4f31-ba19-8e99a98fb74e"
      },
      "outputs": [
        {
          "name": "stdout",
          "output_type": "stream",
          "text": [
            "[1, 9, 25, 49, 81]\n"
          ]
        }
      ],
      "source": [
        "print([n * n for n in range(10) if n % 2 == 1])"
      ]
    },
    {
      "cell_type": "markdown",
      "id": "5ff6a224-fa97-4fb1-9b03-40286a0596e7",
      "metadata": {
        "id": "5ff6a224-fa97-4fb1-9b03-40286a0596e7"
      },
      "source": [
        "# Practice - Question 2 of 3"
      ]
    },
    {
      "cell_type": "markdown",
      "id": "7810c4e3-800e-4fc5-bb6c-44b438bd264f",
      "metadata": {
        "id": "7810c4e3-800e-4fc5-bb6c-44b438bd264f"
      },
      "source": [
        "## Q2a\n",
        "\n",
        "Lists can be nested; that is, a list can contain another list as an item. The following list `ls` contains three nested lists. Note that the lists may have different lengths. Multiple indexing operations may be used to access items in the nested lists. For example, `ls[0]` refers to the first (index 0) nested list, i.e. `[1, 2, 3, 4]`; `ls[0][2]` refers to the third (index 2) item in the nested list `ls[0]`, i.e. `3`."
      ]
    },
    {
      "cell_type": "code",
      "execution_count": null,
      "id": "ca47c94b-3c6d-4a0f-a68a-84fd053438d3",
      "metadata": {
        "colab": {
          "base_uri": "https://localhost:8080/"
        },
        "id": "ca47c94b-3c6d-4a0f-a68a-84fd053438d3",
        "outputId": "1830aa05-e994-4431-f2c5-e9e361a4e72c"
      },
      "outputs": [
        {
          "name": "stdout",
          "output_type": "stream",
          "text": [
            "3\n"
          ]
        }
      ],
      "source": [
        "ls = [\n",
        "    [1, 2, 3, 4],\n",
        "    [5, 6],\n",
        "    [7, 8, 9, 10]\n",
        "]\n",
        "print(ls[0][2])"
      ]
    },
    {
      "cell_type": "markdown",
      "id": "d7996c41-e5b9-4c1b-81dc-eed954c9d98d",
      "metadata": {
        "id": "d7996c41-e5b9-4c1b-81dc-eed954c9d98d"
      },
      "source": [
        "Write code to print the value `6` in `ls` using two positive indices; i.e. write a statement like `print(ls[0][2])` but replace the indices `0` and `2` with other positive indices to display the value `6`.\n",
        "\n",
        "Write code to print the value `6` in `ls` using two negative indices; i.e. write a statement like `print(ls[0][2])` but replace the indices `0` and `2` with two negative indices to display the value `6`."
      ]
    },
    {
      "cell_type": "code",
      "execution_count": null,
      "id": "9dda9d5c-1aca-4abb-9658-84c7b8ad4482",
      "metadata": {
        "colab": {
          "base_uri": "https://localhost:8080/"
        },
        "id": "9dda9d5c-1aca-4abb-9658-84c7b8ad4482",
        "outputId": "f1a71eb7-b2b5-4adb-9c13-e561f3dc132f"
      },
      "outputs": [
        {
          "name": "stdout",
          "output_type": "stream",
          "text": [
            "6\n",
            "6\n"
          ]
        }
      ],
      "source": [
        "print(ls[1][1])\n",
        "print(ls[-2][-1])"
      ]
    },
    {
      "cell_type": "markdown",
      "id": "0e7b03da-65fd-4c7f-aa6a-be1358284132",
      "metadata": {
        "id": "0e7b03da-65fd-4c7f-aa6a-be1358284132"
      },
      "source": [
        "## Q2b\n",
        "\n",
        "Write 4 lines of code to do the following:\n",
        "\n",
        "- Create a list of integers from 0 to 9, with code `ls = list(range(10))`.\n",
        "- Using `print()`, `ls`, and slicing, print the slice result `[6, 7, 8, 9]`.\n",
        "- Using `print()`, `ls`, and slicing, print the slice result `[3, 6, 9]`.\n",
        "- Using `print()`, `ls`, and slicing, print the slice result `[9, 5, 1]`."
      ]
    },
    {
      "cell_type": "code",
      "execution_count": null,
      "id": "50ea3bd6-63e0-451c-a93e-727743db4e79",
      "metadata": {
        "colab": {
          "base_uri": "https://localhost:8080/"
        },
        "id": "50ea3bd6-63e0-451c-a93e-727743db4e79",
        "outputId": "25d26cff-4683-4e03-9337-be185920d7c7"
      },
      "outputs": [
        {
          "name": "stdout",
          "output_type": "stream",
          "text": [
            "[6, 7, 8, 9]\n",
            "[3, 6, 9]\n",
            "[9, 5, 1]\n"
          ]
        }
      ],
      "source": [
        "\n",
        "ls = list(range(10))\n",
        "\n",
        "print(ls[6:])\n",
        "print(ls[3::3])\n",
        "print(ls[::-4])\n"
      ]
    },
    {
      "cell_type": "markdown",
      "id": "3839f81e-3e99-4dcc-b831-88a0d73473e8",
      "metadata": {
        "id": "3839f81e-3e99-4dcc-b831-88a0d73473e8"
      },
      "source": [
        "## Q2c\n",
        "\n",
        "The following `is_prime(n)` function returns `True` if `n` is a prime number or `False` otherwise. Using this function and a list comprehension, write code to print the list of prime numbers between 2 and 200, i.e. `[2, 3, 5, 7, ... 199]`. Hint: in a list comprehension, the expression using the item may be just the item, i.e. `[n for n in ...]`."
      ]
    },
    {
      "cell_type": "code",
      "execution_count": null,
      "id": "46a047d8-6b36-4e04-b14d-e9dcb99d6ccd",
      "metadata": {
        "colab": {
          "base_uri": "https://localhost:8080/"
        },
        "id": "46a047d8-6b36-4e04-b14d-e9dcb99d6ccd",
        "outputId": "bfcc0501-f2a6-4f33-ada3-67fe9c4da1d4"
      },
      "outputs": [
        {
          "name": "stdout",
          "output_type": "stream",
          "text": [
            "[2, 3, 5, 7, 11, 13, 17, 19, 23, 29, 31, 37, 41, 43, 47, 53, 59, 61, 67, 71, 73, 79, 83, 89, 97, 101, 103, 107, 109, 113, 127, 131, 137, 139, 149, 151, 157, 163, 167, 173, 179, 181, 191, 193, 197, 199]\n"
          ]
        }
      ],
      "source": [
        "def is_prime(n):\n",
        "    for i in range(2, int(n ** 0.5 + 1)):\n",
        "        if n % i == 0:\n",
        "            return False\n",
        "    return True\n",
        "\n",
        "\n",
        "# ===== =====> Replace this line by your code. <===== ===== #\n",
        "prime_numbers = [n for n in range(2,201)if is_prime(n)]\n",
        "\n",
        "print(prime_numbers)"
      ]
    },
    {
      "cell_type": "markdown",
      "id": "6feb901b-f5bf-4024-8382-c18ffb3dbb2b",
      "metadata": {
        "id": "6feb901b-f5bf-4024-8382-c18ffb3dbb2b"
      },
      "source": [
        "## &#x2766;"
      ]
    },
    {
      "cell_type": "markdown",
      "id": "b844aed4-ac2c-4d8e-9974-257c60aa0643",
      "metadata": {
        "id": "b844aed4-ac2c-4d8e-9974-257c60aa0643"
      },
      "source": [
        "# NumPy basics\n",
        "\n",
        "The NumPy library implements efficient multi-dimensional arrays and related operations. It is heavily used in machine learning libraries such as Scikit-learn and TensorFlow."
      ]
    },
    {
      "cell_type": "markdown",
      "id": "64135ac0-86ee-43f8-9ab8-dea549b13d6f",
      "metadata": {
        "id": "64135ac0-86ee-43f8-9ab8-dea549b13d6f"
      },
      "source": [
        "## Array creation and properties\n",
        "\n",
        "By convention, NumPy is often imported as the name `np`. A NumPy array can be created using the `np.array()` function."
      ]
    },
    {
      "cell_type": "code",
      "execution_count": null,
      "id": "2fff1b86-ac9f-40e6-baa6-6b4eb912c373",
      "metadata": {
        "colab": {
          "base_uri": "https://localhost:8080/"
        },
        "id": "2fff1b86-ac9f-40e6-baa6-6b4eb912c373",
        "outputId": "e3415ba5-9efa-473c-b0f7-c328e729f249"
      },
      "outputs": [
        {
          "name": "stdout",
          "output_type": "stream",
          "text": [
            "[[1 2 3]\n",
            " [4 5 6]]\n",
            "<class 'numpy.ndarray'>\n"
          ]
        }
      ],
      "source": [
        "import numpy as np\n",
        "arr = np.array([[1, 2, 3], [4, 5, 6]])\n",
        "print(arr)\n",
        "print(type(arr))"
      ]
    },
    {
      "cell_type": "markdown",
      "id": "ccacb336-f0fa-4ae2-a029-51b2a3c0f727",
      "metadata": {
        "id": "ccacb336-f0fa-4ae2-a029-51b2a3c0f727"
      },
      "source": [
        "The following code examines various properties of an array."
      ]
    },
    {
      "cell_type": "code",
      "execution_count": null,
      "id": "a6f6b86f-022e-4861-9db6-9bea35014b59",
      "metadata": {
        "colab": {
          "base_uri": "https://localhost:8080/"
        },
        "id": "a6f6b86f-022e-4861-9db6-9bea35014b59",
        "outputId": "4aae888f-7d53-4400-faa7-d7eb06abd1cd"
      },
      "outputs": [
        {
          "name": "stdout",
          "output_type": "stream",
          "text": [
            "arr.size=6\n",
            "arr.shape=(2, 3)\n",
            "arr.ndim=2\n",
            "arr.dtype=dtype('int64')\n",
            "arr.itemsize=8\n"
          ]
        }
      ],
      "source": [
        "print(f\"{arr.size=}\")  # number of items in array\n",
        "print(f\"{arr.shape=}\")  # dimensions of array\n",
        "print(f\"{arr.ndim=}\")  # number of dimensions, 1D or 2D etc\n",
        "print(f\"{arr.dtype=}\")  # data type of items\n",
        "print(f\"{arr.itemsize=}\")  # byte size of an item"
      ]
    },
    {
      "cell_type": "markdown",
      "id": "196832f8-313a-428e-bde6-dd8f92ab67e1",
      "metadata": {
        "id": "196832f8-313a-428e-bde6-dd8f92ab67e1"
      },
      "source": [
        "In NumPy, a dimension is often called an *axis*; e.g. axis-0 means the first or most dominant dimension of an array.\n",
        "\n",
        "We can change the dimensions, or shape, of an array using the `reshape()` method or function. Specifying `-1` as a dimension lets NumPy calculate that dimension according to the number of items in the array. `reshape()` would not modify the provided array but return a new array."
      ]
    },
    {
      "cell_type": "code",
      "execution_count": null,
      "id": "f0c01357-84b2-4ea9-858a-44d75b6fb2a2",
      "metadata": {
        "colab": {
          "base_uri": "https://localhost:8080/"
        },
        "id": "f0c01357-84b2-4ea9-858a-44d75b6fb2a2",
        "outputId": "a786ff76-2ba3-454b-a688-fa38984b98cf"
      },
      "outputs": [
        {
          "name": "stdout",
          "output_type": "stream",
          "text": [
            "[[1 2]\n",
            " [3 4]\n",
            " [5 6]] (3, 2)\n",
            "[[1 2 3]\n",
            " [4 5 6]] (2, 3)\n"
          ]
        }
      ],
      "source": [
        "arr2 = arr.reshape((3, -1))  # -1 becomes 6/3=2\n",
        "print(arr2, arr2.shape)\n",
        "print(arr, arr.shape)  # arr is not changed!"
      ]
    },
    {
      "cell_type": "code",
      "execution_count": null,
      "id": "32d5e305-8d8a-47a0-afd4-319645340058",
      "metadata": {
        "colab": {
          "base_uri": "https://localhost:8080/"
        },
        "id": "32d5e305-8d8a-47a0-afd4-319645340058",
        "outputId": "8f40fd0f-192b-4928-ea6a-2f405f6b8c93"
      },
      "outputs": [
        {
          "name": "stdout",
          "output_type": "stream",
          "text": [
            "[[1]\n",
            " [2]\n",
            " [3]\n",
            " [4]\n",
            " [5]\n",
            " [6]] (6, 1)\n"
          ]
        }
      ],
      "source": [
        "arr3 = np.reshape(arr, (6, 1))  # 2D array of 6x1 items\n",
        "print(arr3, arr3.shape)"
      ]
    },
    {
      "cell_type": "code",
      "execution_count": null,
      "id": "bcfd5053-a98e-4b8d-b9f6-7d86b602c5de",
      "metadata": {
        "colab": {
          "base_uri": "https://localhost:8080/"
        },
        "id": "bcfd5053-a98e-4b8d-b9f6-7d86b602c5de",
        "outputId": "4609688d-ec61-48ec-d480-db1eacfea2a4"
      },
      "outputs": [
        {
          "name": "stdout",
          "output_type": "stream",
          "text": [
            "[1 2 3 4 5 6] (6,)\n"
          ]
        }
      ],
      "source": [
        "arr4 = np.reshape(arr, (6,))  # 1D array of 6 items\n",
        "print(arr4, arr4.shape)"
      ]
    },
    {
      "cell_type": "markdown",
      "id": "5847830c-7ba4-4c6e-8c07-0408747bb1e0",
      "metadata": {
        "id": "5847830c-7ba4-4c6e-8c07-0408747bb1e0"
      },
      "source": [
        "## More ways of creating arrays\n",
        "\n",
        "There are many other ways of creating NumPy arrays. Some are shown below."
      ]
    },
    {
      "cell_type": "code",
      "execution_count": null,
      "id": "beceb36e-3634-4ba6-9595-129229b1a226",
      "metadata": {
        "colab": {
          "base_uri": "https://localhost:8080/"
        },
        "id": "beceb36e-3634-4ba6-9595-129229b1a226",
        "outputId": "a6e582e3-1bd7-4cb0-d96e-a214b85cb5ee"
      },
      "outputs": [
        {
          "name": "stdout",
          "output_type": "stream",
          "text": [
            "[[0. 0. 0. 0. 0.]\n",
            " [0. 0. 0. 0. 0.]]\n"
          ]
        }
      ],
      "source": [
        "a = np.zeros((2, 5)) # 2D array of 2x5 zeros\n",
        "print(a)"
      ]
    },
    {
      "cell_type": "code",
      "execution_count": null,
      "id": "ba4991fb-3ddd-4879-9296-88c9d87327d9",
      "metadata": {
        "colab": {
          "base_uri": "https://localhost:8080/"
        },
        "id": "ba4991fb-3ddd-4879-9296-88c9d87327d9",
        "outputId": "16780a71-5e9b-4245-e56b-9c6567503dcd"
      },
      "outputs": [
        {
          "data": {
            "text/plain": [
              "array([1., 1., 1., 1., 1.])"
            ]
          },
          "execution_count": 35,
          "metadata": {},
          "output_type": "execute_result"
        }
      ],
      "source": [
        "a = np.ones(5) # 1D array of 5 ones, same as np.ones((5,))\n",
        "a  # Colab automatically displays the last expression in a code cell"
      ]
    },
    {
      "cell_type": "code",
      "execution_count": null,
      "id": "6f3dade3-b263-4d1f-8c70-419c2e409960",
      "metadata": {
        "colab": {
          "base_uri": "https://localhost:8080/"
        },
        "id": "6f3dade3-b263-4d1f-8c70-419c2e409960",
        "outputId": "e0e0de85-6d89-492d-be05-e9b9af37c4f6"
      },
      "outputs": [
        {
          "data": {
            "text/plain": [
              "array([0. , 0.5, 1. , 1.5, 2. , 2.5, 3. , 3.5, 4. , 4.5])"
            ]
          },
          "execution_count": 36,
          "metadata": {},
          "output_type": "execute_result"
        }
      ],
      "source": [
        "# No need to keep the array for later use; let's just display it\n",
        "np.arange(0, 5, 0.5)  # 0 (included) to 5 (excluded) in steps of 0.5"
      ]
    },
    {
      "cell_type": "code",
      "execution_count": null,
      "id": "8753a529-8470-4dda-b61d-2f285a9a6aec",
      "metadata": {
        "colab": {
          "base_uri": "https://localhost:8080/"
        },
        "id": "8753a529-8470-4dda-b61d-2f285a9a6aec",
        "outputId": "7bad0176-02cd-4c49-8bc6-0609b6e983b6"
      },
      "outputs": [
        {
          "data": {
            "text/plain": [
              "array([0.        , 0.55555556, 1.11111111, 1.66666667, 2.22222222,\n",
              "       2.77777778, 3.33333333, 3.88888889, 4.44444444, 5.        ])"
            ]
          },
          "execution_count": 37,
          "metadata": {},
          "output_type": "execute_result"
        }
      ],
      "source": [
        "np.linspace(0, 5, 10)  # 10 items from 0 to 5 (both included!)"
      ]
    },
    {
      "cell_type": "markdown",
      "id": "996d4d70-ea64-4986-ac9d-508ce7893a1e",
      "metadata": {
        "id": "996d4d70-ea64-4986-ac9d-508ce7893a1e"
      },
      "source": [
        "## Array indexing\n",
        "\n",
        "An item in an array can be accessed using indexing, with index values specified for the dimensions separated by commas, as `arr[r_index, c_index]` for a 2D array."
      ]
    },
    {
      "cell_type": "code",
      "execution_count": null,
      "id": "a9accd42-0530-48db-ac23-31725be1d9bf",
      "metadata": {
        "colab": {
          "base_uri": "https://localhost:8080/"
        },
        "id": "a9accd42-0530-48db-ac23-31725be1d9bf",
        "outputId": "7f0d939e-f950-4959-ea59-0dbfef80b39e"
      },
      "outputs": [
        {
          "data": {
            "text/plain": [
              "array([[ 0,  1,  2,  3],\n",
              "       [ 4,  5,  6,  7],\n",
              "       [ 8,  9, 10, 11]])"
            ]
          },
          "execution_count": 38,
          "metadata": {},
          "output_type": "execute_result"
        }
      ],
      "source": [
        "a = np.arange(12).reshape((3, 4))\n",
        "a"
      ]
    },
    {
      "cell_type": "code",
      "execution_count": null,
      "id": "dfb5c155-07f6-4c25-9f6a-527b5b862470",
      "metadata": {
        "colab": {
          "base_uri": "https://localhost:8080/"
        },
        "id": "dfb5c155-07f6-4c25-9f6a-527b5b862470",
        "outputId": "db5fff3b-6169-4138-aed9-ca8155279eac"
      },
      "outputs": [
        {
          "data": {
            "text/plain": [
              "6"
            ]
          },
          "execution_count": 39,
          "metadata": {},
          "output_type": "execute_result"
        }
      ],
      "source": [
        "a[1, 2]  # index 1 -> second row, index 2 -> third column"
      ]
    },
    {
      "cell_type": "markdown",
      "id": "f89f0bf0-ddfb-411d-877b-ad5268aec8f7",
      "metadata": {
        "id": "f89f0bf0-ddfb-411d-877b-ad5268aec8f7"
      },
      "source": [
        "A row is accessed using `arr[r_index]`, while a column using `arr[:, c_index]`. You may think of `:` to mean \"all items\" in a dimension or along an axis."
      ]
    },
    {
      "cell_type": "code",
      "execution_count": null,
      "id": "91968532-511c-4cc0-bf18-9581e8950785",
      "metadata": {
        "colab": {
          "base_uri": "https://localhost:8080/"
        },
        "id": "91968532-511c-4cc0-bf18-9581e8950785",
        "outputId": "54019aeb-c574-4fbb-b067-35538f78d0f9"
      },
      "outputs": [
        {
          "data": {
            "text/plain": [
              "array([4, 5, 6, 7])"
            ]
          },
          "execution_count": 40,
          "metadata": {},
          "output_type": "execute_result"
        }
      ],
      "source": [
        "a[1]  # index 1 -> second row, all columns; same as a[1, :]"
      ]
    },
    {
      "cell_type": "code",
      "execution_count": null,
      "id": "944fc568-fc2d-4e7c-954e-d0829fa73a66",
      "metadata": {
        "colab": {
          "base_uri": "https://localhost:8080/"
        },
        "id": "944fc568-fc2d-4e7c-954e-d0829fa73a66",
        "outputId": "b6851512-037d-4d4c-f974-03343111b53f"
      },
      "outputs": [
        {
          "data": {
            "text/plain": [
              "array([ 2,  6, 10])"
            ]
          },
          "execution_count": 41,
          "metadata": {},
          "output_type": "execute_result"
        }
      ],
      "source": [
        "a[:, 2]  # : -> all rows; index 2 -> third column"
      ]
    },
    {
      "cell_type": "markdown",
      "id": "da43cb1e-b065-4ac8-97e0-8f6324f9b9f4",
      "metadata": {
        "id": "da43cb1e-b065-4ac8-97e0-8f6324f9b9f4"
      },
      "source": [
        "Multiple consecutive columns of an array can be accessed using a slice, i.e. `start:stop:step`, as the column index. The code below accesses the region of all rows and the second and third columns in the array."
      ]
    },
    {
      "cell_type": "code",
      "execution_count": null,
      "id": "4137ce8f-719d-4ab6-9a14-6b4fc1a3a2f8",
      "metadata": {
        "colab": {
          "base_uri": "https://localhost:8080/"
        },
        "id": "4137ce8f-719d-4ab6-9a14-6b4fc1a3a2f8",
        "outputId": "950be77e-822b-4494-db9d-14f45142a4f3"
      },
      "outputs": [
        {
          "data": {
            "text/plain": [
              "array([[ 1,  2],\n",
              "       [ 5,  6],\n",
              "       [ 9, 10]])"
            ]
          },
          "execution_count": 42,
          "metadata": {},
          "output_type": "execute_result"
        }
      ],
      "source": [
        "a[:, 1:3]  # : -> all rows, slice 1:3 -> second & third columns"
      ]
    },
    {
      "cell_type": "markdown",
      "id": "f0530767-004d-487f-aa38-8db7950bc952",
      "metadata": {
        "id": "f0530767-004d-487f-aa38-8db7950bc952"
      },
      "source": [
        "# Practice - Question 3 of 3"
      ]
    },
    {
      "cell_type": "markdown",
      "id": "e869585b-076c-41e9-9639-10887bae3e59",
      "metadata": {
        "id": "e869585b-076c-41e9-9639-10887bae3e59"
      },
      "source": [
        "## Q3a\n",
        "\n",
        "Write code to do the following:\n",
        "\n",
        "- Import NumPy as the name `np`.\n",
        "- Create a 2D array of 5x2 items from 20 (included) to 30 (excluded). Use the `np.arange()` function and the `reshape()` method. Keep it in a variable called `arr`.\n",
        "- Write `arr` in the last line of the code cell so that it is displayed in execution."
      ]
    },
    {
      "cell_type": "code",
      "execution_count": null,
      "id": "62b02c26-8326-4e58-b111-f1ebd594dbdf",
      "metadata": {
        "colab": {
          "base_uri": "https://localhost:8080/"
        },
        "id": "62b02c26-8326-4e58-b111-f1ebd594dbdf",
        "outputId": "f340becc-c331-497b-bf44-08b896b040a2"
      },
      "outputs": [
        {
          "data": {
            "text/plain": [
              "array([[20, 21],\n",
              "       [22, 23],\n",
              "       [24, 25],\n",
              "       [26, 27],\n",
              "       [28, 29]])"
            ]
          },
          "execution_count": 43,
          "metadata": {},
          "output_type": "execute_result"
        }
      ],
      "source": [
        "import numpy as np\n",
        "X = np.arange(20, 30).reshape(5, 2)\n",
        "X"
      ]
    },
    {
      "cell_type": "markdown",
      "id": "ad428f5b-ebe1-4f67-8672-393da81dc29f",
      "metadata": {
        "id": "ad428f5b-ebe1-4f67-8672-393da81dc29f"
      },
      "source": [
        "## Q3b\n",
        "\n",
        "This part continues to use the `arr` variable above. Write code to display each of the following using `print()`, `arr` and array indexing:\n",
        "\n",
        "- The value `22` in the array.\n",
        "- The value `25` in the array.\n",
        "- The first row, i.e. `[20, 21]`.\n",
        "- The last column, i.e. `[21, 23, 25, 27, 29]`.\n",
        "- The last two rows, i.e. `[[26, 27], [28, 29]]`."
      ]
    },
    {
      "cell_type": "code",
      "execution_count": null,
      "id": "e09fff88-b4dd-4444-8445-2896d14f53ca",
      "metadata": {
        "colab": {
          "base_uri": "https://localhost:8080/"
        },
        "id": "e09fff88-b4dd-4444-8445-2896d14f53ca",
        "outputId": "559f6081-9657-49d1-c71d-9cac7133a2fa"
      },
      "outputs": [
        {
          "name": "stdout",
          "output_type": "stream",
          "text": [
            "The value 22 in the array: 4\n",
            "The value 25 in the array: 6\n",
            "The first row: [1 2 3]\n",
            "The last column: [2 5]\n",
            "The last two rows: []\n"
          ]
        }
      ],
      "source": [
        "print(\"The value 22 in the array:\", arr[1, 0])\n",
        "print(\"The value 25 in the array:\", arr[1, 2])\n",
        "print(\"The first row:\", arr[0])\n",
        "print(\"The last column:\", arr[:, 1])\n",
        "print(\"The last two rows:\", arr[3:])"
      ]
    },
    {
      "cell_type": "markdown",
      "id": "d6ba24b4-0a30-4750-89de-ea38bde980b3",
      "metadata": {
        "id": "d6ba24b4-0a30-4750-89de-ea38bde980b3"
      },
      "source": [
        "## Q3c\n",
        "\n",
        "Write code to do the following with proper NumPy API:\n",
        "\n",
        "- Create an array of 1001 numbers from 100 (included) to 200 (included), using the `np.linspace()` function. Keep the array in a variable called `xs`.\n",
        "- Display the array `xs`. It should be like `[100. 100.1 100.2 ... 200.]`.\n",
        "- Display the first 10 items of `xs`.\n",
        "- Display the last 10 items of `xs`. Hint: use the indexing `[-10:]`.\n",
        "- Display the number of items in `xs`."
      ]
    },
    {
      "cell_type": "code",
      "execution_count": null,
      "id": "d43f3b40-5c4c-409c-877c-78c80e102389",
      "metadata": {
        "colab": {
          "base_uri": "https://localhost:8080/"
        },
        "id": "d43f3b40-5c4c-409c-877c-78c80e102389",
        "outputId": "709f7d52-5cb4-4a5c-8507-beedaf111d67"
      },
      "outputs": [
        {
          "name": "stdout",
          "output_type": "stream",
          "text": [
            "Array xs: [100.  100.1 100.2 ... 199.8 199.9 200. ]\n",
            "First 10 items of xs: [100.  100.1 100.2 100.3 100.4 100.5 100.6 100.7 100.8 100.9]\n",
            "Last 10 items of xs: [199.1 199.2 199.3 199.4 199.5 199.6 199.7 199.8 199.9 200. ]\n",
            "Number of items in xs: 1001\n"
          ]
        }
      ],
      "source": [
        "import numpy as np\n",
        "\n",
        "xs = np.linspace(100, 200, 1001)\n",
        "\n",
        "print(\"Array xs:\", xs)\n",
        "print(\"First 10 items of xs:\", xs[:10])\n",
        "print(\"Last 10 items of xs:\", xs[-10:])\n",
        "print(\"Number of items in xs:\", xs.size)\n",
        "\n"
      ]
    },
    {
      "cell_type": "markdown",
      "id": "413bc5ba-821f-45b4-8bec-b823b16f4983",
      "metadata": {
        "id": "413bc5ba-821f-45b4-8bec-b823b16f4983"
      },
      "source": [
        "## &#x2766;"
      ]
    },
    {
      "cell_type": "markdown",
      "id": "288c1575-b995-4bc0-9fa5-f79383d0de83",
      "metadata": {
        "id": "288c1575-b995-4bc0-9fa5-f79383d0de83"
      },
      "source": [
        "# Extras"
      ]
    },
    {
      "cell_type": "markdown",
      "id": "58eeb6a1-c140-457a-89b4-fecd3266f54b",
      "metadata": {
        "id": "58eeb6a1-c140-457a-89b4-fecd3266f54b",
        "tags": []
      },
      "source": [
        "## More list operations\n",
        "\n",
        "Items can be removed from a list using the `del` operator or the `pop()` method."
      ]
    },
    {
      "cell_type": "code",
      "execution_count": null,
      "id": "3c3c827a-691c-4948-a9db-c9f637be090f",
      "metadata": {
        "colab": {
          "base_uri": "https://localhost:8080/"
        },
        "id": "3c3c827a-691c-4948-a9db-c9f637be090f",
        "outputId": "57299c9d-0557-41ee-dd7a-19945d6c8e13"
      },
      "outputs": [
        {
          "name": "stdout",
          "output_type": "stream",
          "text": [
            "[1, 2, 3, 4, 5]\n",
            "[1, 3, 4, 5]\n",
            "[1, 3, 4]\n"
          ]
        }
      ],
      "source": [
        "ls = [1, 2, 3, 4, 5]\n",
        "print(ls)\n",
        "del ls[1]  # remove the 2nd item, i.e. with index 1\n",
        "print(ls)\n",
        "ls.pop()  # remove item at the end\n",
        "print(ls)"
      ]
    },
    {
      "cell_type": "markdown",
      "id": "7b4da118-6dfc-4bae-a243-a3864164a1db",
      "metadata": {
        "id": "7b4da118-6dfc-4bae-a243-a3864164a1db"
      },
      "source": [
        "Some list functions modify list contents in-place (e.g. `extend()`); usually the return values of such functions are not used. Other functions and operations return copies or new lists (e.g. `+`), which are typically assigned to variables for later uses."
      ]
    },
    {
      "cell_type": "code",
      "execution_count": null,
      "id": "adef3ddc-da3e-42a6-95cd-3df4f3c7a789",
      "metadata": {
        "colab": {
          "base_uri": "https://localhost:8080/"
        },
        "id": "adef3ddc-da3e-42a6-95cd-3df4f3c7a789",
        "outputId": "2bf749ba-d238-4cc5-b4fd-5cee79742924"
      },
      "outputs": [
        {
          "name": "stdout",
          "output_type": "stream",
          "text": [
            "[1, 2, 3]\n",
            "[1, 2, 3, 40, 50]\n"
          ]
        }
      ],
      "source": [
        "ls = [1, 2, 3]\n",
        "print(ls)\n",
        "ls.extend([40, 50])  # add two items in-place\n",
        "print(ls)  # ls is modified!"
      ]
    },
    {
      "cell_type": "code",
      "execution_count": null,
      "id": "36f84493-83ba-4f87-826a-20bc54c25f00",
      "metadata": {
        "colab": {
          "base_uri": "https://localhost:8080/"
        },
        "id": "36f84493-83ba-4f87-826a-20bc54c25f00",
        "outputId": "153ef4c1-1ac0-44a3-a7f1-32d526f958ba"
      },
      "outputs": [
        {
          "name": "stdout",
          "output_type": "stream",
          "text": [
            "[1, 2, 3]\n",
            "[1, 2, 3]\n",
            "[1, 2, 3, 40, 50]\n"
          ]
        }
      ],
      "source": [
        "ls = [1, 2, 3]\n",
        "print(ls)\n",
        "ls2 = ls + [40, 50]  # add two items and put result to ls2\n",
        "print(ls)  # ls is not modified!\n",
        "print(ls2)  # result is in ls2"
      ]
    },
    {
      "cell_type": "markdown",
      "id": "72c816c8-f751-40e7-8b31-09fd8f9b27a0",
      "metadata": {
        "id": "72c816c8-f751-40e7-8b31-09fd8f9b27a0",
        "tags": []
      },
      "source": [
        "## Sets and dictionaries\n",
        "\n",
        "A *set* is an unordered collection of unique items. If an item already exists in a set, adding another item of an equal value has no effect."
      ]
    },
    {
      "cell_type": "code",
      "execution_count": null,
      "id": "cecf481b-8fcb-4c74-a78b-8bb82ba1bbb0",
      "metadata": {
        "colab": {
          "base_uri": "https://localhost:8080/"
        },
        "id": "cecf481b-8fcb-4c74-a78b-8bb82ba1bbb0",
        "outputId": "b742ce7b-8d2b-4d35-c3d7-903f2d6b278c"
      },
      "outputs": [
        {
          "name": "stdout",
          "output_type": "stream",
          "text": [
            "{'three', 1, 2}\n",
            "<class 'set'>\n",
            "3\n"
          ]
        }
      ],
      "source": [
        "s = {1, 2, \"three\", 1, 2.0, 1, 1}  # equal item skipped\n",
        "print(s)\n",
        "print(type(s))\n",
        "print(len(s))"
      ]
    },
    {
      "cell_type": "markdown",
      "id": "c55d3585-4fc4-419d-8f6c-686f3c410f76",
      "metadata": {
        "id": "c55d3585-4fc4-419d-8f6c-686f3c410f76"
      },
      "source": [
        "Use the `add()` method to add an item to a set, and the `in` operator to check if an item exists in a set."
      ]
    },
    {
      "cell_type": "code",
      "execution_count": null,
      "id": "a6eb3f49-8533-4218-ae92-fe5acc65ef88",
      "metadata": {
        "colab": {
          "base_uri": "https://localhost:8080/"
        },
        "id": "a6eb3f49-8533-4218-ae92-fe5acc65ef88",
        "outputId": "b74f929e-1e5f-4132-f0ef-bf374081847a"
      },
      "outputs": [
        {
          "name": "stdout",
          "output_type": "stream",
          "text": [
            "False\n",
            "True\n"
          ]
        }
      ],
      "source": [
        "s = {1, 2, 3}\n",
        "print(40 in s)\n",
        "s.add(40)\n",
        "print(40 in s)"
      ]
    },
    {
      "cell_type": "markdown",
      "id": "66d0e185-9027-46ee-8d91-858010d07397",
      "metadata": {
        "id": "66d0e185-9027-46ee-8d91-858010d07397"
      },
      "source": [
        "A *dictionary* is a collection of key-value pairs with unique keys."
      ]
    },
    {
      "cell_type": "code",
      "execution_count": null,
      "id": "d0f53bef-cb64-4746-82b6-dfc5b746aaed",
      "metadata": {
        "colab": {
          "base_uri": "https://localhost:8080/"
        },
        "id": "d0f53bef-cb64-4746-82b6-dfc5b746aaed",
        "outputId": "256a83b1-65a4-403a-a2ac-683f63bcdc46"
      },
      "outputs": [
        {
          "name": "stdout",
          "output_type": "stream",
          "text": [
            "{'one': 1, 'two': 2.0, 'three': 3}\n",
            "<class 'dict'>\n",
            "3\n"
          ]
        }
      ],
      "source": [
        "d = {\"one\": 1, \"two\": 2, \"three\": 3, \"two\": 2.0}  # equal key overriding item\n",
        "print(d)\n",
        "print(type(d))\n",
        "print(len(d))"
      ]
    },
    {
      "cell_type": "markdown",
      "id": "baeeb0b4-128f-4858-9165-0f46f8fc1e85",
      "metadata": {
        "id": "baeeb0b4-128f-4858-9165-0f46f8fc1e85"
      },
      "source": [
        "Values in a dictionary can be accessed or added by indexing with the keys. Use the `in` operator to check if a key exists."
      ]
    },
    {
      "cell_type": "code",
      "execution_count": null,
      "id": "12182a3a-992a-4ab8-be97-9af98a665123",
      "metadata": {
        "colab": {
          "base_uri": "https://localhost:8080/"
        },
        "id": "12182a3a-992a-4ab8-be97-9af98a665123",
        "outputId": "9ba21b8c-da81-4552-84bf-bfe23aa2e40f"
      },
      "outputs": [
        {
          "name": "stdout",
          "output_type": "stream",
          "text": [
            "1\n",
            "False\n",
            "True 4\n"
          ]
        }
      ],
      "source": [
        "print(d[\"one\"])\n",
        "print(\"four\" in d)\n",
        "d[\"four\"] = 4  # add an item as the key doesn't exist\n",
        "print(\"four\" in d, d[\"four\"])"
      ]
    },
    {
      "cell_type": "markdown",
      "id": "1c570629-19ac-4d05-85ea-8295a3cf706a",
      "metadata": {
        "id": "1c570629-19ac-4d05-85ea-8295a3cf706a"
      },
      "source": [
        "### E1a\n",
        "\n",
        "For each of the following expressions, write a statement to print the value of the expression, and the type of the value. For example, for an expression `set()`, the statement is `print(set(), type( set() ))`.\n",
        "\n",
        "- `{}`\n",
        "- `()`\n",
        "- `(42)`\n",
        "- `(42,)`"
      ]
    },
    {
      "cell_type": "markdown",
      "id": "89a2434e-4eae-4924-a517-6a1c91765456",
      "metadata": {
        "id": "89a2434e-4eae-4924-a517-6a1c91765456",
        "tags": []
      },
      "source": [
        "## NumPy operations along axes\n",
        "\n",
        "Some NumPy operations can be applied to the whole array or along a certain axis of the array. E.g. in a 2D array, along axis-0 means across the rows downwards, while along axis-1 means across the columns towards the right.\n",
        "\n",
        "The following code use `max()` to display the maximum value of an array, the maximum value of every column (along axis-0 or across rows downwards), and the maximum value of every row (along axis-1 or across columns towards the right). Note that the array contents are shuffled for more observable results."
      ]
    },
    {
      "cell_type": "code",
      "execution_count": null,
      "id": "7115c7ab-c35a-4980-b4c6-6826a1e33083",
      "metadata": {
        "colab": {
          "base_uri": "https://localhost:8080/"
        },
        "id": "7115c7ab-c35a-4980-b4c6-6826a1e33083",
        "outputId": "cfade7f1-3ffb-49bf-adb4-99564271bfa1"
      },
      "outputs": [
        {
          "name": "stdout",
          "output_type": "stream",
          "text": [
            "[[10  9  0  8]\n",
            " [ 5  2  1 11]\n",
            " [ 4  7  3  6]]\n",
            "arr.max() = 11\n",
            "arr.max(axis=0) = array([10,  9,  3, 11])\n",
            "arr.max(axis=1) = array([10, 11,  7])\n"
          ]
        }
      ],
      "source": [
        "import numpy as np\n",
        "arr = np.arange(12)\n",
        "np.random.seed(42)  # reproducible random results\n",
        "np.random.shuffle(arr)  # shuffle in-place, i.e. modify arr\n",
        "arr = arr.reshape((3, 4))\n",
        "print(arr)\n",
        "print(f\"{arr.max() = }\")  # max of whole array; same as np.max(arr)\n",
        "print(f\"{arr.max(axis=0) = }\")  # max of every column; np.max(arr, axis=0)\n",
        "print(f\"{arr.max(axis=1) = }\")  # max of every row; np.max(arr, axis=1)"
      ]
    },
    {
      "cell_type": "markdown",
      "id": "9ef8cf35-8df2-40ae-90d4-00e4122e9e48",
      "metadata": {
        "id": "9ef8cf35-8df2-40ae-90d4-00e4122e9e48"
      },
      "source": [
        "### E1b\n",
        "\n",
        "Write code to create a 2D array of 3x3 integers from 0 (included) to 9 (excluded) in a random order (i.e. with contents shuffle). Display the array, the mean of the whole array, the mean of every column (along axis-0), the mean of every row (along axis-1); use the `np.mean(arr, axis=n)` function."
      ]
    },
    {
      "cell_type": "markdown",
      "id": "8d337a1e-6de4-426e-a85f-3b9aef4669cf",
      "metadata": {
        "id": "8d337a1e-6de4-426e-a85f-3b9aef4669cf"
      },
      "source": [
        "## Solutions to extra exercises"
      ]
    },
    {
      "cell_type": "markdown",
      "id": "1d0e586d-36c8-4948-8f8f-b19942877a9f",
      "metadata": {
        "id": "1d0e586d-36c8-4948-8f8f-b19942877a9f"
      },
      "source": [
        "### E1a"
      ]
    },
    {
      "cell_type": "code",
      "execution_count": null,
      "id": "b682fa57-eb04-4364-84bf-17304f9e93da",
      "metadata": {
        "colab": {
          "base_uri": "https://localhost:8080/"
        },
        "id": "b682fa57-eb04-4364-84bf-17304f9e93da",
        "outputId": "381293ec-933e-49cd-ebbd-697c9f87cf17"
      },
      "outputs": [
        {
          "name": "stdout",
          "output_type": "stream",
          "text": [
            "{} <class 'dict'>\n",
            "() <class 'tuple'>\n",
            "42 <class 'int'>\n",
            "(42,) <class 'tuple'>\n"
          ]
        }
      ],
      "source": [
        "# Solution\n",
        "print({}, type({}))\n",
        "print((), type(()))\n",
        "print((42), type((42)))\n",
        "print((42,), type((42,)))"
      ]
    },
    {
      "cell_type": "markdown",
      "id": "cc719732-8031-485b-8e1e-f299da1ca804",
      "metadata": {
        "id": "cc719732-8031-485b-8e1e-f299da1ca804"
      },
      "source": [
        "### E1b"
      ]
    },
    {
      "cell_type": "code",
      "execution_count": null,
      "id": "6193d3e4-1ef7-4962-9646-9e137a4dc666",
      "metadata": {
        "colab": {
          "base_uri": "https://localhost:8080/"
        },
        "id": "6193d3e4-1ef7-4962-9646-9e137a4dc666",
        "outputId": "11cd5003-eb16-4de0-db7a-008ad2e2e1d4"
      },
      "outputs": [
        {
          "name": "stdout",
          "output_type": "stream",
          "text": [
            "[[7 1 5]\n",
            " [0 8 2]\n",
            " [4 3 6]]\n",
            "np.mean(arr) = 4.0\n",
            "np.mean(arr, axis=0) = array([3.66666667, 4.        , 4.33333333])\n",
            "np.mean(arr, axis=1) = array([4.33333333, 3.33333333, 4.33333333])\n"
          ]
        }
      ],
      "source": [
        "# Solution\n",
        "import numpy as np\n",
        "arr = np.arange(9)\n",
        "np.random.seed(42)  # reproducible random results\n",
        "np.random.shuffle(arr)  # shuffle in-place, i.e. modify arr\n",
        "arr = arr.reshape((3, 3))\n",
        "print(arr)\n",
        "print(f\"{np.mean(arr) = }\")  # mean of whole array; same as arr.mean()\n",
        "print(f\"{np.mean(arr, axis=0) = }\")  # mean of every column; arr.mean(axis=0)\n",
        "print(f\"{np.mean(arr, axis=1) = }\")  # mean of every row; arr.mean(axis=1)"
      ]
    },
    {
      "cell_type": "markdown",
      "id": "653027c0-f313-456f-a7e2-721d8cbc3c36",
      "metadata": {
        "id": "653027c0-f313-456f-a7e2-721d8cbc3c36"
      },
      "source": [
        "## &#x2766;"
      ]
    }
  ],
  "metadata": {
    "colab": {
      "provenance": []
    },
    "kernelspec": {
      "display_name": "Python 3 (ipykernel)",
      "language": "python",
      "name": "python3"
    },
    "language_info": {
      "codemirror_mode": {
        "name": "ipython",
        "version": 3
      },
      "file_extension": ".py",
      "mimetype": "text/x-python",
      "name": "python",
      "nbconvert_exporter": "python",
      "pygments_lexer": "ipython3",
      "version": "3.11.5"
    }
  },
  "nbformat": 4,
  "nbformat_minor": 5
}
