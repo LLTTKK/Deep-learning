{
  "cells": [
    {
      "cell_type": "markdown",
      "id": "adac3692-135c-4a12-9394-391e108a0241",
      "metadata": {
        "id": "adac3692-135c-4a12-9394-391e108a0241"
      },
      "source": [
        "# COMP S493F Lab 4"
      ]
    },
    {
      "cell_type": "code",
      "execution_count": null,
      "id": "75c66123-4403-4374-aba0-827d023f4fe2",
      "metadata": {
        "id": "75c66123-4403-4374-aba0-827d023f4fe2",
        "outputId": "505d9690-752e-42c6-c025-491be741440c",
        "tags": []
      },
      "outputs": [
        {
          "name": "stdout",
          "output_type": "stream",
          "text": [
            "env: TF_CPP_MIN_LOG_LEVEL=2\n"
          ]
        }
      ],
      "source": [
        "%env TF_CPP_MIN_LOG_LEVEL=2"
      ]
    },
    {
      "cell_type": "markdown",
      "id": "5c9d9e0b-efaf-4aa9-8ff1-2e1d50add05d",
      "metadata": {
        "id": "5c9d9e0b-efaf-4aa9-8ff1-2e1d50add05d"
      },
      "source": [
        "In this lesson, you'll work on:\n",
        "\n",
        "- exploring components in neural networks, and\n",
        "- designing a neural network for regression."
      ]
    },
    {
      "cell_type": "markdown",
      "id": "0f5fc271-7a18-4bb6-ab9b-277082e08ee2",
      "metadata": {
        "id": "0f5fc271-7a18-4bb6-ab9b-277082e08ee2"
      },
      "source": [
        "### Student name: *Lo Tsz Kin*\n"
      ]
    },
    {
      "cell_type": "markdown",
      "id": "14d2490d-2243-4a58-a583-d93e892b25da",
      "metadata": {
        "id": "14d2490d-2243-4a58-a583-d93e892b25da"
      },
      "source": [
        "# Exploring components in neural networks"
      ]
    },
    {
      "cell_type": "markdown",
      "id": "7a39d4f3-c11c-4630-8441-9a28b52d5728",
      "metadata": {
        "id": "7a39d4f3-c11c-4630-8441-9a28b52d5728"
      },
      "source": [
        "A neural network is built using various components. Having critical effects on performance, the types of components are chosen largely based on the type and nature of the task, the dataset to be used, among others.\n",
        "\n",
        "Some key components and their commonly-used types are:\n",
        "\n",
        "- Activation functions: ReLU, sigmoid, tanh, etc;\n",
        "- Loss functions: (for regression) mean squared error, absolute squared error, etc; and\n",
        "- Optimizers: Adam, RMSProp, SGD, etc."
      ]
    },
    {
      "cell_type": "markdown",
      "id": "d621384d-645a-4390-b995-34bddfb8e4c8",
      "metadata": {
        "id": "d621384d-645a-4390-b995-34bddfb8e4c8",
        "tags": []
      },
      "source": [
        "## The dataset\n",
        "\n",
        "Before building a neural network, let's look at the dataset to be used -- the Boston housing dataset. This code loads the dataset."
      ]
    },
    {
      "cell_type": "code",
      "execution_count": 1,
      "id": "3eda7db7-32f3-4983-8c1b-df4f76e3360a",
      "metadata": {
        "colab": {
          "base_uri": "https://localhost:8080/"
        },
        "id": "3eda7db7-32f3-4983-8c1b-df4f76e3360a",
        "outputId": "48bc3467-95d5-4921-ee2d-4395992e2091"
      },
      "outputs": [
        {
          "name": "stdout",
          "output_type": "stream",
          "text": [
            "Downloading data from https://storage.googleapis.com/tensorflow/tf-keras-datasets/boston_housing.npz\n",
            "57026/57026 [==============================] - 0s 0us/step\n"
          ]
        }
      ],
      "source": [
        "from tensorflow import keras\n",
        "from tensorflow.keras.datasets import boston_housing\n",
        "\n",
        "keras.utils.set_random_seed(42)\n",
        "(X_train, y_train), (X_test, y_test) = boston_housing.load_data()"
      ]
    },
    {
      "cell_type": "markdown",
      "id": "49d75e40-685a-45d9-b533-a84a57bbaa58",
      "metadata": {
        "id": "49d75e40-685a-45d9-b533-a84a57bbaa58",
        "tags": []
      },
      "source": [
        "Then, we briefly explore the dataset by displaying its dimensions, and the first three examples as follows. Note that the training set contains 404 examples and the test set contains 102 examples. Each example has 13 features (inputs) and 1 label (output)."
      ]
    },
    {
      "cell_type": "code",
      "execution_count": 2,
      "id": "3041bb86-f3e2-48d2-a8a5-879a8a9076e8",
      "metadata": {
        "colab": {
          "base_uri": "https://localhost:8080/"
        },
        "id": "3041bb86-f3e2-48d2-a8a5-879a8a9076e8",
        "outputId": "5d993bb7-991b-49b6-b888-fc792e5d0a45"
      },
      "outputs": [
        {
          "name": "stdout",
          "output_type": "stream",
          "text": [
            "(404, 13) (404,) (102, 13) (102,)\n"
          ]
        }
      ],
      "source": [
        "print(X_train.shape, y_train.shape, X_test.shape, y_test.shape)"
      ]
    },
    {
      "cell_type": "code",
      "execution_count": 3,
      "id": "8eff8a5b-3945-4f03-a5ff-e7f98c46b438",
      "metadata": {
        "colab": {
          "base_uri": "https://localhost:8080/"
        },
        "id": "8eff8a5b-3945-4f03-a5ff-e7f98c46b438",
        "outputId": "c9b2bd68-b220-4582-8aee-61ba1548a73d"
      },
      "outputs": [
        {
          "name": "stdout",
          "output_type": "stream",
          "text": [
            "[[1.23247e+00 0.00000e+00 8.14000e+00 0.00000e+00 5.38000e-01 6.14200e+00\n",
            "  9.17000e+01 3.97690e+00 4.00000e+00 3.07000e+02 2.10000e+01 3.96900e+02\n",
            "  1.87200e+01]\n",
            " [2.17700e-02 8.25000e+01 2.03000e+00 0.00000e+00 4.15000e-01 7.61000e+00\n",
            "  1.57000e+01 6.27000e+00 2.00000e+00 3.48000e+02 1.47000e+01 3.95380e+02\n",
            "  3.11000e+00]\n",
            " [4.89822e+00 0.00000e+00 1.81000e+01 0.00000e+00 6.31000e-01 4.97000e+00\n",
            "  1.00000e+02 1.33250e+00 2.40000e+01 6.66000e+02 2.02000e+01 3.75520e+02\n",
            "  3.26000e+00]]\n",
            "[15.2 42.3 50. ]\n"
          ]
        }
      ],
      "source": [
        "print(X_train[:3])\n",
        "print(y_train[:3])"
      ]
    },
    {
      "cell_type": "markdown",
      "id": "28af118e-2a6d-44aa-8e3c-99b274d90126",
      "metadata": {
        "id": "28af118e-2a6d-44aa-8e3c-99b274d90126"
      },
      "source": [
        "Some basic information of the dataset is shown below. Further details can be found at <http://lib.stat.cmu.edu/datasets/boston>.\n",
        "\n",
        "```\n",
        "The Boston house-price data of Harrison, D. and Rubinfeld, D.L. 'Hedonic prices and the demand for clean air', J. Environ. Economics & Management, vol.5, 81-102, 1978. Used in Belsley, Kuh & Welsch, 'Regression diagnostics ...', Wiley, 1980. N.B. Various transformations are used in the table on pages 244-261 of the latter.\n",
        "\n",
        " Variables in order:\n",
        " CRIM     per capita crime rate by town\n",
        " ZN       proportion of residential land zoned for lots over 25,000 sq.ft.\n",
        " INDUS    proportion of non-retail business acres per town\n",
        " CHAS     Charles River dummy variable (= 1 if tract bounds river; 0 otherwise)\n",
        " NOX      nitric oxides concentration (parts per 10 million)\n",
        " RM       average number of rooms per dwelling\n",
        " AGE      proportion of owner-occupied units built prior to 1940\n",
        " DIS      weighted distances to five Boston employment centres\n",
        " RAD      index of accessibility to radial highways\n",
        " TAX      full-value property-tax rate per $10,000\n",
        " PTRATIO  pupil-teacher ratio by town\n",
        " B        1000(Bk - 0.63)^2 where Bk is the proportion of blacks by town\n",
        " LSTAT    % lower status of the population\n",
        " MEDV     Median value of owner-occupied homes in $1000's\n",
        " ```"
      ]
    },
    {
      "cell_type": "markdown",
      "id": "d8ee6577-5834-4a2f-891e-aea2c9942e01",
      "metadata": {
        "id": "d8ee6577-5834-4a2f-891e-aea2c9942e01",
        "tags": []
      },
      "source": [
        "## The baseline model\n",
        "\n",
        "The following functions are utilities to normalize input features and plot the training history. They are used several times in the programs below."
      ]
    },
    {
      "cell_type": "code",
      "execution_count": 4,
      "id": "651505e5-bc43-4232-a78c-4510fa5529e1",
      "metadata": {
        "id": "651505e5-bc43-4232-a78c-4510fa5529e1"
      },
      "outputs": [],
      "source": [
        "import matplotlib.pyplot as plt\n",
        "\n",
        "# For demo and general use\n",
        "# Keras Boston dataset has already been normalized\n",
        "# Normalize input features\n",
        "def normalize_features(X_train, X_test):\n",
        "    mean = X_train.mean(axis=0)  # 13 mean values of features\n",
        "    std = X_train.std(axis=0)    # 13 SD values of features\n",
        "    X_train_normalized = (X_train - mean) / std\n",
        "    X_test_normalized = (X_test - mean) / std\n",
        "    return X_train_normalized, X_test_normalized\n",
        "\n",
        "# Plot training history\n",
        "def plot_history(history):\n",
        "    plt.plot(history.history[\"loss\"], label=\"loss\")\n",
        "    plt.plot(history.history[\"val_loss\"], label=\"val_loss\")\n",
        "    plt.legend()"
      ]
    },
    {
      "cell_type": "markdown",
      "id": "aafcee75-e58a-4632-b7d1-ebd928149fc8",
      "metadata": {
        "id": "aafcee75-e58a-4632-b7d1-ebd928149fc8"
      },
      "source": [
        "### Cell Baseline#1"
      ]
    },
    {
      "cell_type": "markdown",
      "id": "a2694caa-53e1-4924-a0cb-bc1dbafb753d",
      "metadata": {
        "id": "a2694caa-53e1-4924-a0cb-bc1dbafb753d"
      },
      "source": [
        "The code below loads and prepares the dataset; creates, compiles, and trains a Keras model. Note the sigmoid neurons of the hidden layers, the mean squared error loss function, and the SGD optimizer. This neural network is used as a baseline model for comparing to other models with different components."
      ]
    },
    {
      "cell_type": "code",
      "execution_count": 5,
      "id": "41048794-ba7e-4fe0-afe3-2027a50095b9",
      "metadata": {
        "colab": {
          "base_uri": "https://localhost:8080/"
        },
        "id": "41048794-ba7e-4fe0-afe3-2027a50095b9",
        "outputId": "b8a1d3b4-8070-4850-958f-d5bb9b384ffd"
      },
      "outputs": [
        {
          "name": "stdout",
          "output_type": "stream",
          "text": [
            "Epoch 1/20\n",
            "13/13 - 1s - loss: 245.0043 - val_loss: 81.4963 - 925ms/epoch - 71ms/step\n",
            "Epoch 2/20\n",
            "13/13 - 0s - loss: 75.4488 - val_loss: 65.2535 - 77ms/epoch - 6ms/step\n",
            "Epoch 3/20\n",
            "13/13 - 0s - loss: 64.3310 - val_loss: 56.9030 - 76ms/epoch - 6ms/step\n",
            "Epoch 4/20\n",
            "13/13 - 0s - loss: 56.3987 - val_loss: 48.7763 - 81ms/epoch - 6ms/step\n",
            "Epoch 5/20\n",
            "13/13 - 0s - loss: 49.9118 - val_loss: 42.5987 - 84ms/epoch - 6ms/step\n",
            "Epoch 6/20\n",
            "13/13 - 0s - loss: 43.9652 - val_loss: 38.3430 - 83ms/epoch - 6ms/step\n",
            "Epoch 7/20\n",
            "13/13 - 0s - loss: 38.7938 - val_loss: 32.7803 - 71ms/epoch - 5ms/step\n",
            "Epoch 8/20\n",
            "13/13 - 0s - loss: 34.0705 - val_loss: 30.5627 - 75ms/epoch - 6ms/step\n",
            "Epoch 9/20\n",
            "13/13 - 0s - loss: 30.4512 - val_loss: 26.9993 - 81ms/epoch - 6ms/step\n",
            "Epoch 10/20\n",
            "13/13 - 0s - loss: 27.8497 - val_loss: 25.6685 - 81ms/epoch - 6ms/step\n",
            "Epoch 11/20\n",
            "13/13 - 0s - loss: 25.3805 - val_loss: 25.4454 - 73ms/epoch - 6ms/step\n",
            "Epoch 12/20\n",
            "13/13 - 0s - loss: 23.4388 - val_loss: 23.1400 - 67ms/epoch - 5ms/step\n",
            "Epoch 13/20\n",
            "13/13 - 0s - loss: 22.1828 - val_loss: 24.6956 - 72ms/epoch - 6ms/step\n",
            "Epoch 14/20\n",
            "13/13 - 0s - loss: 20.6404 - val_loss: 23.1246 - 71ms/epoch - 5ms/step\n",
            "Epoch 15/20\n",
            "13/13 - 0s - loss: 19.7597 - val_loss: 23.1671 - 70ms/epoch - 5ms/step\n",
            "Epoch 16/20\n",
            "13/13 - 0s - loss: 19.0172 - val_loss: 25.6553 - 68ms/epoch - 5ms/step\n",
            "Epoch 17/20\n",
            "13/13 - 0s - loss: 18.3520 - val_loss: 26.3655 - 74ms/epoch - 6ms/step\n",
            "Epoch 18/20\n",
            "13/13 - 0s - loss: 17.1577 - val_loss: 22.5523 - 84ms/epoch - 6ms/step\n",
            "Epoch 19/20\n",
            "13/13 - 0s - loss: 16.5400 - val_loss: 22.7213 - 93ms/epoch - 7ms/step\n",
            "Epoch 20/20\n",
            "13/13 - 0s - loss: 15.7603 - val_loss: 23.4919 - 87ms/epoch - 7ms/step\n"
          ]
        }
      ],
      "source": [
        "# Cell Baseline#1\n",
        "\n",
        "from tensorflow import keras\n",
        "from tensorflow.keras import layers\n",
        "from tensorflow.keras.datasets import boston_housing\n",
        "\n",
        "keras.utils.set_random_seed(42)\n",
        "(X_train, y_train), (X_test, y_test) = boston_housing.load_data()\n",
        "\n",
        "X_train, X_test = normalize_features(X_train, X_test)\n",
        "\n",
        "model = keras.Sequential([\n",
        "    layers.Dense(16, activation=\"sigmoid\"),  # hidden layer\n",
        "    layers.Dense(16, activation=\"sigmoid\"),  # hidden layer\n",
        "    layers.Dense(1, activation=\"linear\")     # output layer\n",
        "])\n",
        "\n",
        "model.compile(loss=\"mean_squared_error\", optimizer=\"sgd\")\n",
        "history = model.fit(X_train, y_train, epochs=20, verbose=2,\n",
        "                    validation_data=(X_test, y_test))"
      ]
    },
    {
      "cell_type": "markdown",
      "id": "8f719e4f-3f04-4419-858d-87a935731c0d",
      "metadata": {
        "id": "8f719e4f-3f04-4419-858d-87a935731c0d"
      },
      "source": [
        "In the final (20th) epoch, the validation loss is about 23.5 (with some variations in the few nearby epochs)."
      ]
    },
    {
      "cell_type": "markdown",
      "id": "47552ec8-1ec6-4f35-9b8b-b4279f42cb95",
      "metadata": {
        "id": "47552ec8-1ec6-4f35-9b8b-b4279f42cb95"
      },
      "source": [
        "### Cell Baseline#2"
      ]
    },
    {
      "cell_type": "markdown",
      "id": "8e5b3083-3e07-4c51-9b21-94c95f4692f6",
      "metadata": {
        "id": "8e5b3083-3e07-4c51-9b21-94c95f4692f6"
      },
      "source": [
        "The following is a plot of the training history."
      ]
    },
    {
      "cell_type": "code",
      "execution_count": 6,
      "id": "19860b7a-f220-4710-be2b-b9b4f3943d1d",
      "metadata": {
        "colab": {
          "base_uri": "https://localhost:8080/",
          "height": 430
        },
        "id": "19860b7a-f220-4710-be2b-b9b4f3943d1d",
        "outputId": "fd9933e5-9be1-4b32-a618-65f3086af93d"
      },
      "outputs": [
        {
          "data": {
            "image/png": "[encoded data removed]",
            "text/plain": [
              "<Figure size 640x480 with 1 Axes>"
            ]
          },
          "metadata": {},
          "output_type": "display_data"
        }
      ],
      "source": [
        "# Cell Baseline#2\n",
        "\n",
        "plot_history(history)"
      ]
    },
    {
      "cell_type": "markdown",
      "id": "6c08c813-7b4b-41a3-b5dc-117870071e5b",
      "metadata": {
        "id": "6c08c813-7b4b-41a3-b5dc-117870071e5b"
      },
      "source": [
        "## Model summary\n",
        "\n",
        "The summary below shows the layers of the model. Note that the input layer with 13 features (i.e. 13 input nodes) is not shown.\n",
        "\n",
        "The first (hidden) layer contains 16 neurons; each neuron is connected to 13 input nodes with 13 weights, and has 1 bias, so each neuron has 13+1 trainable parameters. Thus, the first layer has 16 &times; (13 + 1) = 224 trainable parameters. Similarly, the second layer has 16 &times; (16 + 1) = 272 trainable parameters; the third layer has 1 &times; (16 + 1) = 17 trainable parameters."
      ]
    },
    {
      "cell_type": "code",
      "execution_count": 7,
      "id": "90ad9755-e3fc-447f-a592-749ae0ff3454",
      "metadata": {
        "colab": {
          "base_uri": "https://localhost:8080/"
        },
        "id": "90ad9755-e3fc-447f-a592-749ae0ff3454",
        "outputId": "69269dfe-b804-46f3-99fc-99c2ab4fd395",
        "tags": []
      },
      "outputs": [
        {
          "name": "stdout",
          "output_type": "stream",
          "text": [
            "Model: \"sequential\"\n",
            "_________________________________________________________________\n",
            " Layer (type)                Output Shape              Param #   \n",
            "=================================================================\n",
            " dense (Dense)               (None, 16)                224       \n",
            "                                                                 \n",
            " dense_1 (Dense)             (None, 16)                272       \n",
            "                                                                 \n",
            " dense_2 (Dense)             (None, 1)                 17        \n",
            "                                                                 \n",
            "=================================================================\n",
            "Total params: 513 (2.00 KB)\n",
            "Trainable params: 513 (2.00 KB)\n",
            "Non-trainable params: 0 (0.00 Byte)\n",
            "_________________________________________________________________\n"
          ]
        }
      ],
      "source": [
        "model.summary()"
      ]
    },
    {
      "cell_type": "markdown",
      "id": "a1296e81-2bda-42d7-9e02-3bed0ca732a2",
      "metadata": {
        "id": "a1296e81-2bda-42d7-9e02-3bed0ca732a2",
        "tags": []
      },
      "source": [
        "## Experimenting with ReLU neurons\n",
        "\n",
        "Instead of sigmoid neurons, the model below uses ReLU neurons in the hidden layers."
      ]
    },
    {
      "cell_type": "code",
      "execution_count": 8,
      "id": "d5c30200-6431-456f-b1d4-56ab5ab89f1e",
      "metadata": {
        "colab": {
          "base_uri": "https://localhost:8080/"
        },
        "id": "d5c30200-6431-456f-b1d4-56ab5ab89f1e",
        "outputId": "cdacee3b-3de4-4454-c33b-a0931c6eb108"
      },
      "outputs": [
        {
          "name": "stdout",
          "output_type": "stream",
          "text": [
            "Epoch 1/20\n",
            "13/13 - 1s - loss: 298.4406 - val_loss: 81.0474 - 750ms/epoch - 58ms/step\n",
            "Epoch 2/20\n",
            "13/13 - 0s - loss: 133.1014 - val_loss: 163.7184 - 61ms/epoch - 5ms/step\n",
            "Epoch 3/20\n",
            "13/13 - 0s - loss: 95.4162 - val_loss: 61.7289 - 83ms/epoch - 6ms/step\n",
            "Epoch 4/20\n",
            "13/13 - 0s - loss: 34.1681 - val_loss: 23.7216 - 76ms/epoch - 6ms/step\n",
            "Epoch 5/20\n",
            "13/13 - 0s - loss: 20.9295 - val_loss: 32.7935 - 68ms/epoch - 5ms/step\n",
            "Epoch 6/20\n",
            "13/13 - 0s - loss: 19.8081 - val_loss: 34.4202 - 75ms/epoch - 6ms/step\n",
            "Epoch 7/20\n",
            "13/13 - 0s - loss: 23.3488 - val_loss: 29.5401 - 85ms/epoch - 7ms/step\n",
            "Epoch 8/20\n",
            "13/13 - 0s - loss: 13.9297 - val_loss: 27.4390 - 61ms/epoch - 5ms/step\n",
            "Epoch 9/20\n",
            "13/13 - 0s - loss: 10.9027 - val_loss: 21.5668 - 76ms/epoch - 6ms/step\n",
            "Epoch 10/20\n",
            "13/13 - 0s - loss: 15.3556 - val_loss: 32.7174 - 68ms/epoch - 5ms/step\n",
            "Epoch 11/20\n",
            "13/13 - 0s - loss: 12.2216 - val_loss: 24.6861 - 53ms/epoch - 4ms/step\n",
            "Epoch 12/20\n",
            "13/13 - 0s - loss: 11.7688 - val_loss: 27.3276 - 63ms/epoch - 5ms/step\n",
            "Epoch 13/20\n",
            "13/13 - 0s - loss: 15.0849 - val_loss: 19.0476 - 64ms/epoch - 5ms/step\n",
            "Epoch 14/20\n",
            "13/13 - 0s - loss: 12.1842 - val_loss: 30.8657 - 51ms/epoch - 4ms/step\n",
            "Epoch 15/20\n",
            "13/13 - 0s - loss: 9.9443 - val_loss: 26.3626 - 64ms/epoch - 5ms/step\n",
            "Epoch 16/20\n",
            "13/13 - 0s - loss: 15.1473 - val_loss: 22.3545 - 75ms/epoch - 6ms/step\n",
            "Epoch 17/20\n",
            "13/13 - 0s - loss: 11.4414 - val_loss: 35.3413 - 66ms/epoch - 5ms/step\n",
            "Epoch 18/20\n",
            "13/13 - 0s - loss: 10.5742 - val_loss: 16.4225 - 51ms/epoch - 4ms/step\n",
            "Epoch 19/20\n",
            "13/13 - 0s - loss: 9.3513 - val_loss: 18.2171 - 51ms/epoch - 4ms/step\n",
            "Epoch 20/20\n",
            "13/13 - 0s - loss: 8.9345 - val_loss: 18.2073 - 68ms/epoch - 5ms/step\n"
          ]
        }
      ],
      "source": [
        "from tensorflow import keras\n",
        "from tensorflow.keras import layers\n",
        "from tensorflow.keras.datasets import boston_housing\n",
        "\n",
        "keras.utils.set_random_seed(42)\n",
        "(X_train, y_train), (X_test, y_test) = boston_housing.load_data()\n",
        "\n",
        "X_train, X_test = normalize_features(X_train, X_test)\n",
        "\n",
        "model = keras.Sequential([\n",
        "    layers.Dense(16, activation=\"relu\"),  # hidden layer\n",
        "    layers.Dense(16, activation=\"relu\"),  # hidden layer\n",
        "    layers.Dense(1, activation=\"linear\")  # output layer\n",
        "])\n",
        "\n",
        "model.compile(loss=\"mean_squared_error\", optimizer=\"sgd\")\n",
        "history = model.fit(X_train, y_train, epochs=20, verbose=2,\n",
        "                    validation_data=(X_test, y_test))"
      ]
    },
    {
      "cell_type": "markdown",
      "id": "a47071db-1e3c-4311-9fce-674a024937b6",
      "metadata": {
        "id": "a47071db-1e3c-4311-9fce-674a024937b6"
      },
      "source": [
        "The final validation loss is about 18.2, which is quite lower than 23.5 of the baseline model. ReLU neurons perform better than sigmoid neurons for this task."
      ]
    },
    {
      "cell_type": "code",
      "execution_count": 9,
      "id": "64c9851c-cd21-4ca5-9de8-045cc3f04052",
      "metadata": {
        "colab": {
          "base_uri": "https://localhost:8080/",
          "height": 430
        },
        "id": "64c9851c-cd21-4ca5-9de8-045cc3f04052",
        "outputId": "33c0884e-547b-4a50-b804-8b83be0c59fa"
      },
      "outputs": [
        {
          "data": {
            "image/png": "[encoded data removed]",
            "text/plain": [
              "<Figure size 640x480 with 1 Axes>"
            ]
          },
          "metadata": {},
          "output_type": "display_data"
        }
      ],
      "source": [
        "plot_history(history)"
      ]
    },
    {
      "cell_type": "markdown",
      "id": "299e03cc-95ef-4737-8d3e-6e8e7393fa1a",
      "metadata": {
        "id": "299e03cc-95ef-4737-8d3e-6e8e7393fa1a"
      },
      "source": [
        "As shown in the above plot of training history, the curve of the validation loss fluctuates slightly and is less smooth than the baseline model. The validation loss lowers quite quickly in early epochs (around epoch 2). Overall, training is effective relatively early but is not very steady."
      ]
    },
    {
      "cell_type": "markdown",
      "id": "4840fb1d-8579-4203-bf49-7bf46e41be3b",
      "metadata": {
        "id": "4840fb1d-8579-4203-bf49-7bf46e41be3b",
        "tags": []
      },
      "source": [
        "## Experimenting with the Adam optimizer\n",
        "\n",
        "Instead of SGD, the model below uses the Adam optimizer."
      ]
    },
    {
      "cell_type": "code",
      "execution_count": 10,
      "id": "b49bc494-7311-41b3-836c-00dd1c1b275f",
      "metadata": {
        "colab": {
          "base_uri": "https://localhost:8080/"
        },
        "id": "b49bc494-7311-41b3-836c-00dd1c1b275f",
        "outputId": "59281f33-9681-43cb-c928-c8c583e1f15e"
      },
      "outputs": [
        {
          "name": "stdout",
          "output_type": "stream",
          "text": [
            "Epoch 1/20\n",
            "13/13 - 1s - loss: 608.8168 - val_loss: 633.0062 - 1s/epoch - 78ms/step\n",
            "Epoch 2/20\n",
            "13/13 - 0s - loss: 597.7914 - val_loss: 621.9277 - 80ms/epoch - 6ms/step\n",
            "Epoch 3/20\n",
            "13/13 - 0s - loss: 587.2217 - val_loss: 611.2678 - 73ms/epoch - 6ms/step\n",
            "Epoch 4/20\n",
            "13/13 - 0s - loss: 577.0679 - val_loss: 601.0560 - 76ms/epoch - 6ms/step\n",
            "Epoch 5/20\n",
            "13/13 - 0s - loss: 567.2760 - val_loss: 591.1235 - 79ms/epoch - 6ms/step\n",
            "Epoch 6/20\n",
            "13/13 - 0s - loss: 557.7848 - val_loss: 581.4146 - 82ms/epoch - 6ms/step\n",
            "Epoch 7/20\n",
            "13/13 - 0s - loss: 548.4769 - val_loss: 572.0688 - 71ms/epoch - 5ms/step\n",
            "Epoch 8/20\n",
            "13/13 - 0s - loss: 539.5580 - val_loss: 562.8831 - 89ms/epoch - 7ms/step\n",
            "Epoch 9/20\n",
            "13/13 - 0s - loss: 530.8344 - val_loss: 553.9498 - 73ms/epoch - 6ms/step\n",
            "Epoch 10/20\n",
            "13/13 - 0s - loss: 522.2872 - val_loss: 545.3027 - 82ms/epoch - 6ms/step\n",
            "Epoch 11/20\n",
            "13/13 - 0s - loss: 514.0767 - val_loss: 536.8488 - 75ms/epoch - 6ms/step\n",
            "Epoch 12/20\n",
            "13/13 - 0s - loss: 506.0166 - val_loss: 528.6633 - 85ms/epoch - 7ms/step\n",
            "Epoch 13/20\n",
            "13/13 - 0s - loss: 498.2339 - val_loss: 520.6896 - 74ms/epoch - 6ms/step\n",
            "Epoch 14/20\n",
            "13/13 - 0s - loss: 490.6574 - val_loss: 512.9342 - 75ms/epoch - 6ms/step\n",
            "Epoch 15/20\n",
            "13/13 - 0s - loss: 483.2516 - val_loss: 505.3649 - 79ms/epoch - 6ms/step\n",
            "Epoch 16/20\n",
            "13/13 - 0s - loss: 476.0407 - val_loss: 497.9909 - 75ms/epoch - 6ms/step\n",
            "Epoch 17/20\n",
            "13/13 - 0s - loss: 469.0085 - val_loss: 490.7612 - 87ms/epoch - 7ms/step\n",
            "Epoch 18/20\n",
            "13/13 - 0s - loss: 462.1081 - val_loss: 483.6819 - 76ms/epoch - 6ms/step\n",
            "Epoch 19/20\n",
            "13/13 - 0s - loss: 455.3579 - val_loss: 476.7474 - 112ms/epoch - 9ms/step\n",
            "Epoch 20/20\n",
            "13/13 - 0s - loss: 448.7518 - val_loss: 469.9002 - 132ms/epoch - 10ms/step\n"
          ]
        }
      ],
      "source": [
        "from tensorflow import keras\n",
        "from tensorflow.keras import layers\n",
        "from tensorflow.keras.datasets import boston_housing\n",
        "\n",
        "keras.utils.set_random_seed(42)\n",
        "(X_train, y_train), (X_test, y_test) = boston_housing.load_data()\n",
        "\n",
        "X_train, X_test = normalize_features(X_train, X_test)\n",
        "\n",
        "model = keras.Sequential([\n",
        "    layers.Dense(16, activation=\"sigmoid\"),  # hidden layer\n",
        "    layers.Dense(16, activation=\"sigmoid\"),  # hidden layer\n",
        "    layers.Dense(1, activation=\"linear\")     # output layer\n",
        "])\n",
        "\n",
        "model.compile(loss=\"mean_squared_error\", optimizer=\"adam\")\n",
        "history = model.fit(X_train, y_train, epochs=20, verbose=2,\n",
        "                    validation_data=(X_test, y_test))"
      ]
    },
    {
      "cell_type": "markdown",
      "id": "7a800aab-cc35-4df0-b693-dce6b5e47ce3",
      "metadata": {
        "id": "7a800aab-cc35-4df0-b693-dce6b5e47ce3"
      },
      "source": [
        "The final validation loss is about 469.9, which is much higher than 23.5 of the baseline model. In these 20 epochs of training, Adam performs very poorly compared to SGD."
      ]
    },
    {
      "cell_type": "code",
      "execution_count": 11,
      "id": "5c410310-c5da-44f4-82a0-1bba8799ec49",
      "metadata": {
        "colab": {
          "base_uri": "https://localhost:8080/",
          "height": 430
        },
        "id": "5c410310-c5da-44f4-82a0-1bba8799ec49",
        "outputId": "eae06651-892d-4c2b-dbb5-26863fa9caa5"
      },
      "outputs": [
        {
          "data": {
            "image/png": "[encoded data removed]",
            "text/plain": [
              "<Figure size 640x480 with 1 Axes>"
            ]
          },
          "metadata": {},
          "output_type": "display_data"
        }
      ],
      "source": [
        "plot_history(history)"
      ]
    },
    {
      "cell_type": "markdown",
      "id": "8f9ae659-04e3-48a1-9360-cbd4a2988ba5",
      "metadata": {
        "id": "8f9ae659-04e3-48a1-9360-cbd4a2988ba5"
      },
      "source": [
        "As shown in the above plot of training history, the losses are reducing and the model is actually learning, even though the learning may be too slow.\n",
        "\n",
        "Note that specifying `\"adam\"` lets Keras use its default parameters (settings) for the Adam optimizer. As you will see in the Extras section, setting a suitable learning rate can actually make Adam it work very well for the task."
      ]
    },
    {
      "cell_type": "markdown",
      "id": "66786e4f-695e-407a-afec-efab6f4338db",
      "metadata": {
        "id": "66786e4f-695e-407a-afec-efab6f4338db"
      },
      "source": [
        "# Practice - Question 1 of 2"
      ]
    },
    {
      "cell_type": "markdown",
      "id": "b445476b-2114-46d8-9054-3368dbe9e0c5",
      "metadata": {
        "id": "b445476b-2114-46d8-9054-3368dbe9e0c5"
      },
      "source": [
        "## Q1a (Experimenting with tanh neurons)\n",
        "\n",
        "Modify the baseline model to use tanh neurons instead of sigmoid neurons in the hidden layers. Specifically, copy the two code cells Baseline#1 and Baseline#2 below, and then change `\"sigmoid\"` to `\"tanh\"` in the two `Dense` hidden layers. Remember to execute the two cells in order."
      ]
    },
    {
      "cell_type": "code",
      "execution_count": 19,
      "id": "9ee2134c-0f72-4564-a866-c9e9b8bf0d48",
      "metadata": {
        "colab": {
          "base_uri": "https://localhost:8080/",
          "height": 1000
        },
        "id": "9ee2134c-0f72-4564-a866-c9e9b8bf0d48",
        "outputId": "76a6f386-3819-4d8a-fb31-25e2ab2dfb3f"
      },
      "outputs": [
        {
          "name": "stdout",
          "output_type": "stream",
          "text": [
            "Epoch 1/20\n",
            "13/13 - 1s - loss: 245.0043 - val_loss: 81.4963 - 782ms/epoch - 60ms/step\n",
            "Epoch 2/20\n",
            "13/13 - 0s - loss: 75.4488 - val_loss: 65.2535 - 75ms/epoch - 6ms/step\n",
            "Epoch 3/20\n",
            "13/13 - 0s - loss: 64.3310 - val_loss: 56.9030 - 68ms/epoch - 5ms/step\n",
            "Epoch 4/20\n",
            "13/13 - 0s - loss: 56.3987 - val_loss: 48.7763 - 66ms/epoch - 5ms/step\n",
            "Epoch 5/20\n",
            "13/13 - 0s - loss: 49.9118 - val_loss: 42.5987 - 67ms/epoch - 5ms/step\n",
            "Epoch 6/20\n",
            "13/13 - 0s - loss: 43.9652 - val_loss: 38.3430 - 80ms/epoch - 6ms/step\n",
            "Epoch 7/20\n",
            "13/13 - 0s - loss: 38.7938 - val_loss: 32.7803 - 102ms/epoch - 8ms/step\n",
            "Epoch 8/20\n",
            "13/13 - 0s - loss: 34.0705 - val_loss: 30.5627 - 80ms/epoch - 6ms/step\n",
            "Epoch 9/20\n",
            "13/13 - 0s - loss: 30.4512 - val_loss: 26.9993 - 104ms/epoch - 8ms/step\n",
            "Epoch 10/20\n",
            "13/13 - 0s - loss: 27.8497 - val_loss: 25.6685 - 128ms/epoch - 10ms/step\n",
            "Epoch 11/20\n",
            "13/13 - 0s - loss: 25.3805 - val_loss: 25.4454 - 100ms/epoch - 8ms/step\n",
            "Epoch 12/20\n",
            "13/13 - 0s - loss: 23.4388 - val_loss: 23.1400 - 106ms/epoch - 8ms/step\n",
            "Epoch 13/20\n",
            "13/13 - 0s - loss: 22.1828 - val_loss: 24.6956 - 106ms/epoch - 8ms/step\n",
            "Epoch 14/20\n",
            "13/13 - 0s - loss: 20.6404 - val_loss: 23.1246 - 83ms/epoch - 6ms/step\n",
            "Epoch 15/20\n",
            "13/13 - 0s - loss: 19.7597 - val_loss: 23.1671 - 119ms/epoch - 9ms/step\n",
            "Epoch 16/20\n",
            "13/13 - 0s - loss: 19.0172 - val_loss: 25.6553 - 127ms/epoch - 10ms/step\n",
            "Epoch 17/20\n",
            "13/13 - 0s - loss: 18.3520 - val_loss: 26.3655 - 88ms/epoch - 7ms/step\n",
            "Epoch 18/20\n",
            "13/13 - 0s - loss: 17.1577 - val_loss: 22.5523 - 92ms/epoch - 7ms/step\n",
            "Epoch 19/20\n",
            "13/13 - 0s - loss: 16.5400 - val_loss: 22.7213 - 164ms/epoch - 13ms/step\n",
            "Epoch 20/20\n",
            "13/13 - 0s - loss: 15.7603 - val_loss: 23.4919 - 154ms/epoch - 12ms/step\n"
          ]
        },
        {
          "data": {
            "image/png": "[encoded data removed]",
            "text/plain": [
              "<Figure size 640x480 with 1 Axes>"
            ]
          },
          "metadata": {},
          "output_type": "display_data"
        }
      ],
      "source": [
        "# Baseline 1\n",
        "from tensorflow import keras\n",
        "from tensorflow.keras import layers\n",
        "from tensorflow.keras.datasets import boston_housing\n",
        "\n",
        "keras.utils.set_random_seed(42)\n",
        "(X_train,y_train),(X_test,y_test) = boston_housing.load_data()\n",
        "\n",
        "X_train , X_test= normalize_features(X_train,X_test)\n",
        "\n",
        "model = keras.Sequential([\n",
        "    layers.Dense(16 , activation = \"sigmoid\"),\n",
        "    layers.Dense(16, activation = \"sigmoid\"),\n",
        "    layers.Dense(1, activation = \"linear\")\n",
        "])\n",
        "\n",
        "model.compile(loss=\"mean_squared_error\", optimizer=\"sgd\")\n",
        "history = model.fit(X_train, y_train, epochs = 20, verbose =2,\n",
        "                    validation_data =(X_test, y_test))\n",
        "plot_history(history)"
      ]
    },
    {
      "cell_type": "code",
      "execution_count": 20,
      "id": "76919592-67b8-42cd-8299-7f6274253f1a",
      "metadata": {
        "colab": {
          "base_uri": "https://localhost:8080/",
          "height": 1000
        },
        "id": "76919592-67b8-42cd-8299-7f6274253f1a",
        "outputId": "27a12494-e17a-4e61-9562-211b04401ab2"
      },
      "outputs": [
        {
          "name": "stdout",
          "output_type": "stream",
          "text": [
            "Epoch 1/20\n",
            "13/13 - 1s - loss: 239.2959 - val_loss: 50.7421 - 689ms/epoch - 53ms/step\n",
            "Epoch 2/20\n",
            "13/13 - 0s - loss: 49.2851 - val_loss: 44.0507 - 71ms/epoch - 5ms/step\n",
            "Epoch 3/20\n",
            "13/13 - 0s - loss: 35.2278 - val_loss: 33.1593 - 72ms/epoch - 6ms/step\n",
            "Epoch 4/20\n",
            "13/13 - 0s - loss: 26.6744 - val_loss: 26.5849 - 65ms/epoch - 5ms/step\n",
            "Epoch 5/20\n",
            "13/13 - 0s - loss: 23.3205 - val_loss: 34.9931 - 59ms/epoch - 5ms/step\n",
            "Epoch 6/20\n",
            "13/13 - 0s - loss: 25.2341 - val_loss: 27.0528 - 78ms/epoch - 6ms/step\n",
            "Epoch 7/20\n",
            "13/13 - 0s - loss: 18.2383 - val_loss: 28.3431 - 90ms/epoch - 7ms/step\n",
            "Epoch 8/20\n",
            "13/13 - 0s - loss: 13.8068 - val_loss: 19.8437 - 74ms/epoch - 6ms/step\n",
            "Epoch 9/20\n",
            "13/13 - 0s - loss: 13.2253 - val_loss: 16.3199 - 85ms/epoch - 7ms/step\n",
            "Epoch 10/20\n",
            "13/13 - 0s - loss: 12.5680 - val_loss: 26.4941 - 81ms/epoch - 6ms/step\n",
            "Epoch 11/20\n",
            "13/13 - 0s - loss: 11.9187 - val_loss: 17.6731 - 73ms/epoch - 6ms/step\n",
            "Epoch 12/20\n",
            "13/13 - 0s - loss: 13.6395 - val_loss: 16.4339 - 58ms/epoch - 4ms/step\n",
            "Epoch 13/20\n",
            "13/13 - 0s - loss: 10.6122 - val_loss: 16.0308 - 74ms/epoch - 6ms/step\n",
            "Epoch 14/20\n",
            "13/13 - 0s - loss: 8.8562 - val_loss: 15.0459 - 64ms/epoch - 5ms/step\n",
            "Epoch 15/20\n",
            "13/13 - 0s - loss: 8.3461 - val_loss: 17.4601 - 76ms/epoch - 6ms/step\n",
            "Epoch 16/20\n",
            "13/13 - 0s - loss: 9.5708 - val_loss: 24.6069 - 72ms/epoch - 6ms/step\n",
            "Epoch 17/20\n",
            "13/13 - 0s - loss: 9.6407 - val_loss: 14.4155 - 57ms/epoch - 4ms/step\n",
            "Epoch 18/20\n",
            "13/13 - 0s - loss: 9.4018 - val_loss: 15.2290 - 54ms/epoch - 4ms/step\n",
            "Epoch 19/20\n",
            "13/13 - 0s - loss: 8.7193 - val_loss: 17.0620 - 63ms/epoch - 5ms/step\n",
            "Epoch 20/20\n",
            "13/13 - 0s - loss: 7.5629 - val_loss: 16.4909 - 76ms/epoch - 6ms/step\n"
          ]
        },
        {
          "data": {
            "image/png": "[encoded data removed]",
            "text/plain": [
              "<Figure size 640x480 with 1 Axes>"
            ]
          },
          "metadata": {},
          "output_type": "display_data"
        }
      ],
      "source": [
        "# Baseline 2\n",
        "from tensorflow import keras\n",
        "from tensorflow.keras import layers\n",
        "from tensorflow.keras.datasets import boston_housing\n",
        "\n",
        "keras.utils.set_random_seed(42)\n",
        "(X_train,y_train),(X_test,y_test) = boston_housing.load_data()\n",
        "\n",
        "X_train , X_test= normalize_features(X_train,X_test)\n",
        "\n",
        "model = keras.Sequential([\n",
        "    layers.Dense(16 , activation = \"tanh\"),\n",
        "    layers.Dense(16, activation = \"tanh\"),\n",
        "    layers.Dense(1, activation = \"linear\")\n",
        "])\n",
        "\n",
        "model.compile(loss=\"mean_squared_error\", optimizer=\"sgd\")\n",
        "history = model.fit(X_train, y_train, epochs = 20, verbose =2,\n",
        "                    validation_data =(X_test, y_test))\n",
        "\n",
        "plot_history(history)"
      ]
    },
    {
      "cell_type": "code",
      "execution_count": null,
      "id": "t2rL6xC3QMmT",
      "metadata": {
        "id": "t2rL6xC3QMmT"
      },
      "outputs": [],
      "source": []
    },
    {
      "cell_type": "markdown",
      "id": "57213714-ebb2-4f67-868e-d537c78d6950",
      "metadata": {
        "id": "57213714-ebb2-4f67-868e-d537c78d6950"
      },
      "source": [
        "## Q1b\n",
        "\n",
        "Refer to the outputs of Q1a and answer the following questions. Write your answers in a text cell below.\n",
        "\n",
        "1. State the validation loss in the final training epoch, and compare this loss to that of the baseline model.\n",
        "1. Comment on the curve of validation loss; you may compare the curve to that of the baseline model or develop other comments."
      ]
    },
    {
      "cell_type": "markdown",
      "id": "421657b6-84e7-43ae-847c-b4aa727d3328",
      "metadata": {
        "id": "421657b6-84e7-43ae-847c-b4aa727d3328"
      },
      "source": [
        "Solution:\n",
        "\n",
        "\n",
        "<div class='alert alert-warning' role='alert'><b>In the final training epoch, the validation loss was 23.4919. Compared to the baseline 2 model, which had a validation loss of 16.4909, this indicates that the model has improved significantly.\n",
        "\n",
        "The curve of validation loss shows a steady decrease throughout the training process, indicating that the model is learning and improving over time. The curve also flattens out towards the end of training, indicating that the model has reached a stable minimum.\n",
        "\n",
        "In comparison to the baseline model, the validation loss of the baseline 2 model is lower, indicating that it is better at predicting the target variable. This suggests that the additional complexity introduced by the model has been beneficial in improving its performance.\n",
        "\n",
        "Overall, the validation loss of the baseline 2 model is lower than that of the baseline 1 model, indicating that it is better at predicting the target variable. The curve of validation loss also shows a steady decrease throughout the training process, indicating that the model is learning and improving over time.\n",
        "</b></div>\n"
      ]
    },
    {
      "cell_type": "markdown",
      "id": "812ad08f-a224-4d2e-b688-580553e59bb1",
      "metadata": {
        "id": "812ad08f-a224-4d2e-b688-580553e59bb1",
        "tags": []
      },
      "source": [
        "## Q1c (Experimenting with mean absolute error)\n",
        "\n",
        "Modify the baseline model to use mean absolute error as the loss function instead of mean squared error. Specifically, copy the two code cells Baseline#1 and Baseline#2 below, and then change `\"mean_squared_error\"` to `\"mean_absolute_error\"` in the `compile()` method call. Remember to execute the two cells in order."
      ]
    },
    {
      "cell_type": "code",
      "execution_count": 21,
      "id": "6f4f9522-3f10-43ba-a57d-be3d37316aaa",
      "metadata": {
        "colab": {
          "base_uri": "https://localhost:8080/",
          "height": 1000
        },
        "id": "6f4f9522-3f10-43ba-a57d-be3d37316aaa",
        "outputId": "a886c230-5a20-4f0b-e6f2-f6ee51b82d80"
      },
      "outputs": [
        {
          "name": "stdout",
          "output_type": "stream",
          "text": [
            "Epoch 1/20\n",
            "13/13 - 1s - loss: 22.7048 - val_loss: 22.9954 - 712ms/epoch - 55ms/step\n",
            "Epoch 2/20\n",
            "13/13 - 0s - loss: 21.9905 - val_loss: 22.2819 - 71ms/epoch - 5ms/step\n",
            "Epoch 3/20\n",
            "13/13 - 0s - loss: 21.2722 - val_loss: 21.5586 - 74ms/epoch - 6ms/step\n",
            "Epoch 4/20\n",
            "13/13 - 0s - loss: 20.5393 - val_loss: 20.8153 - 69ms/epoch - 5ms/step\n",
            "Epoch 5/20\n",
            "13/13 - 0s - loss: 19.7817 - val_loss: 20.0426 - 68ms/epoch - 5ms/step\n",
            "Epoch 6/20\n",
            "13/13 - 0s - loss: 18.9902 - val_loss: 19.2304 - 70ms/epoch - 5ms/step\n",
            "Epoch 7/20\n",
            "13/13 - 0s - loss: 18.1552 - val_loss: 18.3709 - 67ms/epoch - 5ms/step\n",
            "Epoch 8/20\n",
            "13/13 - 0s - loss: 17.2722 - val_loss: 17.4637 - 55ms/epoch - 4ms/step\n",
            "Epoch 9/20\n",
            "13/13 - 0s - loss: 16.3471 - val_loss: 16.5207 - 52ms/epoch - 4ms/step\n",
            "Epoch 10/20\n",
            "13/13 - 0s - loss: 15.3757 - val_loss: 15.5723 - 53ms/epoch - 4ms/step\n",
            "Epoch 11/20\n",
            "13/13 - 0s - loss: 14.3728 - val_loss: 14.6347 - 70ms/epoch - 5ms/step\n",
            "Epoch 12/20\n",
            "13/13 - 0s - loss: 13.3742 - val_loss: 13.6997 - 58ms/epoch - 4ms/step\n",
            "Epoch 13/20\n",
            "13/13 - 0s - loss: 12.3656 - val_loss: 12.8072 - 59ms/epoch - 5ms/step\n",
            "Epoch 14/20\n",
            "13/13 - 0s - loss: 11.3933 - val_loss: 11.9253 - 60ms/epoch - 5ms/step\n",
            "Epoch 15/20\n",
            "13/13 - 0s - loss: 10.4680 - val_loss: 11.0720 - 58ms/epoch - 4ms/step\n",
            "Epoch 16/20\n",
            "13/13 - 0s - loss: 9.6423 - val_loss: 10.3182 - 71ms/epoch - 5ms/step\n",
            "Epoch 17/20\n",
            "13/13 - 0s - loss: 8.9721 - val_loss: 9.6794 - 75ms/epoch - 6ms/step\n",
            "Epoch 18/20\n",
            "13/13 - 0s - loss: 8.4153 - val_loss: 9.1166 - 87ms/epoch - 7ms/step\n",
            "Epoch 19/20\n",
            "13/13 - 0s - loss: 7.9382 - val_loss: 8.6063 - 55ms/epoch - 4ms/step\n",
            "Epoch 20/20\n",
            "13/13 - 0s - loss: 7.5248 - val_loss: 8.1406 - 78ms/epoch - 6ms/step\n"
          ]
        },
        {
          "data": {
            "image/png": "[encoded data removed]",
            "text/plain": [
              "<Figure size 640x480 with 1 Axes>"
            ]
          },
          "metadata": {},
          "output_type": "display_data"
        }
      ],
      "source": [
        "# Baseline 1\n",
        "from tensorflow import keras\n",
        "from tensorflow.keras import layers\n",
        "from tensorflow.keras.datasets import boston_housing\n",
        "\n",
        "keras.utils.set_random_seed(42)\n",
        "(X_train,y_train),(X_test,y_test) = boston_housing.load_data()\n",
        "\n",
        "X_train , X_test= normalize_features(X_train,X_test)\n",
        "\n",
        "model = keras.Sequential([\n",
        "    layers.Dense(16 , activation = \"sigmoid\"),\n",
        "    layers.Dense(16, activation = \"sigmoid\"),\n",
        "    layers.Dense(1, activation = \"linear\")\n",
        "])\n",
        "\n",
        "model.compile(loss=\"mean_absolute_error\", optimizer=\"sgd\")\n",
        "history = model.fit(X_train, y_train, epochs = 20, verbose =2,\n",
        "                    validation_data =(X_test, y_test))\n",
        "plot_history(history)"
      ]
    },
    {
      "cell_type": "code",
      "execution_count": 22,
      "id": "cf38e0d4-794f-41a4-953f-94b437394c97",
      "metadata": {
        "colab": {
          "base_uri": "https://localhost:8080/",
          "height": 1000
        },
        "id": "cf38e0d4-794f-41a4-953f-94b437394c97",
        "outputId": "f463cb7d-5b8c-4a8c-9ad7-a01538dc0660"
      },
      "outputs": [
        {
          "name": "stdout",
          "output_type": "stream",
          "text": [
            "Epoch 1/20\n",
            "13/13 - 1s - loss: 22.1878 - val_loss: 22.7066 - 792ms/epoch - 61ms/step\n",
            "Epoch 2/20\n",
            "13/13 - 0s - loss: 21.8225 - val_loss: 22.3431 - 75ms/epoch - 6ms/step\n",
            "Epoch 3/20\n",
            "13/13 - 0s - loss: 21.4348 - val_loss: 21.9478 - 73ms/epoch - 6ms/step\n",
            "Epoch 4/20\n",
            "13/13 - 0s - loss: 21.0053 - val_loss: 21.4997 - 69ms/epoch - 5ms/step\n",
            "Epoch 5/20\n",
            "13/13 - 0s - loss: 20.5107 - val_loss: 20.9721 - 77ms/epoch - 6ms/step\n",
            "Epoch 6/20\n",
            "13/13 - 0s - loss: 19.9234 - val_loss: 20.3356 - 73ms/epoch - 6ms/step\n",
            "Epoch 7/20\n",
            "13/13 - 0s - loss: 19.2130 - val_loss: 19.5519 - 53ms/epoch - 4ms/step\n",
            "Epoch 8/20\n",
            "13/13 - 0s - loss: 18.3511 - val_loss: 18.6034 - 55ms/epoch - 4ms/step\n",
            "Epoch 9/20\n",
            "13/13 - 0s - loss: 17.3256 - val_loss: 17.4783 - 68ms/epoch - 5ms/step\n",
            "Epoch 10/20\n",
            "13/13 - 0s - loss: 16.1366 - val_loss: 16.1801 - 70ms/epoch - 5ms/step\n",
            "Epoch 11/20\n",
            "13/13 - 0s - loss: 14.7758 - val_loss: 14.7489 - 50ms/epoch - 4ms/step\n",
            "Epoch 12/20\n",
            "13/13 - 0s - loss: 13.2861 - val_loss: 13.2887 - 53ms/epoch - 4ms/step\n",
            "Epoch 13/20\n",
            "13/13 - 0s - loss: 11.7004 - val_loss: 11.8030 - 91ms/epoch - 7ms/step\n",
            "Epoch 14/20\n",
            "13/13 - 0s - loss: 10.1319 - val_loss: 10.3416 - 53ms/epoch - 4ms/step\n",
            "Epoch 15/20\n",
            "13/13 - 0s - loss: 8.7023 - val_loss: 9.0653 - 68ms/epoch - 5ms/step\n",
            "Epoch 16/20\n",
            "13/13 - 0s - loss: 7.5243 - val_loss: 8.0036 - 52ms/epoch - 4ms/step\n",
            "Epoch 17/20\n",
            "13/13 - 0s - loss: 6.6244 - val_loss: 7.0825 - 53ms/epoch - 4ms/step\n",
            "Epoch 18/20\n",
            "13/13 - 0s - loss: 5.9478 - val_loss: 6.3667 - 70ms/epoch - 5ms/step\n",
            "Epoch 19/20\n",
            "13/13 - 0s - loss: 5.5083 - val_loss: 5.9138 - 53ms/epoch - 4ms/step\n",
            "Epoch 20/20\n",
            "13/13 - 0s - loss: 5.2155 - val_loss: 5.5379 - 67ms/epoch - 5ms/step\n"
          ]
        },
        {
          "data": {
            "image/png": "[encoded data removed]",
            "text/plain": [
              "<Figure size 640x480 with 1 Axes>"
            ]
          },
          "metadata": {},
          "output_type": "display_data"
        }
      ],
      "source": [
        "# Baseline 2\n",
        "from tensorflow import keras\n",
        "from tensorflow.keras import layers\n",
        "from tensorflow.keras.datasets import boston_housing\n",
        "\n",
        "keras.utils.set_random_seed(42)\n",
        "(X_train,y_train),(X_test,y_test) = boston_housing.load_data()\n",
        "\n",
        "X_train , X_test= normalize_features(X_train,X_test)\n",
        "\n",
        "model = keras.Sequential([\n",
        "    layers.Dense(16 , activation = \"tanh\"),\n",
        "    layers.Dense(16, activation = \"tanh\"),\n",
        "    layers.Dense(1, activation = \"linear\")\n",
        "])\n",
        "\n",
        "model.compile(loss=\"mean_absolute_error\", optimizer=\"sgd\")\n",
        "history = model.fit(X_train, y_train, epochs = 20, verbose =2,\n",
        "                    validation_data =(X_test, y_test))\n",
        "\n",
        "plot_history(history)"
      ]
    },
    {
      "cell_type": "markdown",
      "id": "d146851c-f4b9-46da-acac-989f284533f0",
      "metadata": {
        "id": "d146851c-f4b9-46da-acac-989f284533f0"
      },
      "source": [
        "## Q1d\n",
        "\n",
        "Refer to the outputs of Q1c and answer the following questions. Write your answers in a text cell below.\n",
        "\n",
        "1. State the validation loss in the final training epoch, and compare this loss to that of the baseline model.\n",
        "1. Comment on the curve of validation loss; you may compare the curve to that of the baseline model or develop other comments."
      ]
    },
    {
      "cell_type": "markdown",
      "id": "a7996a87-dd0b-4d04-a9f2-3b7b87623638",
      "metadata": {
        "id": "a7996a87-dd0b-4d04-a9f2-3b7b87623638"
      },
      "source": [
        "Solution:\n",
        "\n",
        "\n",
        "<div class='alert alert-warning' role='alert'><b>The validation loss in the final training epoch for the Baseline 2 model is 5.5379.In Baseline 2 model is 8.1406.\n",
        "\n",
        "This is significantly lower than the validation loss of the baseline model, which was 5.2155 and Baseline 1 model is 7.5248. This indicates that the Baseline 2 model is able to achieve a higher level of accuracy compared to the Baseline 1 model.\n",
        "\n",
        "</b></div>\n"
      ]
    },
    {
      "cell_type": "markdown",
      "id": "1edcd6b1-294f-4d4c-a807-6693ad467b14",
      "metadata": {
        "id": "1edcd6b1-294f-4d4c-a807-6693ad467b14"
      },
      "source": [
        "## &#x2766;"
      ]
    },
    {
      "cell_type": "markdown",
      "id": "a302ff76-4e17-4b01-9ab0-9f14236b9e7c",
      "metadata": {
        "id": "a302ff76-4e17-4b01-9ab0-9f14236b9e7c"
      },
      "source": [
        "# Designing a neural network model"
      ]
    },
    {
      "cell_type": "markdown",
      "id": "febc8b0a-cb39-47db-ac79-5ccafc34434d",
      "metadata": {
        "id": "febc8b0a-cb39-47db-ac79-5ccafc34434d"
      },
      "source": [
        "In this section, you develop a neural network model for a TensorFlow Dataset. TensorFlow Datasets (tfds) are a collection of datasets ready to use with TensorFlow. For more information, see https://www.tensorflow.org/datasets and https://www.tensorflow.org/datasets/api_docs/python/tfds.\n",
        "\n",
        "We will use the wine_quality dataset (default config, white wine). In this dataset, the features are objective measures of wine (e.g. PH values) and the label is an evaluation score by experts. You can find a description of this dataset at https://www.tensorflow.org/datasets/catalog/wine_quality. The following `load_wine_quality()` function loads the dataset."
      ]
    },
    {
      "cell_type": "code",
      "execution_count": 28,
      "id": "bf6cf2e3-e9ea-46e0-9818-ca70d1d11043",
      "metadata": {
        "id": "bf6cf2e3-e9ea-46e0-9818-ca70d1d11043",
        "tags": []
      },
      "outputs": [],
      "source": [
        "import numpy as np\n",
        "import tensorflow_datasets as tfds\n",
        "\n",
        "LABEL_COL = \"quality\"\n",
        "\n",
        "def load_wine_quality(train_ratio=0.8):\n",
        "    train_percent = int(train_ratio * 100)\n",
        "    (train_set, test_set), info = tfds.load(\n",
        "        \"wine_quality\", as_supervised=True, with_info=True,\n",
        "        split=[f\"train[:{train_percent}%]\", f\"train[{train_percent}%:]\"])\n",
        "    train_df = tfds.as_dataframe(train_set, info)\n",
        "    test_df = tfds.as_dataframe(test_set, info)\n",
        "    X_train = train_df.drop(columns=LABEL_COL).values\n",
        "    y_train = train_df[LABEL_COL].values\n",
        "    X_test = test_df.drop(columns=LABEL_COL).values\n",
        "    y_test = test_df[LABEL_COL].values\n",
        "    return X_train, y_train, X_test, y_test"
      ]
    },
    {
      "cell_type": "markdown",
      "id": "4316c741-b753-4fcd-81aa-d85f4364cbe6",
      "metadata": {
        "id": "4316c741-b753-4fcd-81aa-d85f4364cbe6"
      },
      "source": [
        "This code loads the dataset and displays its dimensions. The training set contains 3918 examples, and the test set contains 980 examples. An example has 11 features and a label."
      ]
    },
    {
      "cell_type": "code",
      "execution_count": 29,
      "id": "7c00ce29-860b-4dc1-8b33-f21f84b920de",
      "metadata": {
        "colab": {
          "base_uri": "https://localhost:8080/"
        },
        "id": "7c00ce29-860b-4dc1-8b33-f21f84b920de",
        "outputId": "3149e5ba-b2a1-4760-f28a-0f2b340b1fe5",
        "tags": []
      },
      "outputs": [
        {
          "name": "stdout",
          "output_type": "stream",
          "text": [
            "(3918, 11) (3918,) (980, 11) (980,)\n"
          ]
        }
      ],
      "source": [
        "X_train, y_train, X_test, y_test = load_wine_quality()\n",
        "print(X_train.shape, y_train.shape, X_test.shape, y_test.shape)"
      ]
    },
    {
      "cell_type": "markdown",
      "id": "d20a699e-b7d8-4c27-beed-f26ca5d52093",
      "metadata": {
        "id": "d20a699e-b7d8-4c27-beed-f26ca5d52093"
      },
      "source": [
        "# Practice - Question 2 of 2"
      ]
    },
    {
      "cell_type": "markdown",
      "id": "0b3f59e0-75f0-43b2-98aa-e5d77ab1c82d",
      "metadata": {
        "id": "0b3f59e0-75f0-43b2-98aa-e5d77ab1c82d"
      },
      "source": [
        "## Q2a\n",
        "\n",
        "Write code to train a model for the wine_quality dataset. Specifically:\n",
        "\n",
        "- load the wine_quality dataset,\n",
        "- normalize the features,\n",
        "- create a Keras model,\n",
        "- compile the model,\n",
        "- train the model, and\n",
        "- plot the training history.\n",
        "\n",
        "Try different components in the model design in order to improve the model performance. An MSE loss of around 0.5 is acceptable; you are not required to search extensively for the lowest loss. Submit the best model of your choice, and keep its execution output.\n",
        "\n",
        "These are some suggestions, but not requirements, of possible components that you may try:\n",
        "\n",
        "- 1 to 3 hidden layers,\n",
        "- 8 to 64 neurons in a hidden layer,\n",
        "- ReLU, sigmoid, or tanh neurons in the hidden layers,\n",
        "- SGD, Adam, or RMSProp optimizer, and\n",
        "- 10 to 50 training epochs."
      ]
    },
    {
      "cell_type": "code",
      "execution_count": 32,
      "id": "89782968-0977-402f-aea2-ee262df56f18",
      "metadata": {
        "colab": {
          "base_uri": "https://localhost:8080/",
          "height": 1000
        },
        "id": "89782968-0977-402f-aea2-ee262df56f18",
        "outputId": "df8bcf87-605c-4cad-a414-841a4a0cb821"
      },
      "outputs": [
        {
          "name": "stdout",
          "output_type": "stream",
          "text": [
            "Epoch 1/50\n",
            "123/123 [==============================] - 2s 8ms/step - loss: 9.6090 - val_loss: 2.6370\n",
            "Epoch 2/50\n",
            "123/123 [==============================] - 0s 3ms/step - loss: 2.2274 - val_loss: 1.8784\n",
            "Epoch 3/50\n",
            "123/123 [==============================] - 0s 3ms/step - loss: 1.6397 - val_loss: 1.4364\n",
            "Epoch 4/50\n",
            "123/123 [==============================] - 0s 3ms/step - loss: 1.2462 - val_loss: 1.1223\n",
            "Epoch 5/50\n",
            "123/123 [==============================] - 0s 3ms/step - loss: 0.9598 - val_loss: 0.8722\n",
            "Epoch 6/50\n",
            "123/123 [==============================] - 0s 3ms/step - loss: 0.7607 - val_loss: 0.7063\n",
            "Epoch 7/50\n",
            "123/123 [==============================] - 0s 3ms/step - loss: 0.6385 - val_loss: 0.6085\n",
            "Epoch 8/50\n",
            "123/123 [==============================] - 0s 3ms/step - loss: 0.5747 - val_loss: 0.5548\n",
            "Epoch 9/50\n",
            "123/123 [==============================] - 0s 3ms/step - loss: 0.5408 - val_loss: 0.5354\n",
            "Epoch 10/50\n",
            "123/123 [==============================] - 0s 3ms/step - loss: 0.5312 - val_loss: 0.5169\n",
            "Epoch 11/50\n",
            "123/123 [==============================] - 0s 3ms/step - loss: 0.5097 - val_loss: 0.5202\n",
            "Epoch 12/50\n",
            "123/123 [==============================] - 0s 3ms/step - loss: 0.4991 - val_loss: 0.5112\n",
            "Epoch 13/50\n",
            "123/123 [==============================] - 0s 2ms/step - loss: 0.4851 - val_loss: 0.4979\n",
            "Epoch 14/50\n",
            "123/123 [==============================] - 0s 3ms/step - loss: 0.4790 - val_loss: 0.5037\n",
            "Epoch 15/50\n",
            "123/123 [==============================] - 0s 3ms/step - loss: 0.4730 - val_loss: 0.4919\n",
            "Epoch 16/50\n",
            "123/123 [==============================] - 0s 2ms/step - loss: 0.4652 - val_loss: 0.4816\n",
            "Epoch 17/50\n",
            "123/123 [==============================] - 0s 3ms/step - loss: 0.4607 - val_loss: 0.4932\n",
            "Epoch 18/50\n",
            "123/123 [==============================] - 0s 3ms/step - loss: 0.4573 - val_loss: 0.5002\n",
            "Epoch 19/50\n",
            "123/123 [==============================] - 0s 3ms/step - loss: 0.4565 - val_loss: 0.4773\n",
            "Epoch 20/50\n",
            "123/123 [==============================] - 0s 3ms/step - loss: 0.4441 - val_loss: 0.5284\n",
            "Epoch 21/50\n",
            "123/123 [==============================] - 0s 3ms/step - loss: 0.4450 - val_loss: 0.4808\n",
            "Epoch 22/50\n",
            "123/123 [==============================] - 0s 3ms/step - loss: 0.4409 - val_loss: 0.4818\n",
            "Epoch 23/50\n",
            "123/123 [==============================] - 0s 2ms/step - loss: 0.4386 - val_loss: 0.4919\n",
            "Epoch 24/50\n",
            "123/123 [==============================] - 0s 3ms/step - loss: 0.4404 - val_loss: 0.4875\n",
            "Epoch 25/50\n",
            "123/123 [==============================] - 0s 2ms/step - loss: 0.4338 - val_loss: 0.4895\n",
            "Epoch 26/50\n",
            "123/123 [==============================] - 0s 3ms/step - loss: 0.4240 - val_loss: 0.4757\n",
            "Epoch 27/50\n",
            "123/123 [==============================] - 0s 3ms/step - loss: 0.4283 - val_loss: 0.5007\n",
            "Epoch 28/50\n",
            "123/123 [==============================] - 0s 3ms/step - loss: 0.4229 - val_loss: 0.4919\n",
            "Epoch 29/50\n",
            "123/123 [==============================] - 0s 3ms/step - loss: 0.4144 - val_loss: 0.4817\n",
            "Epoch 30/50\n",
            "123/123 [==============================] - 1s 4ms/step - loss: 0.4167 - val_loss: 0.5010\n",
            "Epoch 31/50\n",
            "123/123 [==============================] - 1s 6ms/step - loss: 0.4196 - val_loss: 0.4755\n",
            "Epoch 32/50\n",
            "123/123 [==============================] - 1s 4ms/step - loss: 0.4096 - val_loss: 0.4908\n",
            "Epoch 33/50\n",
            "123/123 [==============================] - 1s 5ms/step - loss: 0.4120 - val_loss: 0.4922\n",
            "Epoch 34/50\n",
            "123/123 [==============================] - 0s 4ms/step - loss: 0.4068 - val_loss: 0.4699\n",
            "Epoch 35/50\n",
            "123/123 [==============================] - 0s 4ms/step - loss: 0.4008 - val_loss: 0.4764\n",
            "Epoch 36/50\n",
            "123/123 [==============================] - 0s 4ms/step - loss: 0.4017 - val_loss: 0.5103\n",
            "Epoch 37/50\n",
            "123/123 [==============================] - 0s 4ms/step - loss: 0.3958 - val_loss: 0.4763\n",
            "Epoch 38/50\n",
            "123/123 [==============================] - 0s 3ms/step - loss: 0.3937 - val_loss: 0.4872\n",
            "Epoch 39/50\n",
            "123/123 [==============================] - 0s 3ms/step - loss: 0.3950 - val_loss: 0.4736\n",
            "Epoch 40/50\n",
            "123/123 [==============================] - 0s 3ms/step - loss: 0.3919 - val_loss: 0.4899\n",
            "Epoch 41/50\n",
            "123/123 [==============================] - 0s 3ms/step - loss: 0.3902 - val_loss: 0.4735\n",
            "Epoch 42/50\n",
            "123/123 [==============================] - 0s 2ms/step - loss: 0.3810 - val_loss: 0.4913\n",
            "Epoch 43/50\n",
            "123/123 [==============================] - 0s 3ms/step - loss: 0.3877 - val_loss: 0.4888\n",
            "Epoch 44/50\n",
            "123/123 [==============================] - 0s 3ms/step - loss: 0.3801 - val_loss: 0.4817\n",
            "Epoch 45/50\n",
            "123/123 [==============================] - 0s 3ms/step - loss: 0.3800 - val_loss: 0.4754\n",
            "Epoch 46/50\n",
            "123/123 [==============================] - 0s 3ms/step - loss: 0.3807 - val_loss: 0.4797\n",
            "Epoch 47/50\n",
            "123/123 [==============================] - 0s 4ms/step - loss: 0.3715 - val_loss: 0.4873\n",
            "Epoch 48/50\n",
            "123/123 [==============================] - 0s 3ms/step - loss: 0.3710 - val_loss: 0.4788\n",
            "Epoch 49/50\n",
            "123/123 [==============================] - 0s 2ms/step - loss: 0.3688 - val_loss: 0.4828\n",
            "Epoch 50/50\n",
            "123/123 [==============================] - 0s 3ms/step - loss: 0.3660 - val_loss: 0.4868\n"
          ]
        },
        {
          "data": {
            "image/png": "[encoded data removed]",
            "text/plain": [
              "<Figure size 640x480 with 1 Axes>"
            ]
          },
          "metadata": {},
          "output_type": "display_data"
        }
      ],
      "source": [
        "from sklearn.preprocessing import StandardScaler\n",
        "from keras.models import Sequential\n",
        "from keras.layers import Dense\n",
        "\n",
        "\n",
        "\n",
        "# Load the wine_quality dataset\n",
        "X_train, y_train, X_test, y_test = load_wine_quality()\n",
        "\n",
        "# Normalize the features\n",
        "scaler = StandardScaler()\n",
        "X_train_scaled = scaler.fit_transform(X_train)\n",
        "X_test_scaled = scaler.transform(X_test)\n",
        "\n",
        "# Create a Keras model\n",
        "model = Sequential([\n",
        "    Dense(64, activation='relu', input_shape=(X_train_scaled.shape[1],)),\n",
        "    Dense(64, activation='relu'),\n",
        "    Dense(1, activation='linear')\n",
        "])\n",
        "\n",
        "# Compile the model\n",
        "model.compile(optimizer='adam', loss='mean_squared_error')\n",
        "\n",
        "# Train the model\n",
        "history = model.fit(X_train_scaled, y_train, epochs=50, validation_data=(X_test_scaled, y_test))\n",
        "\n",
        "# Plot the training history\n",
        "plt.plot(history.history['loss'], label='Training Loss')\n",
        "plt.plot(history.history['val_loss'], label='Validation Loss')\n",
        "plt.legend()\n",
        "plt.show()"
      ]
    },
    {
      "cell_type": "code",
      "execution_count": null,
      "id": "db78d6a7-1288-4eb4-a325-869b96fc59f2",
      "metadata": {
        "id": "db78d6a7-1288-4eb4-a325-869b96fc59f2"
      },
      "outputs": [],
      "source": [
        "\n",
        "# ===== =====> Replace this line by your code. <===== ===== #\n"
      ]
    },
    {
      "cell_type": "markdown",
      "id": "eb7631c0-9380-4908-bdb1-a784f76d986d",
      "metadata": {
        "id": "eb7631c0-9380-4908-bdb1-a784f76d986d"
      },
      "source": [
        "## &#x2766;"
      ]
    },
    {
      "cell_type": "markdown",
      "id": "af8ada2d-859a-406b-a2c8-fa9d20fdad08",
      "metadata": {
        "id": "af8ada2d-859a-406b-a2c8-fa9d20fdad08"
      },
      "source": [
        "You may use the following code to do prediction using the trained model."
      ]
    },
    {
      "cell_type": "code",
      "execution_count": null,
      "id": "65655d92-8f69-4aa3-bef2-ba6492329434",
      "metadata": {
        "id": "65655d92-8f69-4aa3-bef2-ba6492329434",
        "outputId": "a6e818a9-735d-4c9a-86b0-8facdc13d6cb",
        "tags": []
      },
      "outputs": [
        {
          "name": "stdout",
          "output_type": "stream",
          "text": [
            "Actual:     5.0  8.0  5.0  7.0  5.0  6.0  5.0  7.0  5.0  6.0\n",
            "Predicted:  6.3  6.7  5.0  6.1  5.6  6.3  4.7  6.2  5.4  5.8\n"
          ]
        }
      ],
      "source": [
        "N = 10\n",
        "y_pred = model.predict(X_test[:N], verbose=0)\n",
        "print(\"Actual:   \", *[f\"{x:4.1f}\" for x in y_test[:N]])\n",
        "print(\"Predicted:\", *[f\"{x:4.1f}\" for x in y_pred.ravel()])"
      ]
    },
    {
      "cell_type": "markdown",
      "id": "aa03895d-0788-402a-a241-cfba0eab9d94",
      "metadata": {
        "id": "aa03895d-0788-402a-a241-cfba0eab9d94"
      },
      "source": [
        "# Extras"
      ]
    },
    {
      "cell_type": "markdown",
      "id": "70edc5fb-4847-4187-926c-5796250c12fe",
      "metadata": {
        "id": "70edc5fb-4847-4187-926c-5796250c12fe"
      },
      "source": [
        "## More experiments"
      ]
    },
    {
      "cell_type": "markdown",
      "id": "32795957-6a42-4bee-8602-347d3d3c0d07",
      "metadata": {
        "id": "32795957-6a42-4bee-8602-347d3d3c0d07",
        "tags": []
      },
      "source": [
        "### E1a (Experimenting with the RMSProp optimizer)\n",
        "\n",
        "Modify the baseline model to use the RMSProp optimizer instead of the SGD optimizer. Specifically, copy the two code cells Baseline#1 and Baseline#2 below, and then change `\"sgd\"` to `\"rmsprop\"` in the `compile()` method call. Remember to execute the two cells in order.\n",
        "\n",
        "State the validation loss in the final training epoch, and compare this loss to that of the baseline model. Comment on the curve of validation loss."
      ]
    },
    {
      "cell_type": "markdown",
      "id": "c02dd966-0c48-48e8-9afa-97a669f12475",
      "metadata": {
        "id": "c02dd966-0c48-48e8-9afa-97a669f12475",
        "tags": []
      },
      "source": [
        "### E1b (Experimenting with a customized Adam optimizer)\n",
        "\n",
        "Modify the baseline model to use a customized Adam optimizer instead of the SGD optimizer. Specifically, copy the two code cells Baseline#1 and Baseline#2 below, and then:\n",
        "\n",
        "- create an Adam optimizer with a learning rate 0.1, and\n",
        "- use that Adam optimizer in the `compile()` method call.\n",
        "\n",
        "The modified code is shown below:\n",
        "\n",
        "```python\n",
        "adam_opt = keras.optimizers.Adam(learning_rate=0.1)\n",
        "model.compile(loss=\"mean_squared_error\", optimizer=adam_opt)\n",
        "```\n",
        "\n",
        "Remember to execute the two cells in order.\n",
        "\n",
        "State the validation loss in the final training epoch, and compare this loss to that of the baseline model. Comment on the curve of validation loss."
      ]
    },
    {
      "cell_type": "markdown",
      "id": "d7b9900a-eb93-454e-a21d-aee7c077e149",
      "metadata": {
        "id": "d7b9900a-eb93-454e-a21d-aee7c077e149",
        "tags": []
      },
      "source": [
        "### E1c (Experimenting with no feature normalization)\n",
        "\n",
        "In the program of the baseline model, the input features are normalized. Modify the program so that the features are not normalized. Specifically, copy the two code cells Baseline#1 and Baseline#2 below, and then remove or comment out the line that calls the `normalize_features()` function. Remember to execute the two cells in order.\n",
        "\n",
        "State the validation loss in the final training epoch, and compare this loss to that of the baseline model. Comment on the curve of validation curve."
      ]
    },
    {
      "cell_type": "markdown",
      "id": "4a02a363-ed0c-4bd0-93a9-5357473c985e",
      "metadata": {
        "id": "4a02a363-ed0c-4bd0-93a9-5357473c985e"
      },
      "source": [
        "## Solutions to extra exercises"
      ]
    },
    {
      "cell_type": "markdown",
      "id": "a08a037e-cc2b-4f7a-91ad-bfa8677835af",
      "metadata": {
        "id": "a08a037e-cc2b-4f7a-91ad-bfa8677835af",
        "tags": []
      },
      "source": [
        "### E1a"
      ]
    },
    {
      "cell_type": "code",
      "execution_count": null,
      "id": "a23025ca-2e59-439c-876b-300e6bdc0c4b",
      "metadata": {
        "id": "a23025ca-2e59-439c-876b-300e6bdc0c4b",
        "outputId": "e31c4444-00e4-41c5-ddb3-da0a03d6ef18"
      },
      "outputs": [
        {
          "name": "stdout",
          "output_type": "stream",
          "text": [
            "Epoch 1/20\n"
          ]
        },
        {
          "name": "stdout",
          "output_type": "stream",
          "text": [
            "13/13 - 1s - loss: 604.3279 - val_loss: 626.2670 - 536ms/epoch - 41ms/step\n"
          ]
        },
        {
          "name": "stdout",
          "output_type": "stream",
          "text": [
            "Epoch 2/20\n"
          ]
        },
        {
          "name": "stdout",
          "output_type": "stream",
          "text": [
            "13/13 - 0s - loss: 590.9560 - val_loss: 614.6189 - 36ms/epoch - 3ms/step\n"
          ]
        },
        {
          "name": "stdout",
          "output_type": "stream",
          "text": [
            "Epoch 3/20\n"
          ]
        },
        {
          "name": "stdout",
          "output_type": "stream",
          "text": [
            "13/13 - 0s - loss: 580.1366 - val_loss: 604.0466 - 50ms/epoch - 4ms/step\n"
          ]
        },
        {
          "name": "stdout",
          "output_type": "stream",
          "text": [
            "Epoch 4/20\n"
          ]
        },
        {
          "name": "stdout",
          "output_type": "stream",
          "text": [
            "13/13 - 0s - loss: 570.0681 - val_loss: 593.7828 - 35ms/epoch - 3ms/step\n"
          ]
        },
        {
          "name": "stdout",
          "output_type": "stream",
          "text": [
            "Epoch 5/20\n"
          ]
        },
        {
          "name": "stdout",
          "output_type": "stream",
          "text": [
            "13/13 - 0s - loss: 560.2360 - val_loss: 583.8065 - 36ms/epoch - 3ms/step\n"
          ]
        },
        {
          "name": "stdout",
          "output_type": "stream",
          "text": [
            "Epoch 6/20\n"
          ]
        },
        {
          "name": "stdout",
          "output_type": "stream",
          "text": [
            "13/13 - 0s - loss: 550.7545 - val_loss: 574.2874 - 40ms/epoch - 3ms/step\n"
          ]
        },
        {
          "name": "stdout",
          "output_type": "stream",
          "text": [
            "Epoch 7/20\n"
          ]
        },
        {
          "name": "stdout",
          "output_type": "stream",
          "text": [
            "13/13 - 0s - loss: 541.5759 - val_loss: 564.8520 - 53ms/epoch - 4ms/step\n"
          ]
        },
        {
          "name": "stdout",
          "output_type": "stream",
          "text": [
            "Epoch 8/20\n"
          ]
        },
        {
          "name": "stdout",
          "output_type": "stream",
          "text": [
            "13/13 - 0s - loss: 532.6097 - val_loss: 555.8133 - 37ms/epoch - 3ms/step\n"
          ]
        },
        {
          "name": "stdout",
          "output_type": "stream",
          "text": [
            "Epoch 9/20\n"
          ]
        },
        {
          "name": "stdout",
          "output_type": "stream",
          "text": [
            "13/13 - 0s - loss: 524.0041 - val_loss: 546.9825 - 43ms/epoch - 3ms/step\n"
          ]
        },
        {
          "name": "stdout",
          "output_type": "stream",
          "text": [
            "Epoch 10/20\n"
          ]
        },
        {
          "name": "stdout",
          "output_type": "stream",
          "text": [
            "13/13 - 0s - loss: 515.5989 - val_loss: 538.4266 - 36ms/epoch - 3ms/step\n"
          ]
        },
        {
          "name": "stdout",
          "output_type": "stream",
          "text": [
            "Epoch 11/20\n"
          ]
        },
        {
          "name": "stdout",
          "output_type": "stream",
          "text": [
            "13/13 - 0s - loss: 507.4731 - val_loss: 530.1338 - 34ms/epoch - 3ms/step\n"
          ]
        },
        {
          "name": "stdout",
          "output_type": "stream",
          "text": [
            "Epoch 12/20\n"
          ]
        },
        {
          "name": "stdout",
          "output_type": "stream",
          "text": [
            "13/13 - 0s - loss: 499.5539 - val_loss: 522.0371 - 34ms/epoch - 3ms/step\n"
          ]
        },
        {
          "name": "stdout",
          "output_type": "stream",
          "text": [
            "Epoch 13/20\n"
          ]
        },
        {
          "name": "stdout",
          "output_type": "stream",
          "text": [
            "13/13 - 0s - loss: 491.8380 - val_loss: 514.1873 - 34ms/epoch - 3ms/step\n"
          ]
        },
        {
          "name": "stdout",
          "output_type": "stream",
          "text": [
            "Epoch 14/20\n"
          ]
        },
        {
          "name": "stdout",
          "output_type": "stream",
          "text": [
            "13/13 - 0s - loss: 484.3666 - val_loss: 506.4867 - 33ms/epoch - 3ms/step\n"
          ]
        },
        {
          "name": "stdout",
          "output_type": "stream",
          "text": [
            "Epoch 15/20\n"
          ]
        },
        {
          "name": "stdout",
          "output_type": "stream",
          "text": [
            "13/13 - 0s - loss: 477.0393 - val_loss: 499.0490 - 46ms/epoch - 4ms/step\n"
          ]
        },
        {
          "name": "stdout",
          "output_type": "stream",
          "text": [
            "Epoch 16/20\n"
          ]
        },
        {
          "name": "stdout",
          "output_type": "stream",
          "text": [
            "13/13 - 0s - loss: 469.9220 - val_loss: 491.7231 - 36ms/epoch - 3ms/step\n"
          ]
        },
        {
          "name": "stdout",
          "output_type": "stream",
          "text": [
            "Epoch 17/20\n"
          ]
        },
        {
          "name": "stdout",
          "output_type": "stream",
          "text": [
            "13/13 - 0s - loss: 462.9092 - val_loss: 484.5001 - 36ms/epoch - 3ms/step\n"
          ]
        },
        {
          "name": "stdout",
          "output_type": "stream",
          "text": [
            "Epoch 18/20\n"
          ]
        },
        {
          "name": "stdout",
          "output_type": "stream",
          "text": [
            "13/13 - 0s - loss: 455.9702 - val_loss: 477.3787 - 40ms/epoch - 3ms/step\n"
          ]
        },
        {
          "name": "stdout",
          "output_type": "stream",
          "text": [
            "Epoch 19/20\n"
          ]
        },
        {
          "name": "stdout",
          "output_type": "stream",
          "text": [
            "13/13 - 0s - loss: 449.1231 - val_loss: 470.3033 - 37ms/epoch - 3ms/step\n"
          ]
        },
        {
          "name": "stdout",
          "output_type": "stream",
          "text": [
            "Epoch 20/20\n"
          ]
        },
        {
          "name": "stdout",
          "output_type": "stream",
          "text": [
            "13/13 - 0s - loss: 442.3577 - val_loss: 463.3370 - 40ms/epoch - 3ms/step\n"
          ]
        }
      ],
      "source": [
        "# Solution\n",
        "from tensorflow import keras\n",
        "from tensorflow.keras import layers\n",
        "from tensorflow.keras.datasets import boston_housing\n",
        "\n",
        "keras.utils.set_random_seed(42)\n",
        "(X_train, y_train), (X_test, y_test) = boston_housing.load_data()\n",
        "\n",
        "X_train, X_test = normalize_features(X_train, X_test)\n",
        "\n",
        "model = keras.Sequential([\n",
        "    layers.Dense(16, activation=\"sigmoid\"),  # hidden layer\n",
        "    layers.Dense(16, activation=\"sigmoid\"),  # hidden layer\n",
        "    layers.Dense(1, activation=\"linear\")     # output layer\n",
        "])\n",
        "\n",
        "model.compile(loss=\"mean_squared_error\", optimizer=\"rmsprop\")\n",
        "history = model.fit(X_train, y_train, epochs=20, verbose=2,\n",
        "          validation_data=(X_test, y_test))"
      ]
    },
    {
      "cell_type": "code",
      "execution_count": null,
      "id": "81625637-0788-4892-8548-04b88b9bb1e2",
      "metadata": {
        "id": "81625637-0788-4892-8548-04b88b9bb1e2",
        "outputId": "1b33a690-a97c-4c0c-ef52-5b1f82a00d29"
      },
      "outputs": [
        {
          "data": {
            "image/png": "[encoded data removed]",
            "text/plain": [
              "<Figure size 640x480 with 1 Axes>"
            ]
          },
          "metadata": {},
          "output_type": "display_data"
        }
      ],
      "source": [
        "# Solution\n",
        "plot_history(history)"
      ]
    },
    {
      "cell_type": "markdown",
      "id": "585113df-48ff-4c87-8493-5846f2f922b3",
      "metadata": {
        "id": "585113df-48ff-4c87-8493-5846f2f922b3"
      },
      "source": [
        "The final validation loss is about 463.3, which is much higher than 23.5 of the baseline model. In these 20 epochs of training, RMSProp performs very poorly compared to SGD.\n",
        "\n",
        "The curve of validation loss is very similar to the case of Adam. The losses are high but decreasing, indicating some slow learning."
      ]
    },
    {
      "cell_type": "markdown",
      "id": "054e923d-28e9-4d2f-b1fc-18af33c8c32a",
      "metadata": {
        "id": "054e923d-28e9-4d2f-b1fc-18af33c8c32a",
        "tags": []
      },
      "source": [
        "### E1b"
      ]
    },
    {
      "cell_type": "code",
      "execution_count": null,
      "id": "e7494c99-1c5d-4132-9163-5cf6542fd064",
      "metadata": {
        "id": "e7494c99-1c5d-4132-9163-5cf6542fd064",
        "outputId": "eddd394e-39da-4e24-c2c6-654fa98649ba"
      },
      "outputs": [
        {
          "name": "stdout",
          "output_type": "stream",
          "text": [
            "Epoch 1/20\n"
          ]
        },
        {
          "name": "stdout",
          "output_type": "stream",
          "text": [
            "13/13 - 1s - loss: 364.1589 - val_loss: 170.1368 - 661ms/epoch - 51ms/step\n"
          ]
        },
        {
          "name": "stdout",
          "output_type": "stream",
          "text": [
            "Epoch 2/20\n"
          ]
        },
        {
          "name": "stdout",
          "output_type": "stream",
          "text": [
            "13/13 - 0s - loss: 102.1096 - val_loss: 84.3792 - 37ms/epoch - 3ms/step\n"
          ]
        },
        {
          "name": "stdout",
          "output_type": "stream",
          "text": [
            "Epoch 3/20\n"
          ]
        },
        {
          "name": "stdout",
          "output_type": "stream",
          "text": [
            "13/13 - 0s - loss: 88.0365 - val_loss: 74.7306 - 49ms/epoch - 4ms/step\n"
          ]
        },
        {
          "name": "stdout",
          "output_type": "stream",
          "text": [
            "Epoch 4/20\n"
          ]
        },
        {
          "name": "stdout",
          "output_type": "stream",
          "text": [
            "13/13 - 0s - loss: 69.4207 - val_loss: 56.8997 - 54ms/epoch - 4ms/step\n"
          ]
        },
        {
          "name": "stdout",
          "output_type": "stream",
          "text": [
            "Epoch 5/20\n"
          ]
        },
        {
          "name": "stdout",
          "output_type": "stream",
          "text": [
            "13/13 - 0s - loss: 55.0495 - val_loss: 49.4195 - 53ms/epoch - 4ms/step\n"
          ]
        },
        {
          "name": "stdout",
          "output_type": "stream",
          "text": [
            "Epoch 6/20\n"
          ]
        },
        {
          "name": "stdout",
          "output_type": "stream",
          "text": [
            "13/13 - 0s - loss: 49.4576 - val_loss: 46.5848 - 39ms/epoch - 3ms/step\n"
          ]
        },
        {
          "name": "stdout",
          "output_type": "stream",
          "text": [
            "Epoch 7/20\n"
          ]
        },
        {
          "name": "stdout",
          "output_type": "stream",
          "text": [
            "13/13 - 0s - loss: 46.3657 - val_loss: 43.9035 - 57ms/epoch - 4ms/step\n"
          ]
        },
        {
          "name": "stdout",
          "output_type": "stream",
          "text": [
            "Epoch 8/20\n"
          ]
        },
        {
          "name": "stdout",
          "output_type": "stream",
          "text": [
            "13/13 - 0s - loss: 41.3472 - val_loss: 37.7666 - 55ms/epoch - 4ms/step\n"
          ]
        },
        {
          "name": "stdout",
          "output_type": "stream",
          "text": [
            "Epoch 9/20\n"
          ]
        },
        {
          "name": "stdout",
          "output_type": "stream",
          "text": [
            "13/13 - 0s - loss: 34.9085 - val_loss: 32.6184 - 35ms/epoch - 3ms/step\n"
          ]
        },
        {
          "name": "stdout",
          "output_type": "stream",
          "text": [
            "Epoch 10/20\n"
          ]
        },
        {
          "name": "stdout",
          "output_type": "stream",
          "text": [
            "13/13 - 0s - loss: 28.3579 - val_loss: 27.7496 - 41ms/epoch - 3ms/step\n"
          ]
        },
        {
          "name": "stdout",
          "output_type": "stream",
          "text": [
            "Epoch 11/20\n"
          ]
        },
        {
          "name": "stdout",
          "output_type": "stream",
          "text": [
            "13/13 - 0s - loss: 23.9250 - val_loss: 28.6373 - 42ms/epoch - 3ms/step\n"
          ]
        },
        {
          "name": "stdout",
          "output_type": "stream",
          "text": [
            "Epoch 12/20\n"
          ]
        },
        {
          "name": "stdout",
          "output_type": "stream",
          "text": [
            "13/13 - 0s - loss: 19.0695 - val_loss: 25.0564 - 44ms/epoch - 3ms/step\n"
          ]
        },
        {
          "name": "stdout",
          "output_type": "stream",
          "text": [
            "Epoch 13/20\n"
          ]
        },
        {
          "name": "stdout",
          "output_type": "stream",
          "text": [
            "13/13 - 0s - loss: 17.5773 - val_loss: 25.2012 - 38ms/epoch - 3ms/step\n"
          ]
        },
        {
          "name": "stdout",
          "output_type": "stream",
          "text": [
            "Epoch 14/20\n"
          ]
        },
        {
          "name": "stdout",
          "output_type": "stream",
          "text": [
            "13/13 - 0s - loss: 14.8235 - val_loss: 24.9300 - 37ms/epoch - 3ms/step\n"
          ]
        },
        {
          "name": "stdout",
          "output_type": "stream",
          "text": [
            "Epoch 15/20\n"
          ]
        },
        {
          "name": "stdout",
          "output_type": "stream",
          "text": [
            "13/13 - 0s - loss: 13.9820 - val_loss: 21.3071 - 53ms/epoch - 4ms/step\n"
          ]
        },
        {
          "name": "stdout",
          "output_type": "stream",
          "text": [
            "Epoch 16/20\n"
          ]
        },
        {
          "name": "stdout",
          "output_type": "stream",
          "text": [
            "13/13 - 0s - loss: 12.8920 - val_loss: 22.7849 - 42ms/epoch - 3ms/step\n"
          ]
        },
        {
          "name": "stdout",
          "output_type": "stream",
          "text": [
            "Epoch 17/20\n"
          ]
        },
        {
          "name": "stdout",
          "output_type": "stream",
          "text": [
            "13/13 - 0s - loss: 10.6229 - val_loss: 21.7228 - 34ms/epoch - 3ms/step\n"
          ]
        },
        {
          "name": "stdout",
          "output_type": "stream",
          "text": [
            "Epoch 18/20\n"
          ]
        },
        {
          "name": "stdout",
          "output_type": "stream",
          "text": [
            "13/13 - 0s - loss: 9.0938 - val_loss: 22.8994 - 34ms/epoch - 3ms/step\n"
          ]
        },
        {
          "name": "stdout",
          "output_type": "stream",
          "text": [
            "Epoch 19/20\n"
          ]
        },
        {
          "name": "stdout",
          "output_type": "stream",
          "text": [
            "13/13 - 0s - loss: 8.2806 - val_loss: 21.0151 - 35ms/epoch - 3ms/step\n"
          ]
        },
        {
          "name": "stdout",
          "output_type": "stream",
          "text": [
            "Epoch 20/20\n"
          ]
        },
        {
          "name": "stdout",
          "output_type": "stream",
          "text": [
            "13/13 - 0s - loss: 7.8274 - val_loss: 20.4864 - 38ms/epoch - 3ms/step\n"
          ]
        }
      ],
      "source": [
        "# Solution\n",
        "from tensorflow import keras\n",
        "from tensorflow.keras import layers\n",
        "from tensorflow.keras.datasets import boston_housing\n",
        "\n",
        "keras.utils.set_random_seed(42)\n",
        "(X_train, y_train), (X_test, y_test) = boston_housing.load_data()\n",
        "\n",
        "X_train, X_test = normalize_features(X_train, X_test)\n",
        "\n",
        "model = keras.Sequential([\n",
        "    layers.Dense(16, activation=\"sigmoid\"),  # hidden layer\n",
        "    layers.Dense(16, activation=\"sigmoid\"),  # hidden layer\n",
        "    layers.Dense(1, activation=\"linear\")     # output layer\n",
        "])\n",
        "\n",
        "adam_opt = keras.optimizers.Adam(learning_rate=0.1)\n",
        "model.compile(loss=\"mean_squared_error\", optimizer=adam_opt)\n",
        "history = model.fit(X_train, y_train, epochs=20, verbose=2,\n",
        "          validation_data=(X_test, y_test))"
      ]
    },
    {
      "cell_type": "code",
      "execution_count": null,
      "id": "39366165-4f49-43b9-a6d9-a91ef99daafb",
      "metadata": {
        "id": "39366165-4f49-43b9-a6d9-a91ef99daafb",
        "outputId": "3de1ef88-3758-4f83-908b-19fa50803da4"
      },
      "outputs": [
        {
          "data": {
            "image/png": "[encoded data removed]",
            "text/plain": [
              "<Figure size 640x480 with 1 Axes>"
            ]
          },
          "metadata": {},
          "output_type": "display_data"
        }
      ],
      "source": [
        "# Solution\n",
        "plot_history(history)"
      ]
    },
    {
      "cell_type": "markdown",
      "id": "d23dd2e8-16d0-4db3-b51f-f3aab358f203",
      "metadata": {
        "id": "d23dd2e8-16d0-4db3-b51f-f3aab358f203"
      },
      "source": [
        "The final validation loss is about 20.5, which is lower than 23.5 of the baseline model. Adam with a suitable learning rate works better than SGD for the task.\n",
        "\n",
        "The curve of validation loss is similar to that of the baseline model."
      ]
    },
    {
      "cell_type": "markdown",
      "id": "e0d4e19b-1998-4fbc-a4e7-492076a8aa29",
      "metadata": {
        "id": "e0d4e19b-1998-4fbc-a4e7-492076a8aa29",
        "tags": []
      },
      "source": [
        "### E1c"
      ]
    },
    {
      "cell_type": "code",
      "execution_count": null,
      "id": "7ff7a2e3-a237-42b7-8a40-2afae540b088",
      "metadata": {
        "id": "7ff7a2e3-a237-42b7-8a40-2afae540b088",
        "outputId": "8c8c3ccd-52ce-4cdf-e291-8cf9d3134cff"
      },
      "outputs": [
        {
          "name": "stdout",
          "output_type": "stream",
          "text": [
            "Epoch 1/20\n"
          ]
        },
        {
          "name": "stdout",
          "output_type": "stream",
          "text": [
            "13/13 - 0s - loss: 240.2469 - val_loss: 85.9967 - 459ms/epoch - 35ms/step\n"
          ]
        },
        {
          "name": "stdout",
          "output_type": "stream",
          "text": [
            "Epoch 2/20\n"
          ]
        },
        {
          "name": "stdout",
          "output_type": "stream",
          "text": [
            "13/13 - 0s - loss: 85.2058 - val_loss: 82.5394 - 38ms/epoch - 3ms/step\n"
          ]
        },
        {
          "name": "stdout",
          "output_type": "stream",
          "text": [
            "Epoch 3/20\n"
          ]
        },
        {
          "name": "stdout",
          "output_type": "stream",
          "text": [
            "13/13 - 0s - loss: 85.6491 - val_loss: 85.0071 - 36ms/epoch - 3ms/step\n"
          ]
        },
        {
          "name": "stdout",
          "output_type": "stream",
          "text": [
            "Epoch 4/20\n"
          ]
        },
        {
          "name": "stdout",
          "output_type": "stream",
          "text": [
            "13/13 - 0s - loss: 85.2843 - val_loss: 83.3259 - 38ms/epoch - 3ms/step\n"
          ]
        },
        {
          "name": "stdout",
          "output_type": "stream",
          "text": [
            "Epoch 5/20\n"
          ]
        },
        {
          "name": "stdout",
          "output_type": "stream",
          "text": [
            "13/13 - 0s - loss: 84.8662 - val_loss: 82.9886 - 34ms/epoch - 3ms/step\n"
          ]
        },
        {
          "name": "stdout",
          "output_type": "stream",
          "text": [
            "Epoch 6/20\n"
          ]
        },
        {
          "name": "stdout",
          "output_type": "stream",
          "text": [
            "13/13 - 0s - loss: 84.8703 - val_loss: 84.5817 - 45ms/epoch - 3ms/step\n"
          ]
        },
        {
          "name": "stdout",
          "output_type": "stream",
          "text": [
            "Epoch 7/20\n"
          ]
        },
        {
          "name": "stdout",
          "output_type": "stream",
          "text": [
            "13/13 - 0s - loss: 84.5735 - val_loss: 82.7463 - 37ms/epoch - 3ms/step\n"
          ]
        },
        {
          "name": "stdout",
          "output_type": "stream",
          "text": [
            "Epoch 8/20\n"
          ]
        },
        {
          "name": "stdout",
          "output_type": "stream",
          "text": [
            "13/13 - 0s - loss: 84.6622 - val_loss: 84.3439 - 44ms/epoch - 3ms/step\n"
          ]
        },
        {
          "name": "stdout",
          "output_type": "stream",
          "text": [
            "Epoch 9/20\n"
          ]
        },
        {
          "name": "stdout",
          "output_type": "stream",
          "text": [
            "13/13 - 0s - loss: 83.5510 - val_loss: 83.0340 - 34ms/epoch - 3ms/step\n"
          ]
        },
        {
          "name": "stdout",
          "output_type": "stream",
          "text": [
            "Epoch 10/20\n"
          ]
        },
        {
          "name": "stdout",
          "output_type": "stream",
          "text": [
            "13/13 - 0s - loss: 84.2110 - val_loss: 82.4072 - 37ms/epoch - 3ms/step\n"
          ]
        },
        {
          "name": "stdout",
          "output_type": "stream",
          "text": [
            "Epoch 11/20\n"
          ]
        },
        {
          "name": "stdout",
          "output_type": "stream",
          "text": [
            "13/13 - 0s - loss: 83.1975 - val_loss: 82.3572 - 35ms/epoch - 3ms/step\n"
          ]
        },
        {
          "name": "stdout",
          "output_type": "stream",
          "text": [
            "Epoch 12/20\n"
          ]
        },
        {
          "name": "stdout",
          "output_type": "stream",
          "text": [
            "13/13 - 0s - loss: 82.6747 - val_loss: 81.8453 - 37ms/epoch - 3ms/step\n"
          ]
        },
        {
          "name": "stdout",
          "output_type": "stream",
          "text": [
            "Epoch 13/20\n"
          ]
        },
        {
          "name": "stdout",
          "output_type": "stream",
          "text": [
            "13/13 - 0s - loss: 82.9706 - val_loss: 82.8356 - 35ms/epoch - 3ms/step\n"
          ]
        },
        {
          "name": "stdout",
          "output_type": "stream",
          "text": [
            "Epoch 14/20\n"
          ]
        },
        {
          "name": "stdout",
          "output_type": "stream",
          "text": [
            "13/13 - 0s - loss: 81.9235 - val_loss: 81.0714 - 34ms/epoch - 3ms/step\n"
          ]
        },
        {
          "name": "stdout",
          "output_type": "stream",
          "text": [
            "Epoch 15/20\n"
          ]
        },
        {
          "name": "stdout",
          "output_type": "stream",
          "text": [
            "13/13 - 0s - loss: 81.7237 - val_loss: 81.3210 - 35ms/epoch - 3ms/step\n"
          ]
        },
        {
          "name": "stdout",
          "output_type": "stream",
          "text": [
            "Epoch 16/20\n"
          ]
        },
        {
          "name": "stdout",
          "output_type": "stream",
          "text": [
            "13/13 - 0s - loss: 81.2037 - val_loss: 80.5685 - 33ms/epoch - 3ms/step\n"
          ]
        },
        {
          "name": "stdout",
          "output_type": "stream",
          "text": [
            "Epoch 17/20\n"
          ]
        },
        {
          "name": "stdout",
          "output_type": "stream",
          "text": [
            "13/13 - 0s - loss: 81.0723 - val_loss: 80.4520 - 36ms/epoch - 3ms/step\n"
          ]
        },
        {
          "name": "stdout",
          "output_type": "stream",
          "text": [
            "Epoch 18/20\n"
          ]
        },
        {
          "name": "stdout",
          "output_type": "stream",
          "text": [
            "13/13 - 0s - loss: 80.8289 - val_loss: 80.5522 - 44ms/epoch - 3ms/step\n"
          ]
        },
        {
          "name": "stdout",
          "output_type": "stream",
          "text": [
            "Epoch 19/20\n"
          ]
        },
        {
          "name": "stdout",
          "output_type": "stream",
          "text": [
            "13/13 - 0s - loss: 80.1603 - val_loss: 80.5112 - 36ms/epoch - 3ms/step\n"
          ]
        },
        {
          "name": "stdout",
          "output_type": "stream",
          "text": [
            "Epoch 20/20\n"
          ]
        },
        {
          "name": "stdout",
          "output_type": "stream",
          "text": [
            "13/13 - 0s - loss: 79.8056 - val_loss: 80.2545 - 36ms/epoch - 3ms/step\n"
          ]
        }
      ],
      "source": [
        "# Solution\n",
        "from tensorflow import keras\n",
        "from tensorflow.keras import layers\n",
        "from tensorflow.keras.datasets import boston_housing\n",
        "\n",
        "keras.utils.set_random_seed(42)\n",
        "(X_train, y_train), (X_test, y_test) = boston_housing.load_data()\n",
        "\n",
        "# X_train, X_test = normalize_features(X_train, X_test)\n",
        "\n",
        "model = keras.Sequential([\n",
        "    layers.Dense(16, activation=\"sigmoid\"),  # hidden layer\n",
        "    layers.Dense(16, activation=\"sigmoid\"),  # hidden layer\n",
        "    layers.Dense(1, activation=\"linear\")     # output layer\n",
        "])\n",
        "\n",
        "model.compile(loss=\"mean_squared_error\", optimizer=\"sgd\")\n",
        "history = model.fit(X_train, y_train, epochs=20, verbose=2,\n",
        "          validation_data=(X_test, y_test))"
      ]
    },
    {
      "cell_type": "code",
      "execution_count": null,
      "id": "3db6ab80-f1cd-49c0-857f-9138aa5d5611",
      "metadata": {
        "id": "3db6ab80-f1cd-49c0-857f-9138aa5d5611",
        "outputId": "6973b356-8a0d-4568-91f5-49d93e0be436"
      },
      "outputs": [
        {
          "data": {
            "image/png": "[encoded data removed]",
            "text/plain": [
              "<Figure size 640x480 with 1 Axes>"
            ]
          },
          "metadata": {},
          "output_type": "display_data"
        }
      ],
      "source": [
        "# Solution\n",
        "plot_history(history)"
      ]
    },
    {
      "cell_type": "markdown",
      "id": "4e212528-4173-470a-a4ef-8880beab2277",
      "metadata": {
        "id": "4e212528-4173-470a-a4ef-8880beab2277"
      },
      "source": [
        "The final validation loss is about 80.3, which is much higher than 23.5 of the baseline model. Without feature normalization, the model cannot trained or the training is extremely slow.\n",
        "\n",
        "The curve of validation loss is mainly horizontal, indicating not much learning is achieved."
      ]
    },
    {
      "cell_type": "markdown",
      "id": "67edfa8d-4d38-4c53-98ee-eabfe5d137da",
      "metadata": {
        "id": "67edfa8d-4d38-4c53-98ee-eabfe5d137da"
      },
      "source": [
        "## &#x2766;"
      ]
    }
  ],
  "metadata": {
    "accelerator": "TPU",
    "colab": {
      "provenance": []
    },
    "kernelspec": {
      "display_name": "Python 3",
      "name": "python3"
    },
    "language_info": {
      "codemirror_mode": {
        "name": "ipython",
        "version": 3
      },
      "file_extension": ".py",
      "mimetype": "text/x-python",
      "name": "python",
      "nbconvert_exporter": "python",
      "pygments_lexer": "ipython3",
      "version": "3.11.5"
    }
  },
  "nbformat": 4,
  "nbformat_minor": 5
}
