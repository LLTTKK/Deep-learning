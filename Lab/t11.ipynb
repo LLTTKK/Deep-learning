{
  "cells": [
    {
      "cell_type": "markdown",
      "id": "adac3692-135c-4a12-9394-391e108a0241",
      "metadata": {
        "id": "adac3692-135c-4a12-9394-391e108a0241"
      },
      "source": [
        "# COMP S493F Lab 11"
      ]
    },
    {
      "cell_type": "code",
      "execution_count": 2,
      "id": "75c66123-4403-4374-aba0-827d023f4fe2",
      "metadata": {
        "colab": {
          "base_uri": "https://localhost:8080/"
        },
        "id": "75c66123-4403-4374-aba0-827d023f4fe2",
        "outputId": "8c195d91-96f9-4920-ce12-666d47d7d3e2",
        "tags": []
      },
      "outputs": [
        {
          "name": "stdout",
          "output_type": "stream",
          "text": [
            "env: TF_CPP_MIN_LOG_LEVEL=2\n"
          ]
        }
      ],
      "source": [
        "%env TF_CPP_MIN_LOG_LEVEL=2\n",
        "import tensorflow as tf\n",
        "tf.config.experimental.enable_op_determinism()"
      ]
    },
    {
      "cell_type": "markdown",
      "id": "5c9d9e0b-efaf-4aa9-8ff1-2e1d50add05d",
      "metadata": {
        "id": "5c9d9e0b-efaf-4aa9-8ff1-2e1d50add05d"
      },
      "source": [
        "In this lesson, you'll work on:\n",
        "\n",
        "- text classification and text generation, and\n",
        "- using LSTM, GRU, stacked RNN, and bidirectional RNN."
      ]
    },
    {
      "cell_type": "markdown",
      "id": "0f5fc271-7a18-4bb6-ab9b-277082e08ee2",
      "metadata": {
        "id": "0f5fc271-7a18-4bb6-ab9b-277082e08ee2"
      },
      "source": [
        "### Student name: *Lo Tsz Kin*"
      ]
    },
    {
      "cell_type": "markdown",
      "id": "1acb919a-e24d-4073-842c-d7c76000b28f",
      "metadata": {
        "id": "1acb919a-e24d-4073-842c-d7c76000b28f"
      },
      "source": [
        "# The 20 newsgroups text dataset\n",
        "\n",
        "The scikit-learn library provides the 20 newsgroups text dataset, which contains about 18,000 messages in 20 newsgroups. To load the dataset, invoke the `fetch_20newsgroups()` function, as shown in the following code. This function returns a bunch object with these attributes (among others): a `data` list of text messages, a `target` array of newsgroup index, and a `target_names` list of newsgroup names. By default, `fetch_20newsgroups()` returns the training set of 11,314 messages. Calling `fetch_20newsgroups(subset=\"test\")` returns the test set of 7,532 messages."
      ]
    },
    {
      "cell_type": "code",
      "execution_count": 3,
      "id": "76f1e7ae-1300-461c-a1f7-783531d77cb1",
      "metadata": {
        "colab": {
          "base_uri": "https://localhost:8080/",
          "height": 417
        },
        "id": "76f1e7ae-1300-461c-a1f7-783531d77cb1",
        "outputId": "e9fa307f-1b3f-4218-f4e0-e39fd4fe7100",
        "tags": []
      },
      "outputs": [
        {
          "name": "stdout",
          "output_type": "stream",
          "text": [
            "<class 'list'> 11314\n",
            "<class 'numpy.ndarray'> 11314\n"
          ]
        },
        {
          "data": {
            "text/plain": [
              "['alt.atheism',\n",
              " 'comp.graphics',\n",
              " 'comp.os.ms-windows.misc',\n",
              " 'comp.sys.ibm.pc.hardware',\n",
              " 'comp.sys.mac.hardware',\n",
              " 'comp.windows.x',\n",
              " 'misc.forsale',\n",
              " 'rec.autos',\n",
              " 'rec.motorcycles',\n",
              " 'rec.sport.baseball',\n",
              " 'rec.sport.hockey',\n",
              " 'sci.crypt',\n",
              " 'sci.electronics',\n",
              " 'sci.med',\n",
              " 'sci.space',\n",
              " 'soc.religion.christian',\n",
              " 'talk.politics.guns',\n",
              " 'talk.politics.mideast',\n",
              " 'talk.politics.misc',\n",
              " 'talk.religion.misc']"
            ]
          },
          "metadata": {},
          "output_type": "display_data"
        }
      ],
      "source": [
        "from sklearn.datasets import fetch_20newsgroups\n",
        "newsgroups = fetch_20newsgroups()\n",
        "print(type(newsgroups.data), len(newsgroups.data))\n",
        "print(type(newsgroups.target), len(newsgroups.target))\n",
        "display(newsgroups.target_names)"
      ]
    },
    {
      "cell_type": "markdown",
      "id": "3cc10e93-c036-44c0-9b8d-f47e006485aa",
      "metadata": {
        "id": "3cc10e93-c036-44c0-9b8d-f47e006485aa"
      },
      "source": [
        "The code below displays the first message with index 0."
      ]
    },
    {
      "cell_type": "code",
      "execution_count": 4,
      "id": "d300f87d-80d3-47b5-b20d-46afc8ca9a95",
      "metadata": {
        "colab": {
          "base_uri": "https://localhost:8080/"
        },
        "id": "d300f87d-80d3-47b5-b20d-46afc8ca9a95",
        "outputId": "7081be96-613f-482d-cbaf-bbf6b20c2684",
        "tags": []
      },
      "outputs": [
        {
          "name": "stdout",
          "output_type": "stream",
          "text": [
            "From: lerxst@wam.umd.edu (where's my thing)\n",
            "Subject: WHAT car is this!?\n",
            "Nntp-Posting-Host: rac3.wam.umd.edu\n",
            "Organization: University of Maryland, College Park\n",
            "Lines: 15\n",
            "\n",
            " I was wondering if anyone out there could enlighten me on this car I saw\n",
            "the other day. It was a 2-door sports car, looked to be from the late 60s/\n",
            "early 70s. It was called a Bricklin. The doors were really small. In addition,\n",
            "the front bumper was separate from the rest of the body. This is \n",
            "all I know. If anyone can tellme a model name, engine specs, years\n",
            "of production, where this car is made, history, or whatever info you\n",
            "have on this funky looking car, please e-mail.\n",
            "\n",
            "Thanks,\n",
            "- IL\n",
            "   ---- brought to you by your neighborhood Lerxst ----\n"
          ]
        }
      ],
      "source": [
        "print(newsgroups.data[0].strip())"
      ]
    },
    {
      "cell_type": "markdown",
      "id": "912896e5-ccc1-4501-b10e-d6de0196170c",
      "metadata": {
        "id": "912896e5-ccc1-4501-b10e-d6de0196170c"
      },
      "source": [
        "This code displays the index and name of the first message's newsgroup."
      ]
    },
    {
      "cell_type": "code",
      "execution_count": 5,
      "id": "0ecf842b-d538-4688-9383-3eeba38f1c90",
      "metadata": {
        "colab": {
          "base_uri": "https://localhost:8080/"
        },
        "id": "0ecf842b-d538-4688-9383-3eeba38f1c90",
        "outputId": "2953812c-3292-424c-f928-3aed3167db21",
        "tags": []
      },
      "outputs": [
        {
          "name": "stdout",
          "output_type": "stream",
          "text": [
            "7 rec.autos\n"
          ]
        }
      ],
      "source": [
        "target = newsgroups.target[0]\n",
        "print(target, newsgroups.target_names[target])"
      ]
    },
    {
      "cell_type": "markdown",
      "id": "60a57186-d490-4d6c-a010-988a9b434b4b",
      "metadata": {
        "id": "60a57186-d490-4d6c-a010-988a9b434b4b"
      },
      "source": [
        "# Utility code\n",
        "\n",
        "This section contains some utility functions for use in the rest of the lesson.\n",
        "\n",
        "The following code contains import statements and constant definitions."
      ]
    },
    {
      "cell_type": "code",
      "execution_count": 6,
      "id": "cac3a523-4fd7-4c1e-8ac9-d252eb5af383",
      "metadata": {
        "id": "cac3a523-4fd7-4c1e-8ac9-d252eb5af383",
        "tags": []
      },
      "outputs": [],
      "source": [
        "from tensorflow import keras\n",
        "from tensorflow.keras import layers\n",
        "from tensorflow.keras.preprocessing import sequence\n",
        "from tensorflow.keras.preprocessing.text import Tokenizer\n",
        "\n",
        "NUM_WORDS = 5000  # how many most frequent words in the corpus to use\n",
        "WV_SIZE = 96      # word vector size, 96D, each vector having 96 values\n",
        "SEQ_LEN = 100     # standardized length of text after padding/truncating"
      ]
    },
    {
      "cell_type": "markdown",
      "id": "6f4d1bb2-d280-430c-869e-6736020c80a1",
      "metadata": {
        "id": "6f4d1bb2-d280-430c-869e-6736020c80a1"
      },
      "source": [
        "The following `load_and_prep_20newsgroups()` function loads and prepares the 20 newsgroups dataset. Note that the `preprocess_text()` nested function is defined as global, so it can be used both inside and outside `load_and_prep_20newsgroups()`. In this way, it can refer to the local `tokenizer` object, and can be used later for preprocessing text for making prediction in production."
      ]
    },
    {
      "cell_type": "code",
      "execution_count": 7,
      "id": "206e03ae-f452-4821-a91a-03b5b7663d10",
      "metadata": {
        "id": "206e03ae-f452-4821-a91a-03b5b7663d10",
        "tags": []
      },
      "outputs": [],
      "source": [
        "from sklearn.datasets import fetch_20newsgroups\n",
        "\n",
        "def load_and_prep_20newsgroups():\n",
        "    keras.utils.set_random_seed(42)\n",
        "    X, y = fetch_20newsgroups(\n",
        "        remove=(\"headers\", \"footers\", \"quotes\"), return_X_y=True)\n",
        "    tokenizer = Tokenizer(NUM_WORDS)\n",
        "    tokenizer.fit_on_texts(X)\n",
        "    global preprocess_text\n",
        "    def preprocess_text(texts):\n",
        "        texts = tokenizer.texts_to_sequences(texts)\n",
        "        texts = sequence.pad_sequences(texts, maxlen=SEQ_LEN)\n",
        "        return texts\n",
        "    X = preprocess_text(X)\n",
        "    y = keras.utils.to_categorical(y, num_classes=20)\n",
        "    return X, y"
      ]
    },
    {
      "cell_type": "markdown",
      "id": "dbcd7e4a-a2b3-4b03-a052-78169f89422f",
      "metadata": {
        "id": "dbcd7e4a-a2b3-4b03-a052-78169f89422f"
      },
      "source": [
        "This function retrieves the final results in a training history, i.e. values of \"loss\", \"val_loss\", \"acc\", and \"val_acc\" in the final epoch."
      ]
    },
    {
      "cell_type": "code",
      "execution_count": 8,
      "id": "4eb74019-9eab-49e9-90a8-12cc23ca5139",
      "metadata": {
        "id": "4eb74019-9eab-49e9-90a8-12cc23ca5139"
      },
      "outputs": [],
      "source": [
        "def history_final_values(history):\n",
        "    return {k: round(v[-1], 4) for k, v in history.history.items()}"
      ]
    },
    {
      "cell_type": "markdown",
      "id": "24832deb-2be8-4257-b3e8-5ab4998d95d7",
      "metadata": {
        "id": "24832deb-2be8-4257-b3e8-5ab4998d95d7"
      },
      "source": [
        "This function plots a training history, including both training and validation results."
      ]
    },
    {
      "cell_type": "code",
      "execution_count": 9,
      "id": "a10f3619-804b-4472-88b1-c9e8a2344c97",
      "metadata": {
        "id": "a10f3619-804b-4472-88b1-c9e8a2344c97",
        "tags": []
      },
      "outputs": [],
      "source": [
        "import matplotlib.pyplot as plt\n",
        "\n",
        "def plot_history(history):\n",
        "    plt.figure(figsize=(8, 4))\n",
        "    plt.subplot(121)\n",
        "    plt.plot(history.history[\"loss\"], label=\"loss\")\n",
        "    plt.plot(history.history[\"val_loss\"], label=\"val_loss\")\n",
        "    plt.legend()\n",
        "    plt.grid(True)\n",
        "    plt.subplot(122)\n",
        "    plt.plot(history.history[\"acc\"], label=\"acc\")\n",
        "    plt.plot(history.history[\"val_acc\"], label=\"val_acc\")\n",
        "    plt.legend()\n",
        "    plt.grid(True)\n",
        "    plt.tight_layout()"
      ]
    },
    {
      "cell_type": "markdown",
      "id": "aa7ec7f4-42cd-4071-9e71-f33d4d204beb",
      "metadata": {
        "id": "aa7ec7f4-42cd-4071-9e71-f33d4d204beb"
      },
      "source": [
        "This function compiles and fits a model, and returns the training history."
      ]
    },
    {
      "cell_type": "code",
      "execution_count": 10,
      "id": "3ff87c0f-d12c-4417-97a2-03750565f58d",
      "metadata": {
        "id": "3ff87c0f-d12c-4417-97a2-03750565f58d",
        "tags": []
      },
      "outputs": [],
      "source": [
        "def compile_and_fit_model(model, X, y, epochs=30, batch_size=256, verbose=2):\n",
        "    model.compile(loss=\"categorical_crossentropy\",\n",
        "                  optimizer=\"adam\", metrics=[\"acc\"])\n",
        "    history = model.fit(X, y, epochs=epochs, batch_size=batch_size,\n",
        "                        verbose=verbose, validation_split=0.2)\n",
        "    return history"
      ]
    },
    {
      "cell_type": "markdown",
      "id": "2ca2d459-e6da-4750-b2aa-a7e40893497f",
      "metadata": {
        "id": "2ca2d459-e6da-4750-b2aa-a7e40893497f"
      },
      "source": [
        "The following `predict_newsgroup()` function uses the model to predict the newsgroup of a text message."
      ]
    },
    {
      "cell_type": "code",
      "execution_count": 11,
      "id": "22b1c74a-50f7-4d99-800f-c2559b7d26d3",
      "metadata": {
        "id": "22b1c74a-50f7-4d99-800f-c2559b7d26d3",
        "tags": []
      },
      "outputs": [],
      "source": [
        "import numpy as np\n",
        "\n",
        "newsgroups = fetch_20newsgroups()\n",
        "\n",
        "def predict_newsgroup(model, text):\n",
        "    X = preprocess_text([text])\n",
        "    y = model.predict(X, verbose=0)[0]\n",
        "    y = np.argmax(y)  # reverse one-hot encoding\n",
        "    y_name = newsgroups.target_names[y]\n",
        "    return y, y_name"
      ]
    },
    {
      "cell_type": "markdown",
      "id": "885b4d82-221f-4496-8539-39bb45a6f6db",
      "metadata": {
        "id": "885b4d82-221f-4496-8539-39bb45a6f6db"
      },
      "source": [
        "# Text classification\n",
        "\n",
        "In this section, we perform text classification on the 20 newsgroups text dataset using various recurrent neural networks."
      ]
    },
    {
      "cell_type": "markdown",
      "id": "c5f001a2-ac55-4c42-97e1-26aec6eab475",
      "metadata": {
        "id": "c5f001a2-ac55-4c42-97e1-26aec6eab475"
      },
      "source": [
        "## Using simple RNN\n",
        "\n",
        "This code classifies the 20 newsgroups text dataset using a simple RNN."
      ]
    },
    {
      "cell_type": "code",
      "execution_count": null,
      "id": "671194d9-079d-4db4-915c-abdda78b2599",
      "metadata": {
        "colab": {
          "base_uri": "https://localhost:8080/"
        },
        "id": "671194d9-079d-4db4-915c-abdda78b2599",
        "outputId": "db3d511d-6b02-4e7c-c050-2c8abf74e187",
        "tags": []
      },
      "outputs": [
        {
          "name": "stdout",
          "output_type": "stream",
          "text": [
            "Epoch 1/30\n",
            "36/36 - 22s - loss: 2.9933 - acc: 0.0675 - val_loss: 2.9581 - val_acc: 0.0901 - 22s/epoch - 609ms/step\n",
            "Epoch 2/30\n",
            "36/36 - 13s - loss: 2.8595 - acc: 0.1581 - val_loss: 2.8783 - val_acc: 0.1308 - 13s/epoch - 365ms/step\n",
            "Epoch 3/30\n",
            "36/36 - 14s - loss: 2.6223 - acc: 0.2449 - val_loss: 2.6905 - val_acc: 0.1365 - 14s/epoch - 385ms/step\n",
            "Epoch 4/30\n",
            "36/36 - 13s - loss: 2.3359 - acc: 0.3319 - val_loss: 2.5976 - val_acc: 0.1781 - 13s/epoch - 353ms/step\n",
            "Epoch 5/30\n",
            "36/36 - 13s - loss: 2.0806 - acc: 0.4387 - val_loss: 2.4961 - val_acc: 0.2143 - 13s/epoch - 361ms/step\n",
            "Epoch 6/30\n",
            "36/36 - 13s - loss: 1.8108 - acc: 0.5447 - val_loss: 2.4586 - val_acc: 0.2316 - 13s/epoch - 354ms/step\n",
            "Epoch 7/30\n",
            "36/36 - 10s - loss: 1.5773 - acc: 0.6152 - val_loss: 2.4560 - val_acc: 0.2364 - 10s/epoch - 289ms/step\n",
            "Epoch 8/30\n",
            "36/36 - 10s - loss: 1.3684 - acc: 0.6759 - val_loss: 2.4433 - val_acc: 0.2404 - 10s/epoch - 278ms/step\n",
            "Epoch 9/30\n",
            "36/36 - 11s - loss: 1.2012 - acc: 0.7182 - val_loss: 2.4388 - val_acc: 0.2629 - 11s/epoch - 303ms/step\n",
            "Epoch 10/30\n",
            "36/36 - 9s - loss: 1.0460 - acc: 0.7597 - val_loss: 2.4310 - val_acc: 0.2665 - 9s/epoch - 240ms/step\n",
            "Epoch 11/30\n",
            "36/36 - 8s - loss: 0.9117 - acc: 0.7957 - val_loss: 2.5017 - val_acc: 0.2554 - 8s/epoch - 232ms/step\n",
            "Epoch 12/30\n",
            "36/36 - 11s - loss: 0.8250 - acc: 0.8178 - val_loss: 2.5152 - val_acc: 0.2678 - 11s/epoch - 292ms/step\n",
            "Epoch 13/30\n",
            "36/36 - 10s - loss: 0.7313 - acc: 0.8418 - val_loss: 2.5241 - val_acc: 0.2753 - 10s/epoch - 270ms/step\n",
            "Epoch 14/30\n",
            "36/36 - 8s - loss: 0.6680 - acc: 0.8592 - val_loss: 2.6243 - val_acc: 0.2629 - 8s/epoch - 228ms/step\n",
            "Epoch 15/30\n",
            "36/36 - 9s - loss: 0.6075 - acc: 0.8706 - val_loss: 2.5982 - val_acc: 0.2656 - 9s/epoch - 239ms/step\n",
            "Epoch 16/30\n",
            "36/36 - 10s - loss: 0.5487 - acc: 0.8843 - val_loss: 2.6672 - val_acc: 0.2532 - 10s/epoch - 288ms/step\n",
            "Epoch 17/30\n",
            "36/36 - 9s - loss: 0.5063 - acc: 0.8977 - val_loss: 2.7051 - val_acc: 0.2665 - 9s/epoch - 244ms/step\n",
            "Epoch 18/30\n",
            "36/36 - 9s - loss: 0.4792 - acc: 0.8993 - val_loss: 2.7214 - val_acc: 0.2709 - 9s/epoch - 252ms/step\n",
            "Epoch 19/30\n",
            "36/36 - 8s - loss: 0.4326 - acc: 0.9154 - val_loss: 2.7445 - val_acc: 0.2629 - 8s/epoch - 211ms/step\n",
            "Epoch 20/30\n",
            "36/36 - 8s - loss: 0.4142 - acc: 0.9145 - val_loss: 2.8260 - val_acc: 0.2687 - 8s/epoch - 229ms/step\n",
            "Epoch 21/30\n",
            "36/36 - 8s - loss: 0.3826 - acc: 0.9232 - val_loss: 2.8198 - val_acc: 0.2731 - 8s/epoch - 222ms/step\n",
            "Epoch 22/30\n",
            "36/36 - 8s - loss: 0.3667 - acc: 0.9242 - val_loss: 2.8844 - val_acc: 0.2700 - 8s/epoch - 235ms/step\n",
            "Epoch 23/30\n",
            "36/36 - 9s - loss: 0.3375 - acc: 0.9334 - val_loss: 2.9077 - val_acc: 0.2691 - 9s/epoch - 242ms/step\n",
            "Epoch 24/30\n",
            "36/36 - 7s - loss: 0.3221 - acc: 0.9322 - val_loss: 2.9198 - val_acc: 0.2726 - 7s/epoch - 208ms/step\n",
            "Epoch 25/30\n",
            "36/36 - 8s - loss: 0.3142 - acc: 0.9367 - val_loss: 2.9508 - val_acc: 0.2682 - 8s/epoch - 226ms/step\n",
            "Epoch 26/30\n",
            "36/36 - 8s - loss: 0.3003 - acc: 0.9390 - val_loss: 2.9705 - val_acc: 0.2731 - 8s/epoch - 230ms/step\n",
            "Epoch 27/30\n",
            "36/36 - 7s - loss: 0.2843 - acc: 0.9417 - val_loss: 3.0699 - val_acc: 0.2651 - 7s/epoch - 207ms/step\n",
            "Epoch 28/30\n",
            "36/36 - 8s - loss: 0.2718 - acc: 0.9429 - val_loss: 3.0079 - val_acc: 0.2704 - 8s/epoch - 228ms/step\n",
            "Epoch 29/30\n",
            "36/36 - 7s - loss: 0.2592 - acc: 0.9448 - val_loss: 3.0456 - val_acc: 0.2819 - 7s/epoch - 199ms/step\n",
            "Epoch 30/30\n",
            "36/36 - 9s - loss: 0.2521 - acc: 0.9473 - val_loss: 3.0749 - val_acc: 0.2775 - 9s/epoch - 245ms/step\n",
            "{'loss': 0.2521, 'acc': 0.9473, 'val_loss': 3.0749, 'val_acc': 0.2775}\n"
          ]
        }
      ],
      "source": [
        "X, y = load_and_prep_20newsgroups()\n",
        "model = keras.Sequential([\n",
        "    layers.Embedding(NUM_WORDS, WV_SIZE, input_length=SEQ_LEN),\n",
        "    layers.SimpleRNN(64, dropout=0.5),\n",
        "    layers.Dense(20, activation=\"softmax\")\n",
        "])\n",
        "\n",
        "history = compile_and_fit_model(model, X, y)\n",
        "print(history_final_values(history))"
      ]
    },
    {
      "cell_type": "code",
      "execution_count": null,
      "id": "e74ea2df-b72b-4b91-b569-4d2e763ca8e4",
      "metadata": {
        "colab": {
          "base_uri": "https://localhost:8080/",
          "height": 407
        },
        "id": "e74ea2df-b72b-4b91-b569-4d2e763ca8e4",
        "outputId": "f191c59f-be2f-4ae5-9d5b-83e40d0c2686",
        "tags": []
      },
      "outputs": [
        {
          "data": {
            "image/png": "[encoded data removed]",
            "text/plain": [
              "<Figure size 800x400 with 2 Axes>"
            ]
          },
          "metadata": {},
          "output_type": "display_data"
        }
      ],
      "source": [
        "plot_history(history)"
      ]
    },
    {
      "cell_type": "code",
      "execution_count": null,
      "id": "b7bc9dd0-096d-43e2-b334-df554924d6da",
      "metadata": {
        "colab": {
          "base_uri": "https://localhost:8080/"
        },
        "id": "b7bc9dd0-096d-43e2-b334-df554924d6da",
        "outputId": "b53f8aa5-9778-47e5-c293-2bd04eb43ac9",
        "tags": []
      },
      "outputs": [
        {
          "name": "stdout",
          "output_type": "stream",
          "text": [
            "Model: \"sequential\"\n",
            "_________________________________________________________________\n",
            " Layer (type)                Output Shape              Param #   \n",
            "=================================================================\n",
            " embedding (Embedding)       (None, 100, 96)           480000    \n",
            "                                                                 \n",
            " simple_rnn (SimpleRNN)      (None, 64)                10304     \n",
            "                                                                 \n",
            " dense (Dense)               (None, 20)                1300      \n",
            "                                                                 \n",
            "=================================================================\n",
            "Total params: 491604 (1.88 MB)\n",
            "Trainable params: 491604 (1.88 MB)\n",
            "Non-trainable params: 0 (0.00 Byte)\n",
            "_________________________________________________________________\n"
          ]
        }
      ],
      "source": [
        "model.summary()"
      ]
    },
    {
      "cell_type": "markdown",
      "id": "a71ecd08-08cc-4d41-be3c-c6b770e50dcb",
      "metadata": {
        "id": "a71ecd08-08cc-4d41-be3c-c6b770e50dcb"
      },
      "source": [
        "Note that the `SimpleRNN` layer has output shape `(None, 64)`. `None` refers to the \"variable\" or automatically-detected batch size. `64` is the number of units in the simple RNN layer. The layer has 10,304 parameters, which can be explained by the expression: 10,304 = (64 units + input depth 96 + 1 bias) &times; 64 units."
      ]
    },
    {
      "cell_type": "markdown",
      "id": "2f2ef4c5-f360-45d6-bb10-d5a470a0749b",
      "metadata": {
        "id": "2f2ef4c5-f360-45d6-bb10-d5a470a0749b",
        "tags": []
      },
      "source": [
        "The model is used for making predictions for, or classifying, some simple messages below."
      ]
    },
    {
      "cell_type": "code",
      "execution_count": null,
      "id": "473bbf0a-d8c1-4e6d-89ed-4daac44249b3",
      "metadata": {
        "colab": {
          "base_uri": "https://localhost:8080/"
        },
        "id": "473bbf0a-d8c1-4e6d-89ed-4daac44249b3",
        "outputId": "a8608f9b-d91c-4a28-c2f6-537c02a3194b",
        "tags": []
      },
      "outputs": [
        {
          "name": "stdout",
          "output_type": "stream",
          "text": [
            "i want to buy a computer -> (4, 'comp.sys.mac.hardware')\n",
            "read about romantic stories -> (19, 'talk.religion.misc')\n",
            "watch a boring ball game -> (10, 'rec.sport.hockey')\n"
          ]
        }
      ],
      "source": [
        "for text in [\"i want to buy a computer\",\n",
        "             \"read about romantic stories\",\n",
        "             \"watch a boring ball game\"]:\n",
        "    print(f\"{text} -> {predict_newsgroup(model, text)}\")"
      ]
    },
    {
      "cell_type": "markdown",
      "id": "fa09fb1f-4117-4521-9827-8c89adf0f232",
      "metadata": {
        "id": "fa09fb1f-4117-4521-9827-8c89adf0f232"
      },
      "source": [
        "## Using LSTM\n",
        "\n",
        "This code classifies the 20 newsgroups text dataset using LSTM."
      ]
    },
    {
      "cell_type": "code",
      "execution_count": null,
      "id": "d703df09-96d1-40ab-84d7-e484fdfd3958",
      "metadata": {
        "colab": {
          "base_uri": "https://localhost:8080/"
        },
        "id": "d703df09-96d1-40ab-84d7-e484fdfd3958",
        "outputId": "c2d67988-8292-400c-ae35-0e8f33209f75",
        "tags": []
      },
      "outputs": [
        {
          "name": "stdout",
          "output_type": "stream",
          "text": [
            "Epoch 1/30\n",
            "36/36 - 13s - loss: 2.9849 - acc: 0.0835 - val_loss: 2.9641 - val_acc: 0.0950 - 13s/epoch - 353ms/step\n",
            "Epoch 2/30\n",
            "36/36 - 8s - loss: 2.8237 - acc: 0.1211 - val_loss: 2.6498 - val_acc: 0.1480 - 8s/epoch - 209ms/step\n",
            "Epoch 3/30\n",
            "36/36 - 8s - loss: 2.4667 - acc: 0.1918 - val_loss: 2.3692 - val_acc: 0.1865 - 8s/epoch - 228ms/step\n",
            "Epoch 4/30\n",
            "36/36 - 7s - loss: 2.2286 - acc: 0.2488 - val_loss: 2.2860 - val_acc: 0.2232 - 7s/epoch - 188ms/step\n",
            "Epoch 5/30\n",
            "36/36 - 7s - loss: 2.0808 - acc: 0.2976 - val_loss: 2.1965 - val_acc: 0.2572 - 7s/epoch - 200ms/step\n",
            "Epoch 6/30\n",
            "36/36 - 7s - loss: 1.9552 - acc: 0.3394 - val_loss: 2.1860 - val_acc: 0.2700 - 7s/epoch - 183ms/step\n",
            "Epoch 7/30\n",
            "36/36 - 6s - loss: 1.8394 - acc: 0.3745 - val_loss: 2.0972 - val_acc: 0.2992 - 6s/epoch - 168ms/step\n",
            "Epoch 8/30\n",
            "36/36 - 5s - loss: 1.7098 - acc: 0.4203 - val_loss: 2.0122 - val_acc: 0.3292 - 5s/epoch - 151ms/step\n",
            "Epoch 9/30\n",
            "36/36 - 6s - loss: 1.6050 - acc: 0.4607 - val_loss: 1.9748 - val_acc: 0.3509 - 6s/epoch - 169ms/step\n",
            "Epoch 10/30\n",
            "36/36 - 4s - loss: 1.4866 - acc: 0.4962 - val_loss: 1.8752 - val_acc: 0.3800 - 4s/epoch - 119ms/step\n",
            "Epoch 11/30\n",
            "36/36 - 4s - loss: 1.3802 - acc: 0.5393 - val_loss: 1.8190 - val_acc: 0.3964 - 4s/epoch - 124ms/step\n",
            "Epoch 12/30\n",
            "36/36 - 6s - loss: 1.3049 - acc: 0.5644 - val_loss: 1.8573 - val_acc: 0.4118 - 6s/epoch - 171ms/step\n",
            "Epoch 13/30\n",
            "36/36 - 5s - loss: 1.2541 - acc: 0.5837 - val_loss: 1.7877 - val_acc: 0.4317 - 5s/epoch - 127ms/step\n",
            "Epoch 14/30\n",
            "36/36 - 4s - loss: 1.1439 - acc: 0.6199 - val_loss: 1.8230 - val_acc: 0.4397 - 4s/epoch - 115ms/step\n",
            "Epoch 15/30\n",
            "36/36 - 5s - loss: 1.0725 - acc: 0.6461 - val_loss: 1.7467 - val_acc: 0.4569 - 5s/epoch - 138ms/step\n",
            "Epoch 16/30\n",
            "36/36 - 5s - loss: 1.0066 - acc: 0.6676 - val_loss: 1.7465 - val_acc: 0.4644 - 5s/epoch - 145ms/step\n",
            "Epoch 17/30\n",
            "36/36 - 4s - loss: 0.9405 - acc: 0.6881 - val_loss: 1.7216 - val_acc: 0.4680 - 4s/epoch - 122ms/step\n",
            "Epoch 18/30\n",
            "36/36 - 5s - loss: 0.8904 - acc: 0.7099 - val_loss: 1.7270 - val_acc: 0.4896 - 5s/epoch - 132ms/step\n",
            "Epoch 19/30\n",
            "36/36 - 4s - loss: 0.8468 - acc: 0.7302 - val_loss: 1.7554 - val_acc: 0.4918 - 4s/epoch - 110ms/step\n",
            "Epoch 20/30\n",
            "36/36 - 4s - loss: 0.8055 - acc: 0.7446 - val_loss: 1.7310 - val_acc: 0.4918 - 4s/epoch - 113ms/step\n",
            "Epoch 21/30\n",
            "36/36 - 4s - loss: 0.7699 - acc: 0.7588 - val_loss: 1.7311 - val_acc: 0.4870 - 4s/epoch - 124ms/step\n",
            "Epoch 22/30\n",
            "36/36 - 4s - loss: 0.7402 - acc: 0.7673 - val_loss: 1.7427 - val_acc: 0.5046 - 4s/epoch - 114ms/step\n",
            "Epoch 23/30\n",
            "36/36 - 5s - loss: 0.6937 - acc: 0.7851 - val_loss: 1.7134 - val_acc: 0.5161 - 5s/epoch - 127ms/step\n",
            "Epoch 24/30\n",
            "36/36 - 4s - loss: 0.6411 - acc: 0.8013 - val_loss: 1.7431 - val_acc: 0.5139 - 4s/epoch - 115ms/step\n",
            "Epoch 25/30\n",
            "36/36 - 4s - loss: 0.6164 - acc: 0.8069 - val_loss: 1.8123 - val_acc: 0.5038 - 4s/epoch - 109ms/step\n",
            "Epoch 26/30\n",
            "36/36 - 4s - loss: 0.5830 - acc: 0.8253 - val_loss: 1.7514 - val_acc: 0.5263 - 4s/epoch - 122ms/step\n",
            "Epoch 27/30\n",
            "36/36 - 4s - loss: 0.5388 - acc: 0.8356 - val_loss: 1.7451 - val_acc: 0.5316 - 4s/epoch - 109ms/step\n",
            "Epoch 28/30\n",
            "36/36 - 4s - loss: 0.5214 - acc: 0.8428 - val_loss: 1.7916 - val_acc: 0.5294 - 4s/epoch - 109ms/step\n",
            "Epoch 29/30\n",
            "36/36 - 4s - loss: 0.5133 - acc: 0.8478 - val_loss: 1.8126 - val_acc: 0.5303 - 4s/epoch - 114ms/step\n",
            "Epoch 30/30\n",
            "36/36 - 4s - loss: 0.5088 - acc: 0.8515 - val_loss: 1.8509 - val_acc: 0.5329 - 4s/epoch - 118ms/step\n",
            "{'loss': 0.5088, 'acc': 0.8515, 'val_loss': 1.8509, 'val_acc': 0.5329}\n"
          ]
        }
      ],
      "source": [
        "X, y = load_and_prep_20newsgroups()\n",
        "model = keras.Sequential([\n",
        "    layers.Embedding(NUM_WORDS, WV_SIZE, input_length=SEQ_LEN),\n",
        "    layers.LSTM(64, dropout=0.5),\n",
        "    layers.Dense(20, activation=\"softmax\")\n",
        "])\n",
        "\n",
        "history = compile_and_fit_model(model, X, y)\n",
        "print(history_final_values(history))"
      ]
    },
    {
      "cell_type": "code",
      "execution_count": null,
      "id": "248a96ea-0c38-4464-819e-20e28c83b997",
      "metadata": {
        "colab": {
          "base_uri": "https://localhost:8080/",
          "height": 407
        },
        "id": "248a96ea-0c38-4464-819e-20e28c83b997",
        "outputId": "99d8eaf9-7669-464e-f58e-8508c912f920",
        "tags": []
      },
      "outputs": [
        {
          "data": {
            "image/png": "[encoded data removed]",
            "text/plain": [
              "<Figure size 800x400 with 2 Axes>"
            ]
          },
          "metadata": {},
          "output_type": "display_data"
        }
      ],
      "source": [
        "plot_history(history)"
      ]
    },
    {
      "cell_type": "code",
      "execution_count": null,
      "id": "44228da9-b0af-46ea-af11-e4349c723d61",
      "metadata": {
        "colab": {
          "base_uri": "https://localhost:8080/"
        },
        "id": "44228da9-b0af-46ea-af11-e4349c723d61",
        "outputId": "f4ba3c42-7eeb-48d9-cb8a-dcfff4333309",
        "tags": []
      },
      "outputs": [
        {
          "name": "stdout",
          "output_type": "stream",
          "text": [
            "Model: \"sequential_1\"\n",
            "_________________________________________________________________\n",
            " Layer (type)                Output Shape              Param #   \n",
            "=================================================================\n",
            " embedding_1 (Embedding)     (None, 100, 96)           480000    \n",
            "                                                                 \n",
            " lstm (LSTM)                 (None, 64)                41216     \n",
            "                                                                 \n",
            " dense_1 (Dense)             (None, 20)                1300      \n",
            "                                                                 \n",
            "=================================================================\n",
            "Total params: 522516 (1.99 MB)\n",
            "Trainable params: 522516 (1.99 MB)\n",
            "Non-trainable params: 0 (0.00 Byte)\n",
            "_________________________________________________________________\n"
          ]
        }
      ],
      "source": [
        "model.summary()"
      ]
    },
    {
      "cell_type": "markdown",
      "id": "ead784e8-0e78-4db1-99f9-9a4ecb08970e",
      "metadata": {
        "id": "ead784e8-0e78-4db1-99f9-9a4ecb08970e"
      },
      "source": [
        "Note that the LSTM layer has output shape `(None, 64)`. `None` refers to the \"variable\" or automatically-detected batch size. `64` is the number of units in the LSTM layer. The layer has 41,216 parameters, which can be explained by the expression: 41,216 = 4 &times; (64 units + input depth 96 + 1 bias) &times; 64 units."
      ]
    },
    {
      "cell_type": "markdown",
      "id": "7233c5ef-502c-4be8-befc-a8eb283e7ab2",
      "metadata": {
        "id": "7233c5ef-502c-4be8-befc-a8eb283e7ab2"
      },
      "source": [
        "# Practice - Question 1 of 3\n",
        "\n",
        "## Using GRU"
      ]
    },
    {
      "cell_type": "markdown",
      "id": "406df97b-bcd8-4a54-9229-016aaa71c6ac",
      "metadata": {
        "id": "406df97b-bcd8-4a54-9229-016aaa71c6ac"
      },
      "source": [
        "## Q1a\n",
        "\n",
        "Modify the above LSTM model to use GRU instead. Plot the training history and show the model summary."
      ]
    },
    {
      "cell_type": "code",
      "execution_count": 13,
      "id": "69ac8009-6a8c-4b21-89b0-a5675876dd07",
      "metadata": {
        "colab": {
          "base_uri": "https://localhost:8080/"
        },
        "id": "69ac8009-6a8c-4b21-89b0-a5675876dd07",
        "outputId": "ad9e3fec-f9dd-4d89-b0ad-1694c1ddf92f",
        "tags": []
      },
      "outputs": [
        {
          "name": "stdout",
          "output_type": "stream",
          "text": [
            "Epoch 1/30\n",
            "36/36 - 17s - loss: 2.9885 - acc: 0.0823 - val_loss: 2.9792 - val_acc: 0.1100 - 17s/epoch - 463ms/step\n",
            "Epoch 2/30\n",
            "36/36 - 8s - loss: 2.9422 - acc: 0.1421 - val_loss: 2.8916 - val_acc: 0.1175 - 8s/epoch - 223ms/step\n",
            "Epoch 3/30\n",
            "36/36 - 8s - loss: 2.7438 - acc: 0.1746 - val_loss: 2.6512 - val_acc: 0.1467 - 8s/epoch - 223ms/step\n",
            "Epoch 4/30\n",
            "36/36 - 7s - loss: 2.4600 - acc: 0.2278 - val_loss: 2.4831 - val_acc: 0.2165 - 7s/epoch - 188ms/step\n",
            "Epoch 5/30\n",
            "36/36 - 8s - loss: 2.2477 - acc: 0.2985 - val_loss: 2.3245 - val_acc: 0.2298 - 8s/epoch - 222ms/step\n",
            "Epoch 6/30\n",
            "36/36 - 9s - loss: 2.0110 - acc: 0.3475 - val_loss: 2.2024 - val_acc: 0.2647 - 9s/epoch - 242ms/step\n",
            "Epoch 7/30\n",
            "36/36 - 9s - loss: 1.8129 - acc: 0.4212 - val_loss: 2.1059 - val_acc: 0.2952 - 9s/epoch - 247ms/step\n",
            "Epoch 8/30\n",
            "36/36 - 7s - loss: 1.6522 - acc: 0.4766 - val_loss: 2.0568 - val_acc: 0.3288 - 7s/epoch - 192ms/step\n",
            "Epoch 9/30\n",
            "36/36 - 7s - loss: 1.5323 - acc: 0.5123 - val_loss: 2.1033 - val_acc: 0.3252 - 7s/epoch - 196ms/step\n",
            "Epoch 10/30\n",
            "36/36 - 5s - loss: 1.4231 - acc: 0.5531 - val_loss: 2.0521 - val_acc: 0.3482 - 5s/epoch - 133ms/step\n",
            "Epoch 11/30\n",
            "36/36 - 6s - loss: 1.3217 - acc: 0.5889 - val_loss: 2.0483 - val_acc: 0.3579 - 6s/epoch - 164ms/step\n",
            "Epoch 12/30\n",
            "36/36 - 7s - loss: 1.2485 - acc: 0.6091 - val_loss: 2.0438 - val_acc: 0.3624 - 7s/epoch - 199ms/step\n",
            "Epoch 13/30\n",
            "36/36 - 5s - loss: 1.1588 - acc: 0.6396 - val_loss: 2.0322 - val_acc: 0.3805 - 5s/epoch - 146ms/step\n",
            "Epoch 14/30\n",
            "36/36 - 4s - loss: 1.0850 - acc: 0.6617 - val_loss: 2.0460 - val_acc: 0.3867 - 4s/epoch - 111ms/step\n",
            "Epoch 15/30\n",
            "36/36 - 5s - loss: 1.0298 - acc: 0.6756 - val_loss: 2.0465 - val_acc: 0.3849 - 5s/epoch - 148ms/step\n",
            "Epoch 16/30\n",
            "36/36 - 6s - loss: 0.9828 - acc: 0.6946 - val_loss: 2.0591 - val_acc: 0.3920 - 6s/epoch - 177ms/step\n",
            "Epoch 17/30\n",
            "36/36 - 5s - loss: 0.9176 - acc: 0.7220 - val_loss: 2.0747 - val_acc: 0.4057 - 5s/epoch - 126ms/step\n",
            "Epoch 18/30\n",
            "36/36 - 6s - loss: 0.8585 - acc: 0.7431 - val_loss: 2.1253 - val_acc: 0.4141 - 6s/epoch - 159ms/step\n",
            "Epoch 19/30\n",
            "36/36 - 4s - loss: 0.8218 - acc: 0.7486 - val_loss: 2.1004 - val_acc: 0.4171 - 4s/epoch - 112ms/step\n",
            "Epoch 20/30\n",
            "36/36 - 4s - loss: 0.7635 - acc: 0.7732 - val_loss: 2.1240 - val_acc: 0.4233 - 4s/epoch - 117ms/step\n",
            "Epoch 21/30\n",
            "36/36 - 5s - loss: 0.7225 - acc: 0.7826 - val_loss: 2.1672 - val_acc: 0.4251 - 5s/epoch - 138ms/step\n",
            "Epoch 22/30\n",
            "36/36 - 4s - loss: 0.6931 - acc: 0.7927 - val_loss: 2.1848 - val_acc: 0.4242 - 4s/epoch - 119ms/step\n",
            "Epoch 23/30\n",
            "36/36 - 5s - loss: 0.6648 - acc: 0.8020 - val_loss: 2.1912 - val_acc: 0.4370 - 5s/epoch - 131ms/step\n",
            "Epoch 24/30\n",
            "36/36 - 4s - loss: 0.6188 - acc: 0.8185 - val_loss: 2.1465 - val_acc: 0.4432 - 4s/epoch - 119ms/step\n",
            "Epoch 25/30\n",
            "36/36 - 4s - loss: 0.5826 - acc: 0.8308 - val_loss: 2.2194 - val_acc: 0.4428 - 4s/epoch - 112ms/step\n",
            "Epoch 26/30\n",
            "36/36 - 5s - loss: 0.5753 - acc: 0.8303 - val_loss: 2.2274 - val_acc: 0.4490 - 5s/epoch - 126ms/step\n",
            "Epoch 27/30\n",
            "36/36 - 4s - loss: 0.5531 - acc: 0.8333 - val_loss: 2.1915 - val_acc: 0.4591 - 4s/epoch - 113ms/step\n",
            "Epoch 28/30\n",
            "36/36 - 5s - loss: 0.5228 - acc: 0.8484 - val_loss: 2.2490 - val_acc: 0.4551 - 5s/epoch - 133ms/step\n",
            "Epoch 29/30\n",
            "36/36 - 4s - loss: 0.4942 - acc: 0.8577 - val_loss: 2.2572 - val_acc: 0.4644 - 4s/epoch - 123ms/step\n",
            "Epoch 30/30\n",
            "36/36 - 5s - loss: 0.4793 - acc: 0.8622 - val_loss: 2.2853 - val_acc: 0.4609 - 5s/epoch - 128ms/step\n",
            "{'loss': 0.4793, 'acc': 0.8622, 'val_loss': 2.2853, 'val_acc': 0.4609}\n"
          ]
        }
      ],
      "source": [
        "X, y = load_and_prep_20newsgroups()\n",
        "model = keras.Sequential([\n",
        "    layers.Embedding(NUM_WORDS, WV_SIZE, input_length=SEQ_LEN),\n",
        "    layers.GRU(64, dropout=0.5),#Use GRU layer instack of LSTM\n",
        "    layers.Dense(20, activation=\"softmax\")\n",
        "])\n",
        "\n",
        "history = compile_and_fit_model(model, X, y)\n",
        "print(history_final_values(history))"
      ]
    },
    {
      "cell_type": "code",
      "execution_count": 14,
      "id": "be1228b7-4efa-4b44-8ced-5735d1a7307f",
      "metadata": {
        "colab": {
          "base_uri": "https://localhost:8080/",
          "height": 406
        },
        "id": "be1228b7-4efa-4b44-8ced-5735d1a7307f",
        "outputId": "961fe2c9-0987-4858-98e6-6c8f820f5a72",
        "tags": []
      },
      "outputs": [
        {
          "data": {
            "image/png": "[encoded data removed]",
            "text/plain": [
              "<Figure size 800x400 with 2 Axes>"
            ]
          },
          "metadata": {},
          "output_type": "display_data"
        }
      ],
      "source": [
        "plot_history(history)"
      ]
    },
    {
      "cell_type": "code",
      "execution_count": 15,
      "id": "8c0df3bf-4f2f-4b47-8c68-b15d778e4cf3",
      "metadata": {
        "colab": {
          "base_uri": "https://localhost:8080/"
        },
        "id": "8c0df3bf-4f2f-4b47-8c68-b15d778e4cf3",
        "outputId": "b8825946-fe0e-4fee-c055-e072c3f6ca39",
        "tags": []
      },
      "outputs": [
        {
          "name": "stdout",
          "output_type": "stream",
          "text": [
            "Model: \"sequential_1\"\n",
            "_________________________________________________________________\n",
            " Layer (type)                Output Shape              Param #   \n",
            "=================================================================\n",
            " embedding_1 (Embedding)     (None, 100, 96)           480000    \n",
            "                                                                 \n",
            " gru (GRU)                   (None, 64)                31104     \n",
            "                                                                 \n",
            " dense_1 (Dense)             (None, 20)                1300      \n",
            "                                                                 \n",
            "=================================================================\n",
            "Total params: 512404 (1.95 MB)\n",
            "Trainable params: 512404 (1.95 MB)\n",
            "Non-trainable params: 0 (0.00 Byte)\n",
            "_________________________________________________________________\n"
          ]
        }
      ],
      "source": [
        "model.summary()"
      ]
    },
    {
      "cell_type": "markdown",
      "id": "311622b8-23f5-4a56-ac23-a4e1ac524c85",
      "metadata": {
        "id": "311622b8-23f5-4a56-ac23-a4e1ac524c85"
      },
      "source": [
        "## Q1b\n",
        "\n",
        "What is the output shape of the GRU layer in this model? Explain the numbers (i.e. dimensions) in the output shape.\n",
        "\n",
        "What is the number of parameters of the GRU layer in this model? Explain the number by writing an expression for calculating it, and describing the key terms in the expression.\n",
        "\n",
        "Write your answer in a text cell below."
      ]
    },
    {
      "cell_type": "markdown",
      "id": "85b0eff7-5903-4980-b21b-19ff3698d14d",
      "metadata": {
        "id": "85b0eff7-5903-4980-b21b-19ff3698d14d"
      },
      "source": [
        "Solution:\n",
        "\n",
        "\n",
        "<div class='alert alert-warning' role='alert'><b>\n",
        "\n",
        "The output shape of the GRU layer is (None, 64). The output of the GRU layer has the same batch size as the input (represented by None), and 64 is the number of output features or dimensions.And 3 dimension .\n",
        "\n",
        "num_params = 3x(64 +96 + 1)= 31104\n",
        "\n",
        "Therefore, the number of parameters in the GRU layer is 31104.</b></div>\n"
      ]
    },
    {
      "cell_type": "markdown",
      "id": "6a17f6c9-3144-43c4-b073-e8020596f8d1",
      "metadata": {
        "id": "6a17f6c9-3144-43c4-b073-e8020596f8d1"
      },
      "source": [
        "## &#x2766;"
      ]
    },
    {
      "cell_type": "markdown",
      "id": "61c03ca2-8c0d-4c6f-b970-099de3a0976b",
      "metadata": {
        "id": "61c03ca2-8c0d-4c6f-b970-099de3a0976b"
      },
      "source": [
        "# Practice - Question 2 of 3\n",
        "\n",
        "## Using stacked RNN"
      ]
    },
    {
      "cell_type": "markdown",
      "id": "efdd7e07-c82a-48b6-abdf-96c84241a6cb",
      "metadata": {
        "id": "efdd7e07-c82a-48b6-abdf-96c84241a6cb"
      },
      "source": [
        "## Q2a\n",
        "\n",
        "Modify the above LSTM model to use a stack of 2 LSTM layers instead of 1 LSTM layer. Plot the training history and show the model summary. (Hint: Remember to specify the argument `return_sequences=True` in the first LSTM layer.)"
      ]
    },
    {
      "cell_type": "code",
      "execution_count": 36,
      "id": "217c16fa-3ae3-457b-a475-8763b19bd7f1",
      "metadata": {
        "colab": {
          "base_uri": "https://localhost:8080/"
        },
        "id": "217c16fa-3ae3-457b-a475-8763b19bd7f1",
        "outputId": "6ca888ee-71c6-4886-da4a-1d63cedfecc8",
        "tags": []
      },
      "outputs": [
        {
          "name": "stdout",
          "output_type": "stream",
          "text": [
            "Epoch 1/30\n",
            "36/36 - 14s - loss: 2.9694 - acc: 0.0792 - val_loss: 2.8484 - val_acc: 0.0999 - 14s/epoch - 399ms/step\n",
            "Epoch 2/30\n",
            "36/36 - 8s - loss: 2.6634 - acc: 0.1236 - val_loss: 2.5774 - val_acc: 0.1352 - 8s/epoch - 215ms/step\n",
            "Epoch 3/30\n",
            "36/36 - 10s - loss: 2.3880 - acc: 0.1777 - val_loss: 2.3820 - val_acc: 0.1838 - 10s/epoch - 264ms/step\n",
            "Epoch 4/30\n",
            "36/36 - 8s - loss: 2.1569 - acc: 0.2354 - val_loss: 2.1946 - val_acc: 0.2510 - 8s/epoch - 211ms/step\n",
            "Epoch 5/30\n",
            "36/36 - 8s - loss: 1.9626 - acc: 0.3062 - val_loss: 2.1357 - val_acc: 0.2713 - 8s/epoch - 214ms/step\n",
            "Epoch 6/30\n",
            "36/36 - 8s - loss: 1.8340 - acc: 0.3506 - val_loss: 2.0255 - val_acc: 0.3018 - 8s/epoch - 228ms/step\n",
            "Epoch 7/30\n",
            "36/36 - 6s - loss: 1.7153 - acc: 0.3928 - val_loss: 1.9845 - val_acc: 0.3288 - 6s/epoch - 176ms/step\n",
            "Epoch 8/30\n",
            "36/36 - 6s - loss: 1.6018 - acc: 0.4443 - val_loss: 1.9864 - val_acc: 0.3363 - 6s/epoch - 157ms/step\n",
            "Epoch 9/30\n",
            "36/36 - 6s - loss: 1.5422 - acc: 0.4578 - val_loss: 2.0190 - val_acc: 0.3433 - 6s/epoch - 168ms/step\n",
            "Epoch 10/30\n",
            "36/36 - 4s - loss: 1.4796 - acc: 0.4753 - val_loss: 1.9202 - val_acc: 0.3743 - 4s/epoch - 122ms/step\n",
            "Epoch 11/30\n",
            "36/36 - 5s - loss: 1.3652 - acc: 0.5188 - val_loss: 1.9578 - val_acc: 0.3756 - 5s/epoch - 126ms/step\n",
            "Epoch 12/30\n",
            "36/36 - 6s - loss: 1.3007 - acc: 0.5489 - val_loss: 1.9176 - val_acc: 0.3915 - 6s/epoch - 169ms/step\n",
            "Epoch 13/30\n",
            "36/36 - 5s - loss: 1.2188 - acc: 0.5756 - val_loss: 1.9046 - val_acc: 0.4065 - 5s/epoch - 130ms/step\n",
            "Epoch 14/30\n",
            "36/36 - 4s - loss: 1.1521 - acc: 0.5964 - val_loss: 1.9193 - val_acc: 0.4092 - 4s/epoch - 119ms/step\n",
            "Epoch 15/30\n",
            "36/36 - 5s - loss: 1.0972 - acc: 0.6134 - val_loss: 1.9117 - val_acc: 0.4251 - 5s/epoch - 135ms/step\n",
            "Epoch 16/30\n",
            "36/36 - 6s - loss: 1.0531 - acc: 0.6316 - val_loss: 1.9596 - val_acc: 0.4286 - 6s/epoch - 153ms/step\n",
            "Epoch 17/30\n",
            "36/36 - 5s - loss: 1.0291 - acc: 0.6363 - val_loss: 1.9172 - val_acc: 0.4463 - 5s/epoch - 126ms/step\n",
            "Epoch 18/30\n",
            "36/36 - 6s - loss: 0.9762 - acc: 0.6617 - val_loss: 1.9147 - val_acc: 0.4534 - 6s/epoch - 163ms/step\n",
            "Epoch 19/30\n",
            "36/36 - 4s - loss: 0.9346 - acc: 0.6764 - val_loss: 1.9360 - val_acc: 0.4666 - 4s/epoch - 120ms/step\n",
            "Epoch 20/30\n",
            "36/36 - 4s - loss: 0.9056 - acc: 0.6885 - val_loss: 1.9111 - val_acc: 0.4728 - 4s/epoch - 113ms/step\n",
            "Epoch 21/30\n",
            "36/36 - 5s - loss: 0.9508 - acc: 0.6682 - val_loss: 1.9236 - val_acc: 0.4680 - 5s/epoch - 127ms/step\n",
            "Epoch 22/30\n",
            "36/36 - 4s - loss: 0.8559 - acc: 0.7085 - val_loss: 1.8810 - val_acc: 0.4896 - 4s/epoch - 122ms/step\n",
            "Epoch 23/30\n",
            "36/36 - 4s - loss: 0.8383 - acc: 0.7159 - val_loss: 1.8756 - val_acc: 0.4918 - 4s/epoch - 122ms/step\n",
            "Epoch 24/30\n",
            "36/36 - 4s - loss: 0.7808 - acc: 0.7417 - val_loss: 1.9141 - val_acc: 0.4958 - 4s/epoch - 124ms/step\n",
            "Epoch 25/30\n",
            "36/36 - 4s - loss: 0.7514 - acc: 0.7514 - val_loss: 1.8913 - val_acc: 0.5015 - 4s/epoch - 114ms/step\n",
            "Epoch 26/30\n",
            "36/36 - 4s - loss: 0.7296 - acc: 0.7554 - val_loss: 1.9400 - val_acc: 0.5033 - 4s/epoch - 118ms/step\n",
            "Epoch 27/30\n",
            "36/36 - 4s - loss: 0.6947 - acc: 0.7691 - val_loss: 1.9102 - val_acc: 0.5073 - 4s/epoch - 118ms/step\n",
            "Epoch 28/30\n",
            "36/36 - 4s - loss: 0.6665 - acc: 0.7809 - val_loss: 1.9775 - val_acc: 0.5024 - 4s/epoch - 114ms/step\n",
            "Epoch 29/30\n",
            "36/36 - 4s - loss: 0.6796 - acc: 0.7756 - val_loss: 1.9163 - val_acc: 0.5038 - 4s/epoch - 114ms/step\n",
            "Epoch 30/30\n",
            "36/36 - 5s - loss: 0.6639 - acc: 0.7819 - val_loss: 1.9873 - val_acc: 0.5130 - 5s/epoch - 126ms/step\n",
            "{'loss': 0.6639, 'acc': 0.7819, 'val_loss': 1.9873, 'val_acc': 0.513}\n"
          ]
        }
      ],
      "source": [
        "X, y = load_and_prep_20newsgroups()\n",
        "model = keras.Sequential([\n",
        "    layers.Embedding(NUM_WORDS, WV_SIZE, input_length=SEQ_LEN),\n",
        "    layers.LSTM(64, dropout=0.5, return_sequences=True),#USe\n",
        "    layers.LSTM(64, dropout=0.5) ,\n",
        "    layers.Dense(20, activation=\"softmax\")\n",
        "])\n",
        "\n",
        "history = compile_and_fit_model(model, X, y)\n",
        "print(history_final_values(history))"
      ]
    },
    {
      "cell_type": "code",
      "execution_count": 37,
      "id": "a5d11d11-64ba-4a67-8790-4cdf9d5b8f4d",
      "metadata": {
        "colab": {
          "base_uri": "https://localhost:8080/",
          "height": 407
        },
        "id": "a5d11d11-64ba-4a67-8790-4cdf9d5b8f4d",
        "outputId": "919fe4ab-8573-4846-ddc7-6f6f6f5aeb04",
        "tags": []
      },
      "outputs": [
        {
          "data": {
            "image/png": "[encoded data removed]",
            "text/plain": [
              "<Figure size 800x400 with 2 Axes>"
            ]
          },
          "metadata": {},
          "output_type": "display_data"
        }
      ],
      "source": [
        "plot_history(history)"
      ]
    },
    {
      "cell_type": "code",
      "execution_count": 35,
      "id": "83b33d35-f35b-4790-a3a5-a2cd8c296702",
      "metadata": {
        "colab": {
          "base_uri": "https://localhost:8080/"
        },
        "id": "83b33d35-f35b-4790-a3a5-a2cd8c296702",
        "outputId": "1a79bdcc-05c9-4b4d-a2ed-3da648b519f5",
        "tags": []
      },
      "outputs": [
        {
          "name": "stdout",
          "output_type": "stream",
          "text": [
            "Model: \"sequential_10\"\n",
            "_________________________________________________________________\n",
            " Layer (type)                Output Shape              Param #   \n",
            "=================================================================\n",
            " embedding_11 (Embedding)    (None, 100, 96)           480000    \n",
            "                                                                 \n",
            " lstm_9 (LSTM)               (None, 100, 64)           41216     \n",
            "                                                                 \n",
            " lstm_10 (LSTM)              (None, 64)                33024     \n",
            "                                                                 \n",
            " dense_10 (Dense)            (None, 20)                1300      \n",
            "                                                                 \n",
            "=================================================================\n",
            "Total params: 555540 (2.12 MB)\n",
            "Trainable params: 555540 (2.12 MB)\n",
            "Non-trainable params: 0 (0.00 Byte)\n",
            "_________________________________________________________________\n"
          ]
        }
      ],
      "source": [
        "model.summary()"
      ]
    },
    {
      "cell_type": "markdown",
      "id": "ebae0be7-1797-4f0d-b1ff-331b2ff16ab4",
      "metadata": {
        "id": "ebae0be7-1797-4f0d-b1ff-331b2ff16ab4"
      },
      "source": [
        "## Q2b\n",
        "\n",
        "What is the output shape of the first LSTM layer in this model? Explain the numbers (i.e. dimensions) in the output shape.\n",
        "\n",
        "What is the number of parameters of the first LSTM layer in this model? Explain the number by writing an expression for calculating it, and describing the key terms in the expression.\n",
        "\n",
        "Write your answer in a text cell below."
      ]
    },
    {
      "cell_type": "markdown",
      "id": "b4ca3994-1a6f-46e8-b8be-b98f13aa9b6e",
      "metadata": {
        "id": "b4ca3994-1a6f-46e8-b8be-b98f13aa9b6e"
      },
      "source": [
        "Solution:\n",
        "\n",
        "\n",
        "<div class='alert alert-warning' role='alert'><b>\n",
        "\n",
        "the LSTM layer has output shape (None, 64). None refers to the \"variable\" or automatically-detected batch size. 64 is the number of units in the LSTM layer. The layer has 41,216 parameters, which can be explained by the expression: 41,216 = 4 × (64 units + input depth 96 + 1 bias) × 64 units.\n",
        "\n",
        "Therefore, the number of parameters in the first LSTM layer is 41216.</b></div>\n"
      ]
    },
    {
      "cell_type": "markdown",
      "id": "45f28c4e-f7b1-416c-a857-02f438e13660",
      "metadata": {
        "id": "45f28c4e-f7b1-416c-a857-02f438e13660"
      },
      "source": [
        "## &#x2766;"
      ]
    },
    {
      "cell_type": "markdown",
      "id": "9a766a4e-71ba-4a2c-b0cd-e897e9efdf0c",
      "metadata": {
        "id": "9a766a4e-71ba-4a2c-b0cd-e897e9efdf0c"
      },
      "source": [
        "# Practice - Question 3 of 3\n",
        "\n",
        "## Using bidirectional RNN"
      ]
    },
    {
      "cell_type": "markdown",
      "id": "ebbf3896-0c8e-4c14-bf35-cf1f5b91a949",
      "metadata": {
        "id": "ebbf3896-0c8e-4c14-bf35-cf1f5b91a949"
      },
      "source": [
        "## Q3a\n",
        "\n",
        "Modify the above LSTM model (with 1 LSTM layer) to use a bidirectional LSTM layer. Plot the training history and show the model summary. (Hint: Use `layers.Bidirectional(layers.LSTM(...))`.)"
      ]
    },
    {
      "cell_type": "code",
      "execution_count": 21,
      "id": "c10fa06b-9054-464e-a3ae-1497817ae802",
      "metadata": {
        "colab": {
          "base_uri": "https://localhost:8080/"
        },
        "id": "c10fa06b-9054-464e-a3ae-1497817ae802",
        "outputId": "96a14fec-ff41-44b7-cb99-223452e82c76",
        "tags": []
      },
      "outputs": [
        {
          "name": "stdout",
          "output_type": "stream",
          "text": [
            "Epoch 1/30\n",
            "36/36 - 15s - loss: 2.9800 - acc: 0.0780 - val_loss: 2.9495 - val_acc: 0.0937 - 15s/epoch - 404ms/step\n",
            "Epoch 2/30\n",
            "36/36 - 7s - loss: 2.8111 - acc: 0.1201 - val_loss: 2.6217 - val_acc: 0.1578 - 7s/epoch - 198ms/step\n",
            "Epoch 3/30\n",
            "36/36 - 8s - loss: 2.5135 - acc: 0.1912 - val_loss: 2.4379 - val_acc: 0.2028 - 8s/epoch - 225ms/step\n",
            "Epoch 4/30\n",
            "36/36 - 7s - loss: 2.2698 - acc: 0.2393 - val_loss: 2.2853 - val_acc: 0.2324 - 7s/epoch - 196ms/step\n",
            "Epoch 5/30\n",
            "36/36 - 7s - loss: 2.0639 - acc: 0.3009 - val_loss: 2.1175 - val_acc: 0.2775 - 7s/epoch - 194ms/step\n",
            "Epoch 6/30\n",
            "36/36 - 7s - loss: 1.8558 - acc: 0.3663 - val_loss: 2.0120 - val_acc: 0.3195 - 7s/epoch - 198ms/step\n",
            "Epoch 7/30\n",
            "36/36 - 6s - loss: 1.7405 - acc: 0.4028 - val_loss: 1.9806 - val_acc: 0.3425 - 6s/epoch - 158ms/step\n",
            "Epoch 8/30\n",
            "36/36 - 6s - loss: 1.6115 - acc: 0.4466 - val_loss: 1.8806 - val_acc: 0.3743 - 6s/epoch - 162ms/step\n",
            "Epoch 9/30\n",
            "36/36 - 6s - loss: 1.4961 - acc: 0.4832 - val_loss: 1.8304 - val_acc: 0.3862 - 6s/epoch - 158ms/step\n",
            "Epoch 10/30\n",
            "36/36 - 5s - loss: 1.4019 - acc: 0.5227 - val_loss: 1.8281 - val_acc: 0.4065 - 5s/epoch - 126ms/step\n",
            "Epoch 11/30\n",
            "36/36 - 5s - loss: 1.3247 - acc: 0.5466 - val_loss: 1.7885 - val_acc: 0.4202 - 5s/epoch - 135ms/step\n",
            "Epoch 12/30\n",
            "36/36 - 6s - loss: 1.2240 - acc: 0.5907 - val_loss: 1.7641 - val_acc: 0.4485 - 6s/epoch - 158ms/step\n",
            "Epoch 13/30\n",
            "36/36 - 5s - loss: 1.1741 - acc: 0.5993 - val_loss: 1.7960 - val_acc: 0.4353 - 5s/epoch - 139ms/step\n",
            "Epoch 14/30\n",
            "36/36 - 4s - loss: 1.0856 - acc: 0.6397 - val_loss: 1.7553 - val_acc: 0.4680 - 4s/epoch - 113ms/step\n",
            "Epoch 15/30\n",
            "36/36 - 5s - loss: 1.0392 - acc: 0.6513 - val_loss: 1.8074 - val_acc: 0.4591 - 5s/epoch - 139ms/step\n",
            "Epoch 16/30\n",
            "36/36 - 6s - loss: 0.9783 - acc: 0.6768 - val_loss: 1.8158 - val_acc: 0.4609 - 6s/epoch - 167ms/step\n",
            "Epoch 17/30\n",
            "36/36 - 5s - loss: 0.9216 - acc: 0.6938 - val_loss: 1.7863 - val_acc: 0.4706 - 5s/epoch - 132ms/step\n",
            "Epoch 18/30\n",
            "36/36 - 5s - loss: 0.8731 - acc: 0.7132 - val_loss: 1.7635 - val_acc: 0.4812 - 5s/epoch - 136ms/step\n",
            "Epoch 19/30\n",
            "36/36 - 4s - loss: 0.8150 - acc: 0.7354 - val_loss: 1.9251 - val_acc: 0.4892 - 4s/epoch - 113ms/step\n",
            "Epoch 20/30\n",
            "36/36 - 4s - loss: 0.8122 - acc: 0.7400 - val_loss: 1.8111 - val_acc: 0.4878 - 4s/epoch - 118ms/step\n",
            "Epoch 21/30\n",
            "36/36 - 5s - loss: 0.7821 - acc: 0.7468 - val_loss: 1.8010 - val_acc: 0.4971 - 5s/epoch - 128ms/step\n",
            "Epoch 22/30\n",
            "36/36 - 4s - loss: 0.7233 - acc: 0.7662 - val_loss: 1.8481 - val_acc: 0.4976 - 4s/epoch - 119ms/step\n",
            "Epoch 23/30\n",
            "36/36 - 5s - loss: 0.7190 - acc: 0.7683 - val_loss: 1.8635 - val_acc: 0.4998 - 5s/epoch - 128ms/step\n",
            "Epoch 24/30\n",
            "36/36 - 4s - loss: 0.6741 - acc: 0.7815 - val_loss: 1.8700 - val_acc: 0.5038 - 4s/epoch - 118ms/step\n",
            "Epoch 25/30\n",
            "36/36 - 4s - loss: 0.6474 - acc: 0.7894 - val_loss: 1.9248 - val_acc: 0.5011 - 4s/epoch - 117ms/step\n",
            "Epoch 26/30\n",
            "36/36 - 4s - loss: 0.6206 - acc: 0.8057 - val_loss: 1.8961 - val_acc: 0.5007 - 4s/epoch - 122ms/step\n",
            "Epoch 27/30\n",
            "36/36 - 4s - loss: 0.6104 - acc: 0.8071 - val_loss: 1.8569 - val_acc: 0.5113 - 4s/epoch - 115ms/step\n",
            "Epoch 28/30\n",
            "36/36 - 4s - loss: 0.5841 - acc: 0.8150 - val_loss: 1.9069 - val_acc: 0.5188 - 4s/epoch - 118ms/step\n",
            "Epoch 29/30\n",
            "36/36 - 4s - loss: 0.5470 - acc: 0.8281 - val_loss: 1.8663 - val_acc: 0.5210 - 4s/epoch - 120ms/step\n",
            "Epoch 30/30\n",
            "36/36 - 5s - loss: 0.5428 - acc: 0.8329 - val_loss: 1.9293 - val_acc: 0.5201 - 5s/epoch - 138ms/step\n",
            "{'loss': 0.5428, 'acc': 0.8329, 'val_loss': 1.9293, 'val_acc': 0.5201}\n"
          ]
        }
      ],
      "source": [
        "X, y = load_and_prep_20newsgroups()\n",
        "model = keras.Sequential([\n",
        "    layers.Embedding(NUM_WORDS, WV_SIZE, input_length=SEQ_LEN),\n",
        "    layers.Bidirectional(layers.LSTM(64, dropout=0.5)),\n",
        "    layers.Dense(20, activation=\"softmax\")\n",
        "])\n",
        "\n",
        "history = compile_and_fit_model(model, X, y)\n",
        "print(history_final_values(history))\n"
      ]
    },
    {
      "cell_type": "code",
      "execution_count": 22,
      "id": "cdfc0269-e2d1-4c29-a6f7-e79118044a43",
      "metadata": {
        "colab": {
          "base_uri": "https://localhost:8080/",
          "height": 407
        },
        "id": "cdfc0269-e2d1-4c29-a6f7-e79118044a43",
        "outputId": "35c9fbdb-b5a5-4388-9ace-2496a3b75466",
        "tags": []
      },
      "outputs": [
        {
          "data": {
            "image/png": "[encoded data removed]",
            "text/plain": [
              "<Figure size 800x400 with 2 Axes>"
            ]
          },
          "metadata": {},
          "output_type": "display_data"
        }
      ],
      "source": [
        "plot_history(history)"
      ]
    },
    {
      "cell_type": "code",
      "execution_count": 23,
      "id": "50bd0e3c-b9fb-4837-aeea-0dea4b765b81",
      "metadata": {
        "colab": {
          "base_uri": "https://localhost:8080/"
        },
        "id": "50bd0e3c-b9fb-4837-aeea-0dea4b765b81",
        "outputId": "8d8815e6-8dea-4f5d-8291-c24ffd957cea",
        "tags": []
      },
      "outputs": [
        {
          "name": "stdout",
          "output_type": "stream",
          "text": [
            "Model: \"sequential_5\"\n",
            "_________________________________________________________________\n",
            " Layer (type)                Output Shape              Param #   \n",
            "=================================================================\n",
            " embedding_5 (Embedding)     (None, 100, 96)           480000    \n",
            "                                                                 \n",
            " bidirectional (Bidirection  (None, 128)               82432     \n",
            " al)                                                             \n",
            "                                                                 \n",
            " dense_5 (Dense)             (None, 20)                2580      \n",
            "                                                                 \n",
            "=================================================================\n",
            "Total params: 565012 (2.16 MB)\n",
            "Trainable params: 565012 (2.16 MB)\n",
            "Non-trainable params: 0 (0.00 Byte)\n",
            "_________________________________________________________________\n"
          ]
        }
      ],
      "source": [
        "model.summary()"
      ]
    },
    {
      "cell_type": "markdown",
      "id": "309dd529-af0c-4c1f-b5d3-f5d59284cf7a",
      "metadata": {
        "id": "309dd529-af0c-4c1f-b5d3-f5d59284cf7a"
      },
      "source": [
        "## Q3b\n",
        "\n",
        "What is the output shape of the bidirectional layer in this model? Explain the numbers (i.e. dimensions) in the output shape.\n",
        "\n",
        "What is the number of parameters of the bidirectional layer in this model? Explain the number by writing an expression for calculating it, and describing the key terms in the expression.\n",
        "\n",
        "Write your answer in a text cell below."
      ]
    },
    {
      "cell_type": "markdown",
      "id": "fa50dde3-332b-48a2-82c4-097ed66d8e6c",
      "metadata": {
        "id": "fa50dde3-332b-48a2-82c4-097ed66d8e6c"
      },
      "source": [
        "Solution:\n",
        "\n",
        "\n",
        "<div class='alert alert-warning' role='alert'><b>\n",
        "the bidirectional layer has output shape (None, 128). None refers to the \"variable\" or automatically-detected batch size. 64 is the number of units in the bidirectional layer. The layer has 82432 parameters, which can be explained by the expression: 41,216 = 4 × (64 units + input depth 96 + 1 bias) × 128 units.</b></div>\n"
      ]
    },
    {
      "cell_type": "markdown",
      "id": "a24d4296-2410-4d52-80cf-47a390eae6e2",
      "metadata": {
        "id": "a24d4296-2410-4d52-80cf-47a390eae6e2"
      },
      "source": [
        "## Q3c\n",
        "\n",
        "A template table is provided below."
      ]
    },
    {
      "cell_type": "markdown",
      "id": "c4351b36-94dc-409e-b75e-7199bfa19c23",
      "metadata": {
        "id": "c4351b36-94dc-409e-b75e-7199bfa19c23"
      },
      "source": [
        "Model | Val Loss | Val Accuracy | Param # in recurrent layer(s)\n",
        ":-:|:-:|:-:|:-:\n",
        "Simple RNN | 3.0749 | 0.2775 | 10,304\n",
        "LSTM | 1.8509 | 0.5329 | 41,216\n",
        "GRU | ? | ? | ?\n",
        "Stacked RNN | ? | ? | ?\n",
        "Bidirectional RNN | ? | ? | ?"
      ]
    },
    {
      "cell_type": "markdown",
      "id": "afcf1c14-3475-4f37-8e03-034268c2da83",
      "metadata": {
        "id": "afcf1c14-3475-4f37-8e03-034268c2da83"
      },
      "source": [
        "Make a copy of the table. Referring to the execution outputs of the above models, fill in the validation results and numbers of parameters in the recurrent layer(s) for each model in the table. For the stacked LSTM model, give the total number of parameters in the 2 LSTM layers."
      ]
    },
    {
      "cell_type": "markdown",
      "id": "8c2e86a4-3ef2-4056-a923-723c7458c974",
      "metadata": {
        "id": "8c2e86a4-3ef2-4056-a923-723c7458c974"
      },
      "source": [
        "Solution:\n",
        "\n",
        "Model | Val Loss | Val Accuracy | Param # in recurrent layer(s)\n",
        ":-:|:-:|:-:|:-:\n",
        "Simple RNN | 3.0749 | 0.2775 | 10,304\n",
        "LSTM | 1.8509 | 0.5329 | 41,216\n",
        "GRU | 2.2853 | 0.4609 | 31,104\n",
        "Stacked RNN | 1.9873 | 0.5130 | 41216 + 33024 = 74,240\n",
        "Bidirectional RNN | 1.9293 | 0.5201 | 82,432"
      ]
    },
    {
      "cell_type": "markdown",
      "id": "4b1bd24c-177c-42ad-bea8-019833572061",
      "metadata": {
        "id": "4b1bd24c-177c-42ad-bea8-019833572061"
      },
      "source": [
        "## &#x2766;"
      ]
    },
    {
      "cell_type": "markdown",
      "id": "87e5bd15-74e8-458c-9525-8187e575fd85",
      "metadata": {
        "id": "87e5bd15-74e8-458c-9525-8187e575fd85"
      },
      "source": [
        "# Extras\n",
        "\n",
        "In this section, we use a recurrent network to generate text of a hopefully meaningful passage."
      ]
    },
    {
      "cell_type": "markdown",
      "id": "8e6bb08f-6f80-48ee-bb39-6ba6b381d04d",
      "metadata": {
        "id": "8e6bb08f-6f80-48ee-bb39-6ba6b381d04d"
      },
      "source": [
        "## Text generation"
      ]
    },
    {
      "cell_type": "markdown",
      "id": "e9098913-7814-4b5b-acbe-625a715949a3",
      "metadata": {
        "id": "e9098913-7814-4b5b-acbe-625a715949a3"
      },
      "source": [
        "Text can be generated word by word using a recurrent network model, which is trained to predict, or generate, the next word from a given sequence of words. To train the model, we use a long text, such as a fiction, as training examples. A training example is a run of $n+1$ consecutive words, where the first $n$ words (a sequence) are the features, and the final word is the label.\n",
        "\n",
        "When the model has been trained, text is generated by specifying some seed text as features to predict the next word, appending the new word to the seed text and repeating the prediction; the process continues until enough words have been generated. In text generation, we do not always select the \"best\" word which has the highest predicted probability. It is desirable to apply some randomness in choosing the generated word so that the generated contents have some variations.\n",
        "\n",
        "Let's look at the code. The following code loads the text from a file and cleans up the text."
      ]
    },
    {
      "cell_type": "code",
      "execution_count": null,
      "id": "54551311-4f06-4c23-b5fd-1375f7304e67",
      "metadata": {
        "id": "54551311-4f06-4c23-b5fd-1375f7304e67",
        "tags": []
      },
      "outputs": [],
      "source": [
        "import re\n",
        "\n",
        "START_PATTERN = r\"\\*\\*\\* START OF THE PROJECT GUTENBERG EBOOK .* \\*\\*\\*\"\n",
        "END_PATTERN = r\"\\*\\*\\* END OF THE PROJECT GUTENBERG EBOOK .* \\*\\*\\*\"\n",
        "PUNCTUATION_PATTERN = '([!\"#$%&\\'()*+,-./:;<=>?@[\\\\]^_`{|}~])'\n",
        "\n",
        "def load_and_cleanup_text(filename):\n",
        "    with open(filename) as f:\n",
        "        text = f.read()\n",
        "    start = re.search(START_PATTERN, text).end()\n",
        "    stop = re.search(END_PATTERN, text).start()\n",
        "    text = text[start:stop]     # remove gutenbery header and footer\n",
        "    text = text.lower()         # convert to lowercase\n",
        "    text = re.sub(PUNCTUATION_PATTERN, r\" \\1 \", text)\n",
        "                                # remove punctuation\n",
        "    text = text.replace(\"\\n\", \" \")   # convert end-of-lines to spaces\n",
        "    text = re.sub(\"  +\", \" \", text)  # clean consecutive spaces\n",
        "    text = text.strip()         # remove beginning and ending spaces\n",
        "    return text"
      ]
    },
    {
      "cell_type": "markdown",
      "id": "4c9ef716-5938-4a74-910e-9858555a38ca",
      "metadata": {
        "id": "4c9ef716-5938-4a74-910e-9858555a38ca"
      },
      "source": [
        "These are some import statements and constant definitions."
      ]
    },
    {
      "cell_type": "code",
      "execution_count": null,
      "id": "74f148e3-bc1c-4747-9ea9-be35792ead27",
      "metadata": {
        "id": "74f148e3-bc1c-4747-9ea9-be35792ead27",
        "tags": []
      },
      "outputs": [],
      "source": [
        "import numpy as np\n",
        "from tensorflow import keras\n",
        "from tensorflow.keras import layers\n",
        "from tensorflow.keras.preprocessing import sequence\n",
        "from tensorflow.keras.preprocessing.text import Tokenizer\n",
        "from tensorflow.keras.utils import to_categorical\n",
        "\n",
        "NUM_WORDS = 5000    # how many most frequent words in the corpus to use\n",
        "NUM_SKIP_WORDS = 0  # how many stop words to skip\n",
        "WV_SIZE = 96        # word vector size, 96D, each vector having 96 values\n",
        "SEQ_LEN = 20        # standardized length of text after padding/truncating"
      ]
    },
    {
      "cell_type": "markdown",
      "id": "fb05be66-e1c8-4826-a03d-31647e1f5115",
      "metadata": {
        "id": "fb05be66-e1c8-4826-a03d-31647e1f5115"
      },
      "source": [
        "This function tokenizes the text, i.e. breaking the text into words."
      ]
    },
    {
      "cell_type": "code",
      "execution_count": null,
      "id": "3ea4277a-076b-4c05-b143-b08e63315c7a",
      "metadata": {
        "id": "3ea4277a-076b-4c05-b143-b08e63315c7a",
        "tags": []
      },
      "outputs": [],
      "source": [
        "def tokenize_text(text):\n",
        "    tokenizer = Tokenizer(num_words=NUM_WORDS, filters=\"\")\n",
        "    tokenizer.fit_on_texts([text])\n",
        "    token_list = tokenizer.texts_to_sequences([text])[0]\n",
        "    return tokenizer, token_list"
      ]
    },
    {
      "cell_type": "markdown",
      "id": "abc5e307-66a5-40a4-a6c9-594e04ffb4a9",
      "metadata": {
        "id": "abc5e307-66a5-40a4-a6c9-594e04ffb4a9"
      },
      "source": [
        "This function generates a dataset of examples from the text."
      ]
    },
    {
      "cell_type": "code",
      "execution_count": null,
      "id": "6b1fee90-cc60-4ce0-aa12-f22294b08dfa",
      "metadata": {
        "id": "6b1fee90-cc60-4ce0-aa12-f22294b08dfa",
        "tags": []
      },
      "outputs": [],
      "source": [
        "def generate_text_dataset(token_list):\n",
        "    X, y = [], []\n",
        "    for i in range(0, len(token_list) - SEQ_LEN):\n",
        "        X.append(token_list[i: i + SEQ_LEN])\n",
        "        y.append(token_list[i + SEQ_LEN])\n",
        "    y = to_categorical(y, num_classes = NUM_WORDS)\n",
        "    return np.array(X), np.array(y)"
      ]
    },
    {
      "cell_type": "markdown",
      "id": "bfeaa0d7-5bd9-4b5b-8a25-cb54a2d6f2e9",
      "metadata": {
        "id": "bfeaa0d7-5bd9-4b5b-8a25-cb54a2d6f2e9"
      },
      "source": [
        "We use the text of Alice's Adventures in Wonderland by Lewis Carroll to train the model. This shell command downloads the text from the Project Gutenbery website."
      ]
    },
    {
      "cell_type": "code",
      "execution_count": null,
      "id": "216fe599-2f27-46e8-a49a-e20263e2307a",
      "metadata": {
        "colab": {
          "base_uri": "https://localhost:8080/"
        },
        "id": "216fe599-2f27-46e8-a49a-e20263e2307a",
        "outputId": "3f54f630-5771-4dae-a441-6ff6ca60bd36"
      },
      "outputs": [
        {
          "name": "stdout",
          "output_type": "stream",
          "text": [
            "  % Total    % Received % Xferd  Average Speed   Time    Time     Time  Current\n",
            "                                 Dload  Upload   Total   Spent    Left  Speed\n",
            "100  170k  100  170k    0     0   382k      0 --:--:-- --:--:-- --:--:--  383k\n"
          ]
        }
      ],
      "source": [
        "![ -f alice.txt ] || curl -o alice.txt \\\n",
        "https://www.gutenberg.org/cache/epub/11/pg11.txt"
      ]
    },
    {
      "cell_type": "markdown",
      "id": "3f2e28de-443e-4c44-8942-cca2ae435658",
      "metadata": {
        "id": "3f2e28de-443e-4c44-8942-cca2ae435658"
      },
      "source": [
        "This code loads the text and prepares the dataset. Then, it creates, configures, and trains a model."
      ]
    },
    {
      "cell_type": "code",
      "execution_count": null,
      "id": "ad7a0f38-0871-45a2-98a9-1a083ef75aac",
      "metadata": {
        "colab": {
          "base_uri": "https://localhost:8080/"
        },
        "id": "ad7a0f38-0871-45a2-98a9-1a083ef75aac",
        "outputId": "9ecc282a-3e50-4b80-96ec-48f446756db5",
        "tags": []
      },
      "outputs": [
        {
          "name": "stdout",
          "output_type": "stream",
          "text": [
            "Epoch 1/20\n",
            "1032/1032 [==============================] - 36s 32ms/step - loss: 6.0020 - acc: 0.0896\n",
            "Epoch 2/20\n",
            "1032/1032 [==============================] - 17s 17ms/step - loss: 5.2746 - acc: 0.1416\n",
            "Epoch 3/20\n",
            "1032/1032 [==============================] - 17s 16ms/step - loss: 4.8664 - acc: 0.1673\n",
            "Epoch 4/20\n",
            "1032/1032 [==============================] - 16s 16ms/step - loss: 4.5330 - acc: 0.1928\n",
            "Epoch 5/20\n",
            "1032/1032 [==============================] - 16s 16ms/step - loss: 4.2684 - acc: 0.2103\n",
            "Epoch 6/20\n",
            "1032/1032 [==============================] - 17s 16ms/step - loss: 4.0452 - acc: 0.2288\n",
            "Epoch 7/20\n",
            "1032/1032 [==============================] - 16s 15ms/step - loss: 3.8419 - acc: 0.2443\n",
            "Epoch 8/20\n",
            "1032/1032 [==============================] - 17s 16ms/step - loss: 3.6578 - acc: 0.2584\n",
            "Epoch 9/20\n",
            "1032/1032 [==============================] - 16s 16ms/step - loss: 3.4825 - acc: 0.2757\n",
            "Epoch 10/20\n",
            "1032/1032 [==============================] - 16s 16ms/step - loss: 3.3199 - acc: 0.2927\n",
            "Epoch 11/20\n",
            "1032/1032 [==============================] - 16s 16ms/step - loss: 3.1690 - acc: 0.3087\n",
            "Epoch 12/20\n",
            "1032/1032 [==============================] - 17s 16ms/step - loss: 3.0209 - acc: 0.3314\n",
            "Epoch 13/20\n",
            "1032/1032 [==============================] - 16s 16ms/step - loss: 2.8889 - acc: 0.3491\n",
            "Epoch 14/20\n",
            "1032/1032 [==============================] - 16s 16ms/step - loss: 2.7615 - acc: 0.3726\n",
            "Epoch 15/20\n",
            "1032/1032 [==============================] - 16s 15ms/step - loss: 2.6438 - acc: 0.3953\n",
            "Epoch 16/20\n",
            "1032/1032 [==============================] - 17s 16ms/step - loss: 2.5426 - acc: 0.4131\n",
            "Epoch 17/20\n",
            "1032/1032 [==============================] - 16s 16ms/step - loss: 2.4396 - acc: 0.4298\n",
            "Epoch 18/20\n",
            "1032/1032 [==============================] - 16s 15ms/step - loss: 2.3493 - acc: 0.4501\n",
            "Epoch 19/20\n",
            "1032/1032 [==============================] - 16s 16ms/step - loss: 2.2633 - acc: 0.4659\n",
            "Epoch 20/20\n",
            "1032/1032 [==============================] - 16s 16ms/step - loss: 2.1838 - acc: 0.4814\n"
          ]
        }
      ],
      "source": [
        "keras.utils.set_random_seed(42)\n",
        "text = load_and_cleanup_text(\"alice.txt\")\n",
        "tokenizer, token_list = tokenize_text(text)\n",
        "X, y = generate_text_dataset(token_list)\n",
        "\n",
        "model = keras.Sequential([\n",
        "    layers.Embedding(NUM_WORDS, WV_SIZE, input_length=SEQ_LEN),\n",
        "    layers.LSTM(128, dropout=0.2),\n",
        "    layers.Dense(NUM_WORDS, activation=\"softmax\")\n",
        "])\n",
        "\n",
        "model.compile(loss=\"categorical_crossentropy\", optimizer=\"adam\",\n",
        "              metrics=[\"acc\"])\n",
        "history = model.fit(X, y, epochs=20, batch_size=32)"
      ]
    },
    {
      "cell_type": "markdown",
      "id": "b4ab70e8-bef8-415c-b85a-433b1a09a74b",
      "metadata": {
        "id": "b4ab70e8-bef8-415c-b85a-433b1a09a74b"
      },
      "source": [
        "The `sample_word()` function below selects, or samples, a word from the available words with predicted probabilities. The temperature parameter is a value between 0.0 and 1.0. A small temperature value further emphasizes the highest predicted probability and makes word selection more deterministic, while a large temperature value lets word selection follow the predicted probabilities with relatively more variations."
      ]
    },
    {
      "cell_type": "code",
      "execution_count": null,
      "id": "32314388-fc06-4125-bcae-4837fc545a8b",
      "metadata": {
        "id": "32314388-fc06-4125-bcae-4837fc545a8b",
        "tags": []
      },
      "outputs": [],
      "source": [
        "def sample_word(preds, temperature):\n",
        "    preds = np.asarray(preds).astype(\"float64\")\n",
        "    preds = np.log(preds + np.finfo(\"float64\").eps) / temperature\n",
        "    exp_preds = np.exp(preds)\n",
        "    preds = exp_preds / np.sum(exp_preds)\n",
        "    probs = np.random.multinomial(1, preds, 1)\n",
        "    return np.argmax(probs)"
      ]
    },
    {
      "cell_type": "markdown",
      "id": "b09f77d1-5214-444f-b361-a7070f77486c",
      "metadata": {
        "id": "b09f77d1-5214-444f-b361-a7070f77486c"
      },
      "source": [
        "This function actually generates the words using the trained model."
      ]
    },
    {
      "cell_type": "code",
      "execution_count": null,
      "id": "f8a25978-3e9d-4721-9a13-66482a5438ce",
      "metadata": {
        "id": "f8a25978-3e9d-4721-9a13-66482a5438ce",
        "tags": []
      },
      "outputs": [],
      "source": [
        "def generate_text(seed_text, num_gen_words, model, tokenizer, temperature):\n",
        "    padding = \". \" * SEQ_LEN  # handle too short seed text\n",
        "    seed_text = padding + seed_text\n",
        "    text = seed_text\n",
        "    for i in range(num_gen_words):\n",
        "        token_list = tokenizer.texts_to_sequences([seed_text])[0]\n",
        "        token_list = token_list[-SEQ_LEN:]\n",
        "        token_list = np.reshape(token_list, (1, SEQ_LEN))\n",
        "        probs = model.predict(token_list, verbose=0)[0]\n",
        "        word_idx = sample_word(probs, temperature)\n",
        "        word = tokenizer.index_word[word_idx] if word_idx > 0 else \"\"\n",
        "        seed_text += word + \" \"\n",
        "        text += word + \" \"\n",
        "    return text[len(padding):]"
      ]
    },
    {
      "cell_type": "markdown",
      "id": "27ae0975-05af-4ed1-941c-e0881def33ef",
      "metadata": {
        "id": "27ae0975-05af-4ed1-941c-e0881def33ef"
      },
      "source": [
        "Three passages are generated below, with temperature values of 1.0, 0.5 and 0.2."
      ]
    },
    {
      "cell_type": "code",
      "execution_count": null,
      "id": "19902b1b-77c3-4880-9308-50f5746867ee",
      "metadata": {
        "colab": {
          "base_uri": "https://localhost:8080/",
          "height": 166
        },
        "id": "19902b1b-77c3-4880-9308-50f5746867ee",
        "outputId": "5879219d-ed75-451e-b0aa-de8e18dbb465",
        "tags": []
      },
      "outputs": [
        {
          "data": {
            "application/vnd.google.colaboratory.intrinsic+json": {
              "type": "string"
            },
            "text/plain": [
              "'good morning , ” continued the king to the mock turtle . “i’m afraid what makes the world ! ” alice added ; “but those mean , of not me shoes about particular ? ” thought the duchess , “till the jurymen is very frightened at this , that she did not dare to be involved that or day for this p found it was like . said the duchess : “we’re all come back into a fashion , that’s all , i father only thing when i can’t get to my , for time five was just come at me upon this affair , then , it hall , saying to two almost walk the earth lessons by all . “oh , you had heard a long inside , ” thought alice , in a hatter in the air . “are i you mean it round the last witness . ” added alice . “reeling and writhing , digging of mustard , ” the hatter went on , without considering of it all brightened up with little cakes there was all like her ; quite only out of this , saying every . first , you finished , ” said the '"
            ]
          },
          "execution_count": 35,
          "metadata": {},
          "output_type": "execute_result"
        }
      ],
      "source": [
        "generate_text(\"good morning \", 200, model, tokenizer, 1.0)"
      ]
    },
    {
      "cell_type": "code",
      "execution_count": null,
      "id": "aa497dc3-0262-44c2-8be9-95dcaf5e556f",
      "metadata": {
        "colab": {
          "base_uri": "https://localhost:8080/",
          "height": 166
        },
        "id": "aa497dc3-0262-44c2-8be9-95dcaf5e556f",
        "outputId": "f7d47d81-d3fa-4438-e329-e6b4e02c1ca0",
        "tags": []
      },
      "outputs": [
        {
          "data": {
            "application/vnd.google.colaboratory.intrinsic+json": {
              "type": "string"
            },
            "text/plain": [
              "'good morning you’ve taken write you ? ” alice replied very readily . “i mean you , ” said the mock turtle . “seals , turtles , salmon , that , i should put it away ! ” “ah , please , for all the same - thing i’ve got ! ” said the queen , who seemed to be full of the officers of the garden . ” and they got on the verses , and began whistling . “why , ” said the dodo . “fetch me a whiting , ” said the mock turtle . alice was not much frightened and the same thing , but it over it so long as she had never put such a pleasant thing of it . ) presently she was a little scream of laughter . alice waited patiently until she noticed it would be afraid of interrupting him , and she ; “some of the jurors were saying to the game . ” alice did not dare to disobey , and had grown so much contradicted in this time in a minute or two . she was not much surprised at it , and she was still muttering to her : '"
            ]
          },
          "execution_count": 36,
          "metadata": {},
          "output_type": "execute_result"
        }
      ],
      "source": [
        "generate_text(\"good morning \", 200, model, tokenizer, 0.5)"
      ]
    },
    {
      "cell_type": "code",
      "execution_count": null,
      "id": "ed951d20-62f9-4dc3-b3d7-8001d7b1edf5",
      "metadata": {
        "colab": {
          "base_uri": "https://localhost:8080/",
          "height": 166
        },
        "id": "ed951d20-62f9-4dc3-b3d7-8001d7b1edf5",
        "outputId": "013b3753-949a-4544-aa3f-fac953a295b3",
        "tags": []
      },
      "outputs": [
        {
          "data": {
            "application/vnd.google.colaboratory.intrinsic+json": {
              "type": "string"
            },
            "text/plain": [
              "'good morning you’ve washing _ you _ , ” said the hatter . “i don’t know it , ” said the mock turtle . “certainly not , ” said the caterpillar . alice looked at the top of the blades of grass , and looked at the gryphon , and the gryphon was looking at the door , and she went on , “—likely to win , and reduced the waters of the nile on every golden scale ! who stole me ! ” the duchess said , turning to the jury , who instantly made the list of singers the song , and the dormouse was sitting on the ground all the white rabbit , who was peeping anxiously into the distance , and tumbled eyes immediately met in the distance . she did not like the look of the singers . the dormouse shook his head impatiently , and the hatter was the hatter , and the hatter was the white rabbit , trotting slowly on the middle , and knocked . “there’s a curious plan , ” said the duchess . “i never wouldn’t be so proud as it , ” said the mock turtle , “but i can’t '"
            ]
          },
          "execution_count": 37,
          "metadata": {},
          "output_type": "execute_result"
        }
      ],
      "source": [
        "generate_text(\"good morning \", 200, model, tokenizer, 0.2)"
      ]
    },
    {
      "cell_type": "markdown",
      "id": "c785bbd2-9dc4-49e0-ac12-eeb21fb5bbe9",
      "metadata": {
        "id": "c785bbd2-9dc4-49e0-ac12-eeb21fb5bbe9"
      },
      "source": [
        "### E1a\n",
        "\n",
        "Create another model to be trained using the text of Frankenstein, by Mary Wollstonecraft Shelley. The text can be downloaded using the following shell command."
      ]
    },
    {
      "cell_type": "code",
      "execution_count": null,
      "id": "45439d2e-3c97-41dd-a960-00b1fce4484b",
      "metadata": {
        "colab": {
          "base_uri": "https://localhost:8080/"
        },
        "id": "45439d2e-3c97-41dd-a960-00b1fce4484b",
        "outputId": "dc5bdc1a-3931-4a04-f2e9-50059e67b44b"
      },
      "outputs": [
        {
          "name": "stdout",
          "output_type": "stream",
          "text": [
            "  % Total    % Received % Xferd  Average Speed   Time    Time     Time  Current\n",
            "                                 Dload  Upload   Total   Spent    Left  Speed\n",
            "100  438k  100  438k    0     0   993k      0 --:--:-- --:--:-- --:--:--  994k\n"
          ]
        }
      ],
      "source": [
        "![ -f frankenstein.txt ] || curl -o frankenstein.txt \\\n",
        "https://www.gutenberg.org/cache/epub/84/pg84.txt"
      ]
    },
    {
      "cell_type": "markdown",
      "id": "db48ca13-c07d-4216-a0d9-a67cece8a2ef",
      "metadata": {
        "id": "db48ca13-c07d-4216-a0d9-a67cece8a2ef"
      },
      "source": [
        "### E1b\n",
        "\n",
        "Generate 3 passages using this model with temperature values of 1.0, 0.5, and 0.2."
      ]
    },
    {
      "cell_type": "markdown",
      "id": "40944d33-3566-437c-aa4e-e77d518bd743",
      "metadata": {
        "id": "40944d33-3566-437c-aa4e-e77d518bd743"
      },
      "source": [
        "## Solutions to extra exercises"
      ]
    },
    {
      "cell_type": "markdown",
      "id": "6ae0a276-3b60-443f-9d00-5018805174e1",
      "metadata": {
        "id": "6ae0a276-3b60-443f-9d00-5018805174e1",
        "tags": []
      },
      "source": [
        "### E1a"
      ]
    },
    {
      "cell_type": "code",
      "execution_count": null,
      "id": "8dbae46c-d372-4481-800c-44eefea6068c",
      "metadata": {
        "colab": {
          "base_uri": "https://localhost:8080/"
        },
        "id": "8dbae46c-d372-4481-800c-44eefea6068c",
        "outputId": "d821485a-2692-4c23-ba1f-e73d52930c52",
        "tags": []
      },
      "outputs": [
        {
          "name": "stdout",
          "output_type": "stream",
          "text": [
            "Epoch 1/20\n",
            "2587/2587 [==============================] - 57s 21ms/step - loss: 5.9225 - acc: 0.1013\n",
            "Epoch 2/20\n",
            "2587/2587 [==============================] - 43s 17ms/step - loss: 5.2544 - acc: 0.1500\n",
            "Epoch 3/20\n",
            "2587/2587 [==============================] - 43s 17ms/step - loss: 4.9280 - acc: 0.1742\n",
            "Epoch 4/20\n",
            "2587/2587 [==============================] - 43s 17ms/step - loss: 4.6751 - acc: 0.1890\n",
            "Epoch 5/20\n",
            "2587/2587 [==============================] - 43s 17ms/step - loss: 4.4481 - acc: 0.2013\n",
            "Epoch 6/20\n",
            "2587/2587 [==============================] - 43s 17ms/step - loss: 4.2460 - acc: 0.2129\n",
            "Epoch 7/20\n",
            "2587/2587 [==============================] - 43s 17ms/step - loss: 4.0565 - acc: 0.2266\n",
            "Epoch 8/20\n",
            "2587/2587 [==============================] - 47s 18ms/step - loss: 3.8806 - acc: 0.2406\n",
            "Epoch 9/20\n",
            "2587/2587 [==============================] - 43s 16ms/step - loss: 3.7149 - acc: 0.2559\n",
            "Epoch 10/20\n",
            "2587/2587 [==============================] - 44s 17ms/step - loss: 3.5597 - acc: 0.2735\n",
            "Epoch 11/20\n",
            "2587/2587 [==============================] - 43s 17ms/step - loss: 3.4193 - acc: 0.2895\n",
            "Epoch 12/20\n",
            "2587/2587 [==============================] - 43s 16ms/step - loss: 3.2887 - acc: 0.3086\n",
            "Epoch 13/20\n",
            "2587/2587 [==============================] - 44s 17ms/step - loss: 3.1698 - acc: 0.3259\n",
            "Epoch 14/20\n",
            "2587/2587 [==============================] - 43s 17ms/step - loss: 3.0629 - acc: 0.3404\n",
            "Epoch 15/20\n",
            "2587/2587 [==============================] - 43s 17ms/step - loss: 2.9607 - acc: 0.3561\n",
            "Epoch 16/20\n",
            "2587/2587 [==============================] - 44s 17ms/step - loss: 2.8689 - acc: 0.3711\n",
            "Epoch 17/20\n",
            "2587/2587 [==============================] - 43s 17ms/step - loss: 2.7815 - acc: 0.3853\n",
            "Epoch 18/20\n",
            "2587/2587 [==============================] - 43s 17ms/step - loss: 2.7061 - acc: 0.4002\n",
            "Epoch 19/20\n",
            "2587/2587 [==============================] - 43s 16ms/step - loss: 2.6360 - acc: 0.4108\n",
            "Epoch 20/20\n",
            "2587/2587 [==============================] - 42s 16ms/step - loss: 2.5696 - acc: 0.4239\n"
          ]
        }
      ],
      "source": [
        "keras.utils.set_random_seed(42)\n",
        "text = load_and_cleanup_text(\"frankenstein.txt\")\n",
        "tokenizer, token_list = tokenize_text(text)\n",
        "X, y = generate_text_dataset(token_list)\n",
        "\n",
        "model = keras.Sequential([\n",
        "    layers.Embedding(NUM_WORDS, WV_SIZE, input_length=SEQ_LEN),\n",
        "    layers.LSTM(128, dropout=0.2),\n",
        "    layers.Dense(NUM_WORDS, activation=\"softmax\")\n",
        "])\n",
        "\n",
        "model.compile(loss=\"categorical_crossentropy\", optimizer=\"adam\",\n",
        "              metrics=[\"acc\"])\n",
        "history = model.fit(X, y, epochs=20, batch_size=32)"
      ]
    },
    {
      "cell_type": "markdown",
      "id": "26ba3186-cb40-4ba9-8d74-b4a0d04f8927",
      "metadata": {
        "id": "26ba3186-cb40-4ba9-8d74-b4a0d04f8927",
        "tags": []
      },
      "source": [
        "### E1b"
      ]
    },
    {
      "cell_type": "code",
      "execution_count": null,
      "id": "c4e1775e-d304-4ad1-9e2f-df0a284091e6",
      "metadata": {
        "colab": {
          "base_uri": "https://localhost:8080/",
          "height": 185
        },
        "id": "c4e1775e-d304-4ad1-9e2f-df0a284091e6",
        "outputId": "0bff37b3-19a4-45a7-8b07-bd18554838cd",
        "tags": []
      },
      "outputs": [
        {
          "data": {
            "application/vnd.google.colaboratory.intrinsic+json": {
              "type": "string"
            },
            "text/plain": [
              "'good morning , “it , the wondrous and opened , with the wilds of the light to the garden , and she down to see playing with animation , nearly afterwards about clerval to me in the cabin of receiving . yet why without my misfortunes i have been possessed by that manner by a thousand minute , and must see himself to inflict otherwise who feared , then i found this shelter . o human light are and conciliating and happy ; i was educated by one of , and despite the ardour of that he heard that i were into the discoveries of the impossible . yet i showed vessels them round my chief person had high , they scream , my property , which was absolutely blunt violent ; all seemed to me from his present , which he lay on the stillness of which , on its discovery necessary that the fiend was ; the lost lasted of the death succeed , and the dashing of the nearly passion from which which otherwise stood fled to them , which his visits are indeed more bound than happy who will have right to any light of murder . but '"
            ]
          },
          "execution_count": 40,
          "metadata": {},
          "output_type": "execute_result"
        }
      ],
      "source": [
        "generate_text(\"good morning \", 200, model, tokenizer, 1.0)"
      ]
    },
    {
      "cell_type": "code",
      "execution_count": null,
      "id": "ff0aef84-fe7d-4127-9774-e5e131a75bff",
      "metadata": {
        "colab": {
          "base_uri": "https://localhost:8080/",
          "height": 166
        },
        "id": "ff0aef84-fe7d-4127-9774-e5e131a75bff",
        "outputId": "783480f4-4ffb-430a-e743-411ad0543062",
        "tags": []
      },
      "outputs": [
        {
          "data": {
            "application/vnd.google.colaboratory.intrinsic+json": {
              "type": "string"
            },
            "text/plain": [
              "'good morning the high mountains of the town met a turk , and i will defend my determination . i confess that i have no ties and persuade myself on the lives of my being ; but when i thought that i will not be and feeble . ” i trembled violently and i had suffered right , and i withdrew by the cabin . i was on the spot where the body had not been employed , and in the midst of national and professional prejudices , unsoftened by joy , and spent in the most beautiful of the family , but the green hills want and abhorred . the old man , leaving the first hour of his companions , i perceived that the night before not not yet calm . he was the same candour , and the youth rose , and she beheld my mind as her friends , to her own sister , and which i had left to be repaired to the land of lucerne and . in the meantime he took up the instrument of some , which had drifted across the fields of the land of singular land . i saw the lectures and '"
            ]
          },
          "execution_count": 41,
          "metadata": {},
          "output_type": "execute_result"
        }
      ],
      "source": [
        "generate_text(\"good morning \", 200, model, tokenizer, 0.5)"
      ]
    },
    {
      "cell_type": "code",
      "execution_count": null,
      "id": "0af0c753-233a-46e3-b8da-298abf76be2e",
      "metadata": {
        "colab": {
          "base_uri": "https://localhost:8080/",
          "height": 166
        },
        "id": "0af0c753-233a-46e3-b8da-298abf76be2e",
        "outputId": "d2f1777b-82d4-49ff-81d4-0ce4486ede4d",
        "tags": []
      },
      "outputs": [
        {
          "data": {
            "application/vnd.google.colaboratory.intrinsic+json": {
              "type": "string"
            },
            "text/plain": [
              "'good morning , “for the dæmon , i perceived the crowd where the moon had given life , but i had no cause for the same . i had risen , i had no right to share their intercourse . my life was indeed , and i could not help believing that i had lost some other wickedness . i have wandered out of the town for a few moments i had formerly endured . i have no friend , but i was unable to discover that the wind of day , and the lives of my destruction . i shall proceed with a letter on the prospect which i cannot yet imagine . you will rejoice to take place a little proud and perhaps , but i am not so selfish and dear as the of your fellow creatures . ” i trembled , and i could not bring myself to the whole town , of the same time awakened to the solid advantage of mankind . ” i trembled violently and , and i could not answer by the of the town , for i first saw him , and the result of my father were misfortunes to the study '"
            ]
          },
          "execution_count": 42,
          "metadata": {},
          "output_type": "execute_result"
        }
      ],
      "source": [
        "generate_text(\"good morning \", 200, model, tokenizer, 0.2)"
      ]
    },
    {
      "cell_type": "markdown",
      "id": "8968b885-3956-4757-b1a9-7a9673e70298",
      "metadata": {
        "id": "8968b885-3956-4757-b1a9-7a9673e70298"
      },
      "source": [
        "## &#x2766;"
      ]
    }
  ],
  "metadata": {
    "accelerator": "GPU",
    "colab": {
      "gpuType": "T4",
      "provenance": []
    },
    "kernelspec": {
      "display_name": "Python 3 (ipykernel)",
      "language": "python",
      "name": "python3"
    },
    "language_info": {
      "codemirror_mode": {
        "name": "ipython",
        "version": 3
      },
      "file_extension": ".py",
      "mimetype": "text/x-python",
      "name": "python",
      "nbconvert_exporter": "python",
      "pygments_lexer": "ipython3",
      "version": "3.11.5"
    }
  },
  "nbformat": 4,
  "nbformat_minor": 5
}
